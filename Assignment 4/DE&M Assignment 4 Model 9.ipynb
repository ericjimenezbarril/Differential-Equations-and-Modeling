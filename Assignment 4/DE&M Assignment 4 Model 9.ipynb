{
 "cells": [
  {
   "cell_type": "code",
   "execution_count": 1,
   "metadata": {},
   "outputs": [],
   "source": [
    "# Pràctica 4\n"
   ]
  },
  {
   "cell_type": "code",
   "execution_count": 2,
   "metadata": {},
   "outputs": [],
   "source": [
    "# Model 9\n",
    "#  Segons la llei d'acció de masses de Guldberg-Waage, la velocitat\n",
    "# d'una reacció química, és a dir, la quantitat de substància obtinguda\n",
    "# o transformada per unitat de temps, és proporcional al producte de\n",
    "# les quantitats de substàncies que reaccionen en cada moment.\n",
    "# Suposem que es combinen 60 grams d'una determinada substància A\n",
    "# amb 30 grams d'una substància B per formar-ne un compost C.\n",
    "# Suposem que, perquè es formin 5 grams de C, es necessiten tres\n",
    "# grams de A i dos de B. Determineu la quantitat de substància\n",
    "# C que hi ha en funció del temps. Quina quantitat màxima de\n",
    "# substància C s'obtindrà?\n"
   ]
  },
  {
   "cell_type": "code",
   "execution_count": 3,
   "metadata": {},
   "outputs": [],
   "source": [
    "# Si comencem amb 60 grams de A i 30 de B i cada 3 grams de A es combinen amb 2 de B, aleshores podem\n",
    "# calcular simplement que el limitador principal és la quantitat de B que acota la reacció. Els 30 grams de B es\n",
    "# combinaran amb 45 grams de A per formar un total de 75 grams de C. Per tant la velocitat de A(t) es 3/2 la de B(t)\n",
    "# \n",
    "# I tenim que A(t)=60-3/2*(30-B(t)).\n",
    "#\n",
    "# La quantitat que queda de A es 60 menys 3/2 vegades la quantitat que queda de B. Quan en una unitat de temps \n",
    "# han reaccionat 2 unitats de B, i en queden 28, també han reaccionat 3 unitats de A i en queden 57. \n",
    "#\n",
    "# I pel que fa a la velocitat de reacció de B tenim que \n",
    "# B'(t)= k*A(t)*B(t)\n",
    "# \n",
    "# Per tant B'(t)=k*(60-3/2*(30-B(t)))*B(t)"
   ]
  },
  {
   "cell_type": "code",
   "execution_count": 47,
   "metadata": {},
   "outputs": [
    {
     "data": {
      "text/plain": [
       "3/2*(B + 10)*B*k"
      ]
     },
     "execution_count": 47,
     "metadata": {},
     "output_type": "execute_result"
    }
   ],
   "source": [
    "var(\"B t k _C\");fun=k*(60-3/2*(30-B))*B;fun"
   ]
  },
  {
   "cell_type": "code",
   "execution_count": 45,
   "metadata": {},
   "outputs": [
    {
     "data": {
      "text/plain": [
       "-1/15*(log(B1(t) + 10) - log(B1(t)))/k == _C + t"
      ]
     },
     "execution_count": 45,
     "metadata": {},
     "output_type": "execute_result"
    }
   ],
   "source": [
    "B1=function(\"B1\")(t);sol=desolve(diff(B1,t)==k*(60-3/2*(30-B1))*B1,[B1,t]);sol"
   ]
  },
  {
   "cell_type": "code",
   "execution_count": 48,
   "metadata": {},
   "outputs": [
    {
     "data": {
      "text/plain": [
       "[log(B1(t)) == 15*_C*k + 15*k*t + log(B1(t) + 10)]"
      ]
     },
     "execution_count": 48,
     "metadata": {},
     "output_type": "execute_result"
    }
   ],
   "source": [
    "assume(B1(t)>0);solve(sol,B1(t))"
   ]
  },
  {
   "cell_type": "code",
   "execution_count": 49,
   "metadata": {},
   "outputs": [
    {
     "data": {
      "text/plain": [
       "log(B1(t)/(B1(t) + 10)) == 15*_C*k + 15*k*t"
      ]
     },
     "execution_count": 49,
     "metadata": {},
     "output_type": "execute_result"
    }
   ],
   "source": [
    "log(B1(t)/(B1(t) + 10)) == 15*_C*k + 15*k*t"
   ]
  },
  {
   "cell_type": "code",
   "execution_count": 50,
   "metadata": {},
   "outputs": [
    {
     "data": {
      "text/plain": [
       "B1(t)/(B1(t) + 10) == e^(15*_C*k + 15*k*t)"
      ]
     },
     "execution_count": 50,
     "metadata": {},
     "output_type": "execute_result"
    }
   ],
   "source": [
    "B1(t)/(B1(t) + 10) == exp(15*_C*k + 15*k*t)"
   ]
  },
  {
   "cell_type": "code",
   "execution_count": 51,
   "metadata": {},
   "outputs": [],
   "source": [
    "sol2=solve(_,B1(t))"
   ]
  },
  {
   "cell_type": "code",
   "execution_count": 52,
   "metadata": {},
   "outputs": [
    {
     "data": {
      "text/plain": [
       "[B1(t) == -10*e^(15*_C*k + 15*k*t)/(e^(15*_C*k + 15*k*t) - 1)]"
      ]
     },
     "execution_count": 52,
     "metadata": {},
     "output_type": "execute_result"
    }
   ],
   "source": [
    "sol2"
   ]
  },
  {
   "cell_type": "code",
   "execution_count": 53,
   "metadata": {},
   "outputs": [],
   "source": [
    "eq1=sol2[0].rhs().substitute(t=0)==30"
   ]
  },
  {
   "cell_type": "code",
   "execution_count": 54,
   "metadata": {},
   "outputs": [
    {
     "data": {
      "text/plain": [
       "[-10*e^(15*_C*k)/(e^(15*_C*k) - 1) == 30,\n",
       " -10*e^(15*_C*k + 15*k)/(e^(15*_C*k + 15*k) - 1) == 28]"
      ]
     },
     "execution_count": 54,
     "metadata": {},
     "output_type": "execute_result"
    }
   ],
   "source": [
    "eq2=sol2[0].rhs().substitute(t=1)==28;[eq1,eq2]"
   ]
  },
  {
   "cell_type": "code",
   "execution_count": 55,
   "metadata": {},
   "outputs": [
    {
     "data": {
      "text/plain": [
       "[[_C == (-2*I*pi*z62 - log(3/4))/(log(3/4) - log(14/19)), k == -1/15*log(3/4) + 1/15*log(14/19)]]"
      ]
     },
     "execution_count": 55,
     "metadata": {},
     "output_type": "execute_result"
    }
   ],
   "source": [
    "solve([eq1,eq2],[_C,k])"
   ]
  },
  {
   "cell_type": "code",
   "execution_count": 56,
   "metadata": {},
   "outputs": [
    {
     "data": {
      "text/plain": [
       "-10*e^(-_C*(log(3/4) - log(14/19)))/(e^(-_C*(log(3/4) - log(14/19))) - 1) == 30"
      ]
     },
     "execution_count": 56,
     "metadata": {},
     "output_type": "execute_result"
    }
   ],
   "source": [
    "eq3=sol2[0].rhs().substitute(t=0,k = -1/15*log(3/4) + 1/15*log(14/19))==30;eq3"
   ]
  },
  {
   "cell_type": "code",
   "execution_count": 57,
   "metadata": {},
   "outputs": [
    {
     "data": {
      "text/plain": [
       "[_C == log(4/3)/(log(3/4) - log(14/19))]"
      ]
     },
     "execution_count": 57,
     "metadata": {},
     "output_type": "execute_result"
    }
   ],
   "source": [
    "solve(_,_C)"
   ]
  },
  {
   "cell_type": "code",
   "execution_count": 58,
   "metadata": {},
   "outputs": [],
   "source": [
    "B1(t)=sol2[0].rhs().substitute(k = -1/15*log(3/4) + 1/15*log(14/19),_C = log(4/3)/(log(3/4) - log(14/19)))"
   ]
  },
  {
   "cell_type": "code",
   "execution_count": 59,
   "metadata": {},
   "outputs": [
    {
     "data": {
      "text/plain": [
       "-10*e^(-t*(log(3/4) - log(14/19)) - log(4/3))/(e^(-t*(log(3/4) - log(14/19)) - log(4/3)) - 1)"
      ]
     },
     "execution_count": 59,
     "metadata": {},
     "output_type": "execute_result"
    }
   ],
   "source": [
    "B1(t)"
   ]
  },
  {
   "cell_type": "code",
   "execution_count": 32,
   "metadata": {},
   "outputs": [
    {
     "data": {
      "image/png": "[encoded data removed]",
      "text/plain": [
       "Graphics object consisting of 3 graphics primitives"
      ]
     },
     "execution_count": 32,
     "metadata": {},
     "output_type": "execute_result"
    }
   ],
   "source": [
    "plotB=plot(B1(t),(t,0,100));\n",
    "A(t)=60-3/2*(30-B1(t));\n",
    "plotA=plot(A(t),(t,0,100),color=\"red\");\n",
    "C(t)=5/2*(30-B1(t));\n",
    "plotC=plot(C(t),(t,0,100),color=\"green\");\n",
    "plotA+plotB+plotC"
   ]
  },
  {
   "cell_type": "code",
   "execution_count": 56,
   "metadata": {},
   "outputs": [],
   "source": [
    "# Que cambia si augmentem la quantitat de A?"
   ]
  },
  {
   "cell_type": "code",
   "execution_count": 60,
   "metadata": {},
   "outputs": [
    {
     "data": {
      "text/plain": [
       "3/2*(B + 30)*B*k"
      ]
     },
     "execution_count": 60,
     "metadata": {},
     "output_type": "execute_result"
    }
   ],
   "source": [
    "var(\"B t k\");fun=k*(90-3/2*(30-B))*B;fun"
   ]
  },
  {
   "cell_type": "code",
   "execution_count": 61,
   "metadata": {},
   "outputs": [
    {
     "data": {
      "text/plain": [
       "[log(B2(t)) == 45*_C*k + 45*k*t + log(B2(t) + 30)]"
      ]
     },
     "execution_count": 61,
     "metadata": {},
     "output_type": "execute_result"
    }
   ],
   "source": [
    "B2=function(\"B2\")(t);sol=desolve(diff(B2,t)==k*(90-3/2*(30-B2))*B2,[B2,t]);\n",
    "assume(B2(t)>0);solve(sol,B2(t))"
   ]
  },
  {
   "cell_type": "code",
   "execution_count": 62,
   "metadata": {},
   "outputs": [
    {
     "data": {
      "text/plain": [
       "log(B2(t)/(B2(t) + 30)) == 45*_C*k + 45*k*t"
      ]
     },
     "execution_count": 62,
     "metadata": {},
     "output_type": "execute_result"
    }
   ],
   "source": [
    "log(B2(t)/(B2(t) + 30))== 45*_C*k + 45*k*t"
   ]
  },
  {
   "cell_type": "code",
   "execution_count": 63,
   "metadata": {},
   "outputs": [
    {
     "data": {
      "text/plain": [
       "B2(t)/(B2(t) + 30) == e^(45*_C*k + 45*k*t)"
      ]
     },
     "execution_count": 63,
     "metadata": {},
     "output_type": "execute_result"
    }
   ],
   "source": [
    "B2(t)/(B2(t) + 30)== exp(45*_C*k + 45*k*t)"
   ]
  },
  {
   "cell_type": "code",
   "execution_count": 64,
   "metadata": {},
   "outputs": [
    {
     "data": {
      "text/plain": [
       "[B2(t) == -30*e^(45*_C*k + 45*k*t)/(e^(45*_C*k + 45*k*t) - 1)]"
      ]
     },
     "execution_count": 64,
     "metadata": {},
     "output_type": "execute_result"
    }
   ],
   "source": [
    "sol3=solve(_,B2(t));sol3"
   ]
  },
  {
   "cell_type": "code",
   "execution_count": 65,
   "metadata": {},
   "outputs": [],
   "source": [
    "eq1=sol3[0].rhs().substitute(t=0)==30"
   ]
  },
  {
   "cell_type": "code",
   "execution_count": 66,
   "metadata": {},
   "outputs": [],
   "source": [
    "eq2=sol3[0].rhs().substitute(t=1)==28"
   ]
  },
  {
   "cell_type": "code",
   "execution_count": 67,
   "metadata": {},
   "outputs": [
    {
     "data": {
      "text/plain": [
       "[[_C == (2*I*pi*z72 - log(2))/(log(2) + log(14/29)), k == 1/45*log(2) + 1/45*log(14/29)]]"
      ]
     },
     "execution_count": 67,
     "metadata": {},
     "output_type": "execute_result"
    }
   ],
   "source": [
    "solve([eq1,eq2],[_C,k])"
   ]
  },
  {
   "cell_type": "code",
   "execution_count": 68,
   "metadata": {},
   "outputs": [
    {
     "data": {
      "text/plain": [
       "-30*e^(_C*(log(2) + log(14/29)))/(e^(_C*(log(2) + log(14/29))) - 1) == 30"
      ]
     },
     "execution_count": 68,
     "metadata": {},
     "output_type": "execute_result"
    }
   ],
   "source": [
    "eq3=sol3[0].rhs().substitute(t=0,k = 1/45*log(2) + 1/45*log(14/29))==30;eq3"
   ]
  },
  {
   "cell_type": "code",
   "execution_count": 69,
   "metadata": {},
   "outputs": [
    {
     "data": {
      "text/plain": [
       "[_C == -log(2)/(log(2) + log(14/29))]"
      ]
     },
     "execution_count": 69,
     "metadata": {},
     "output_type": "execute_result"
    }
   ],
   "source": [
    "solve(_,_C)"
   ]
  },
  {
   "cell_type": "code",
   "execution_count": 70,
   "metadata": {},
   "outputs": [],
   "source": [
    "B2(t)=sol3[0].rhs().substitute(k = 1/45*log(2) + 1/45*log(14/29),_C = -log(2)/(log(2) + log(14/29)))"
   ]
  },
  {
   "cell_type": "code",
   "execution_count": 71,
   "metadata": {},
   "outputs": [
    {
     "data": {
      "image/png": "[encoded data removed]",
      "text/plain": [
       "Graphics object consisting of 2 graphics primitives"
      ]
     },
     "execution_count": 71,
     "metadata": {},
     "output_type": "execute_result"
    }
   ],
   "source": [
    "plotB2=plot(B2(t),(t,0,100),color=\"purple\");plotB+plotB2"
   ]
  },
  {
   "cell_type": "code",
   "execution_count": null,
   "metadata": {},
   "outputs": [],
   "source": []
  }
 ],
 "metadata": {
  "kernelspec": {
   "display_name": "SageMath 9.1",
   "language": "sage",
   "name": "sagemath"
  },
  "language_info": {
   "codemirror_mode": {
    "name": "ipython",
    "version": 3
   },
   "file_extension": ".py",
   "mimetype": "text/x-python",
   "name": "python",
   "nbconvert_exporter": "python",
   "pygments_lexer": "ipython3",
   "version": "3.7.3"
  }
 },
 "nbformat": 4,
 "nbformat_minor": 2
}
