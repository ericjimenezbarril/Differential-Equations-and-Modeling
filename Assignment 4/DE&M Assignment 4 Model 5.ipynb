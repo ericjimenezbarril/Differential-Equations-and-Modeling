{
 "cells": [
  {
   "cell_type": "code",
   "execution_count": 2,
   "metadata": {},
   "outputs": [],
   "source": [
    "# Pràctica 4\n"
   ]
  },
  {
   "cell_type": "code",
   "execution_count": 3,
   "metadata": {},
   "outputs": [],
   "source": [
    "# Model 5\n",
    "# Neva amb regularitat. A les 12 hores surten les màquines\n",
    "# de treure la neu, que treuen la mateixa quantitat de neu per espai\n",
    "# de temps. Si en la primera hora  de treball recorren el mateix espai\n",
    "# que en les dues hores següents, a quina hora ha començat a\n",
    "# nevar? I si la dada fos que en la segona hora ha recorregut la\n",
    "# meitat de la primera?\n"
   ]
  },
  {
   "cell_type": "code",
   "execution_count": 4,
   "metadata": {},
   "outputs": [],
   "source": [
    "# L'alçada de la neu en un temps t > 0 és h(t)= h(0) + k t, o bé h(t)= k(t+t0) on t0 és el temps que ha passat \n",
    "# des de que ha començat a nevar i les 12, i t és el temps que ha passat des de les 12:00.\n",
    "# \n",
    "# La velocitat es v(t)=x(t)/t. La quantitat de neu que treiem es Q(t)=x(t)*h(t). \n",
    "# Per tant v(t)=Q(t)/(h(t)*t)= (Q(t)/t) * (1/h(t)). \n",
    "#\n",
    "# Si diem que la quantitat de neu que treiem per unitat de temps és constant, aleshores Q(t)/t=K. \n",
    "#\n",
    "# Per tant, la velocitat en cada punt serà inversament proporcional a la quantitat de neu acumulada en aquell punt. \n",
    "# A més alçada menys velocitat.\n",
    "#\n",
    "# v(t)= K/h(t)\n",
    "#\n",
    "# Per altre costat \n",
    "#\n",
    "# v(t)= dx/dt\n",
    "#\n",
    "# Per tant \n",
    "#\n",
    "# dx/dt=m/(t+t0) on m=K/k\n",
    "#\n",
    "# Mirem de resoldre les equacions diferencials sense ajuda del SAGE\n",
    "#"
   ]
  },
  {
   "cell_type": "code",
   "execution_count": 81,
   "metadata": {},
   "outputs": [],
   "source": [
    "var(\"x t dx dt t0 m\");eq1=dx/dt==m/(t+t0)"
   ]
  },
  {
   "cell_type": "code",
   "execution_count": 82,
   "metadata": {},
   "outputs": [],
   "source": [
    "# Mirem si podem separar variables\n"
   ]
  },
  {
   "cell_type": "code",
   "execution_count": 83,
   "metadata": {},
   "outputs": [
    {
     "data": {
      "text/plain": [
       "[dx == dt*m/(t + t0)]"
      ]
     },
     "execution_count": 83,
     "metadata": {},
     "output_type": "execute_result"
    }
   ],
   "source": [
    "solve(eq1,dx)"
   ]
  },
  {
   "cell_type": "code",
   "execution_count": 84,
   "metadata": {},
   "outputs": [],
   "source": [
    "# Mirem si podem factoritzar la part dreta\n"
   ]
  },
  {
   "cell_type": "code",
   "execution_count": 85,
   "metadata": {},
   "outputs": [
    {
     "data": {
      "text/plain": [
       "dt*m/(t + t0)"
      ]
     },
     "execution_count": 85,
     "metadata": {},
     "output_type": "execute_result"
    }
   ],
   "source": [
    "factor(_[0].rhs())"
   ]
  },
  {
   "cell_type": "code",
   "execution_count": 86,
   "metadata": {},
   "outputs": [],
   "source": [
    "# Passem totes les x's a l'esquerra i ara si ens ajudem del SAGE per fer les integrals, tot i que aquestes son trivials\n",
    "\n",
    "# Recordem sempre d'afegir una constant. No cal una a cada banda. Actuen com una de sola.\n"
   ]
  },
  {
   "cell_type": "code",
   "execution_count": 87,
   "metadata": {},
   "outputs": [
    {
     "data": {
      "text/plain": [
       "x == m*log(t + t0) + c1"
      ]
     },
     "execution_count": 87,
     "metadata": {},
     "output_type": "execute_result"
    }
   ],
   "source": [
    "var(\"c1\");integrate(1,x)==integrate(m/(t+t0),t)+c1"
   ]
  },
  {
   "cell_type": "code",
   "execution_count": 88,
   "metadata": {},
   "outputs": [],
   "source": [
    "# Ho ajuntem tot en una sola equació igualada a zero\n"
   ]
  },
  {
   "cell_type": "code",
   "execution_count": 89,
   "metadata": {},
   "outputs": [],
   "source": [
    "sol=(_).lhs()-(_).rhs()"
   ]
  },
  {
   "cell_type": "code",
   "execution_count": 90,
   "metadata": {},
   "outputs": [
    {
     "data": {
      "text/plain": [
       "-m*log(t + t0) - c1 + x"
      ]
     },
     "execution_count": 90,
     "metadata": {},
     "output_type": "execute_result"
    }
   ],
   "source": [
    "sol"
   ]
  },
  {
   "cell_type": "code",
   "execution_count": 91,
   "metadata": {},
   "outputs": [],
   "source": [
    "# Mirem d'expresar-ho en termes de x com a funció de t\n"
   ]
  },
  {
   "cell_type": "code",
   "execution_count": 92,
   "metadata": {},
   "outputs": [
    {
     "data": {
      "text/plain": [
       "[x == m*log(t + t0) + c1]"
      ]
     },
     "execution_count": 92,
     "metadata": {},
     "output_type": "execute_result"
    }
   ],
   "source": [
    "sol2=solve(sol,x);sol2"
   ]
  },
  {
   "cell_type": "code",
   "execution_count": 93,
   "metadata": {},
   "outputs": [
    {
     "data": {
      "text/plain": [
       "-m*log(t + t0) - c1 + x"
      ]
     },
     "execution_count": 93,
     "metadata": {},
     "output_type": "execute_result"
    }
   ],
   "source": [
    "sol3=(_)[0].lhs()-(_)[0].rhs();sol3"
   ]
  },
  {
   "cell_type": "code",
   "execution_count": 19,
   "metadata": {},
   "outputs": [],
   "source": [
    "# Ara possem les condicions, a les 12:00 (t=0) engegem màquines x(0)=0. \n",
    "# Una hora més tard hem recorregut una distància x(1), i dues hores més tard x(3), el mateix que a la primera hora\n",
    "# És a dir x(3)=2*x(1).\n",
    "#\n",
    "#\n"
   ]
  },
  {
   "cell_type": "code",
   "execution_count": 94,
   "metadata": {},
   "outputs": [
    {
     "data": {
      "text/plain": [
       "-m*log(t0) - c1"
      ]
     },
     "execution_count": 94,
     "metadata": {},
     "output_type": "execute_result"
    }
   ],
   "source": [
    "sol3.substitute(t=0,x=0)"
   ]
  },
  {
   "cell_type": "code",
   "execution_count": 95,
   "metadata": {},
   "outputs": [
    {
     "data": {
      "text/plain": [
       "[c1 == -m*log(t0)]"
      ]
     },
     "execution_count": 95,
     "metadata": {},
     "output_type": "execute_result"
    }
   ],
   "source": [
    "sol_c1=solve(_==0,c1);sol_c1"
   ]
  },
  {
   "cell_type": "code",
   "execution_count": 96,
   "metadata": {},
   "outputs": [],
   "source": [
    "# Per resoldre el problema no ens cal coneixer la m"
   ]
  },
  {
   "cell_type": "code",
   "execution_count": 98,
   "metadata": {},
   "outputs": [
    {
     "data": {
      "text/plain": [
       "m*log(t0 + 1) - m*log(t0)"
      ]
     },
     "execution_count": 98,
     "metadata": {},
     "output_type": "execute_result"
    }
   ],
   "source": [
    "x1=sol2[0].rhs().substitute(c1=sol_c1[0].rhs(),t=1);x1"
   ]
  },
  {
   "cell_type": "code",
   "execution_count": 99,
   "metadata": {},
   "outputs": [
    {
     "data": {
      "text/plain": [
       "m*log(t0 + 3) - m*log(t0)"
      ]
     },
     "execution_count": 99,
     "metadata": {},
     "output_type": "execute_result"
    }
   ],
   "source": [
    "x3=sol2[0].rhs().substitute(c1=sol_c1[0].rhs(),t=3);x3"
   ]
  },
  {
   "cell_type": "code",
   "execution_count": 100,
   "metadata": {},
   "outputs": [
    {
     "data": {
      "text/plain": [
       "m*log(t0 + 3) - m*log(t0) == 2*m*log(t0 + 1) - 2*m*log(t0)"
      ]
     },
     "execution_count": 100,
     "metadata": {},
     "output_type": "execute_result"
    }
   ],
   "source": [
    "x3==2*x1"
   ]
  },
  {
   "cell_type": "code",
   "execution_count": 101,
   "metadata": {},
   "outputs": [
    {
     "data": {
      "text/plain": [
       "m*log(t0 + 3) - 2*m*log(t0 + 1) + m*log(t0)"
      ]
     },
     "execution_count": 101,
     "metadata": {},
     "output_type": "execute_result"
    }
   ],
   "source": [
    "simplify(x3-2*x1)"
   ]
  },
  {
   "cell_type": "code",
   "execution_count": 102,
   "metadata": {},
   "outputs": [
    {
     "data": {
      "text/plain": [
       "[log(t0) == -log(t0 + 3) + 2*log(t0 + 1)]"
      ]
     },
     "execution_count": 102,
     "metadata": {},
     "output_type": "execute_result"
    }
   ],
   "source": [
    "assume(t0>0);sol4=solve(simplify(x3-2*x1)==0,t0);sol4"
   ]
  },
  {
   "cell_type": "code",
   "execution_count": 103,
   "metadata": {},
   "outputs": [
    {
     "data": {
      "text/plain": [
       "t0"
      ]
     },
     "execution_count": 103,
     "metadata": {},
     "output_type": "execute_result"
    }
   ],
   "source": [
    "e^sol4[0].lhs()"
   ]
  },
  {
   "cell_type": "code",
   "execution_count": 104,
   "metadata": {},
   "outputs": [
    {
     "data": {
      "text/plain": [
       "(t0 + 1)^2/(t0 + 3)"
      ]
     },
     "execution_count": 104,
     "metadata": {},
     "output_type": "execute_result"
    }
   ],
   "source": [
    "simplify(e^sol4[0].rhs())"
   ]
  },
  {
   "cell_type": "code",
   "execution_count": 105,
   "metadata": {},
   "outputs": [
    {
     "data": {
      "text/plain": [
       "[t0 == 1]"
      ]
     },
     "execution_count": 105,
     "metadata": {},
     "output_type": "execute_result"
    }
   ],
   "source": [
    "solve(e^sol4[0].lhs()==simplify(e^sol4[0].rhs()),t0)"
   ]
  },
  {
   "cell_type": "code",
   "execution_count": 30,
   "metadata": {},
   "outputs": [],
   "source": [
    "# Ajudant al SAGE he aconseguit la solució. Ha començat a nevar a les 11:00\n",
    "\n",
    "# Si en lloc de les primeres condicions, tenim que \n",
    "# en la segona hora ha recorregut la meitat que en la primera, aleshores x(2)=3*x(1)/2. Per tant\n"
   ]
  },
  {
   "cell_type": "code",
   "execution_count": 106,
   "metadata": {},
   "outputs": [
    {
     "data": {
      "text/plain": [
       "m*log(t0 + 2) - m*log(t0)"
      ]
     },
     "execution_count": 106,
     "metadata": {},
     "output_type": "execute_result"
    }
   ],
   "source": [
    "x2=sol2[0].rhs().substitute(c1=sol_c1[0].rhs(),t=2);x2"
   ]
  },
  {
   "cell_type": "code",
   "execution_count": 107,
   "metadata": {},
   "outputs": [
    {
     "data": {
      "text/plain": [
       "m*log(t0 + 2) - m*log(t0) == 3/2*m*log(t0 + 1) - 3/2*m*log(t0)"
      ]
     },
     "execution_count": 107,
     "metadata": {},
     "output_type": "execute_result"
    }
   ],
   "source": [
    "x2==3*x1/2"
   ]
  },
  {
   "cell_type": "code",
   "execution_count": 108,
   "metadata": {},
   "outputs": [
    {
     "data": {
      "text/plain": [
       "m*log(t0 + 2) - 3/2*m*log(t0 + 1) + 1/2*m*log(t0)"
      ]
     },
     "execution_count": 108,
     "metadata": {},
     "output_type": "execute_result"
    }
   ],
   "source": [
    "simplify(x2-3*x1/2)"
   ]
  },
  {
   "cell_type": "code",
   "execution_count": 109,
   "metadata": {},
   "outputs": [
    {
     "data": {
      "text/plain": [
       "[log(t0) == -2*log(t0 + 2) + 3*log(t0 + 1)]"
      ]
     },
     "execution_count": 109,
     "metadata": {},
     "output_type": "execute_result"
    }
   ],
   "source": [
    "assume(t0>0);sol5=solve(simplify(x2-3*x1/2)==0,t0);sol5"
   ]
  },
  {
   "cell_type": "code",
   "execution_count": 110,
   "metadata": {},
   "outputs": [
    {
     "data": {
      "text/plain": [
       "t0"
      ]
     },
     "execution_count": 110,
     "metadata": {},
     "output_type": "execute_result"
    }
   ],
   "source": [
    "e^sol5[0].lhs()"
   ]
  },
  {
   "cell_type": "code",
   "execution_count": 111,
   "metadata": {},
   "outputs": [
    {
     "data": {
      "text/plain": [
       "[t0 == 1/2*sqrt(5) - 1/2]"
      ]
     },
     "execution_count": 111,
     "metadata": {},
     "output_type": "execute_result"
    }
   ],
   "source": [
    "solve(e^sol5[0].lhs()==simplify(e^sol5[0].rhs()),t0)"
   ]
  },
  {
   "cell_type": "code",
   "execution_count": 112,
   "metadata": {},
   "outputs": [
    {
     "data": {
      "text/plain": [
       "0.618033988749895"
      ]
     },
     "execution_count": 112,
     "metadata": {},
     "output_type": "execute_result"
    }
   ],
   "source": [
    "t00=_[0].rhs().n();t00"
   ]
  },
  {
   "cell_type": "code",
   "execution_count": 113,
   "metadata": {},
   "outputs": [
    {
     "data": {
      "text/plain": [
       "-22.9179606750063"
      ]
     },
     "execution_count": 113,
     "metadata": {},
     "output_type": "execute_result"
    }
   ],
   "source": [
    "t00*60%60"
   ]
  },
  {
   "cell_type": "code",
   "execution_count": 114,
   "metadata": {},
   "outputs": [
    {
     "data": {
      "text/plain": [
       "-0.917960675006306"
      ]
     },
     "execution_count": 114,
     "metadata": {},
     "output_type": "execute_result"
    }
   ],
   "source": [
    "t00*60%60+22"
   ]
  },
  {
   "cell_type": "code",
   "execution_count": 115,
   "metadata": {},
   "outputs": [
    {
     "data": {
      "text/plain": [
       "4.92235949962165"
      ]
     },
     "execution_count": 115,
     "metadata": {},
     "output_type": "execute_result"
    }
   ],
   "source": [
    "(t00*60%60+22)*60%60"
   ]
  },
  {
   "cell_type": "code",
   "execution_count": 116,
   "metadata": {},
   "outputs": [
    {
     "data": {
      "text/plain": [
       "55.0776405003784"
      ]
     },
     "execution_count": 116,
     "metadata": {},
     "output_type": "execute_result"
    }
   ],
   "source": [
    "60-_"
   ]
  },
  {
   "cell_type": "code",
   "execution_count": 117,
   "metadata": {},
   "outputs": [],
   "source": [
    "# Ha començat a nevar a les 11:22:55:08 en centèssimes de segon.\n",
    "#\n",
    "# Fixeu-vos que per fer aquest exercici no necessitem saber la intensitat amb la que neva (la constant k), \n",
    "# ni la velocitat inicial de la màquina (v[0]=m/t0), ni la quantitat de neu que treu la màquina per unitat de \n",
    "# temps (K). Però de la mateixa manera que no ens calen, tampoc les podem esbrinar amb les dades que tenim.\n",
    "#"
   ]
  },
  {
   "cell_type": "code",
   "execution_count": null,
   "metadata": {},
   "outputs": [],
   "source": []
  }
 ],
 "metadata": {
  "kernelspec": {
   "display_name": "SageMath 9.1",
   "language": "sage",
   "name": "sagemath"
  },
  "language_info": {
   "codemirror_mode": {
    "name": "ipython",
    "version": 3
   },
   "file_extension": ".py",
   "mimetype": "text/x-python",
   "name": "python",
   "nbconvert_exporter": "python",
   "pygments_lexer": "ipython3",
   "version": "3.7.3"
  }
 },
 "nbformat": 4,
 "nbformat_minor": 2
}
