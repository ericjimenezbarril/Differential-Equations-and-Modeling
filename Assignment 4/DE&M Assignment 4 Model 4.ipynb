{
 "cells": [
  {
   "cell_type": "code",
   "execution_count": 1,
   "metadata": {},
   "outputs": [],
   "source": [
    "# Pràctica 4\n"
   ]
  },
  {
   "cell_type": "code",
   "execution_count": 2,
   "metadata": {},
   "outputs": [],
   "source": [
    "# Model 4\n",
    "# Es suposa que la pressió d'una columna d'aire vertical en\n",
    "# una secció donada depèn només de la pressió de les capes\n",
    "# superiors. Trobar la relació entre la pressió i l'altitud si es\n",
    "# sap que la pressió al nivell del mar és de 1 Kg./cm^2, i de\n",
    "# 0.94 Kg./cm^2 a 500 metres d'alçada. Indicació: La llei de\n",
    "# Marriot diu que la densitat d'un gas és proporcional a la seva\n",
    "# pressió.\n"
   ]
  },
  {
   "cell_type": "code",
   "execution_count": null,
   "metadata": {},
   "outputs": [],
   "source": [
    "# La pressió en un punt serà la pressió en un punt proper més baix menys la quantitat de gas que hi hagi en el \n",
    "# diferencial d' alçada que els separa \n",
    "#\n",
    "# P1 == P0 - c dh\n",
    "#\n",
    "# Per tant la diferencia de pressions també serà un diferencial dP == c dh\n",
    "#\n",
    "# La quantitat de gas que hi ha en una secció fixada d'una columna d'alçada diferencial, es densitat per alçada. \n",
    "# Per tant la \"c\" és la densitat. I si diem que la  densitat es proporcional a la pressió a la que està sotmés el gas, \n",
    "# tenim que c = k P. Per tant\n",
    "#\n",
    "#  dP/dh= k P\n",
    "#\n",
    "# Mirem de resoldre les equacions diferencials sense ajuda del SAGE\n",
    "#"
   ]
  },
  {
   "cell_type": "code",
   "execution_count": 53,
   "metadata": {},
   "outputs": [],
   "source": [
    "var(\"P h dP dh k\");eq1=dP/dh==k*P"
   ]
  },
  {
   "cell_type": "code",
   "execution_count": 54,
   "metadata": {},
   "outputs": [],
   "source": [
    "# Mirem si podem separar variables\n"
   ]
  },
  {
   "cell_type": "code",
   "execution_count": 55,
   "metadata": {},
   "outputs": [
    {
     "data": {
      "text/plain": [
       "[dP == P*dh*k]"
      ]
     },
     "execution_count": 55,
     "metadata": {},
     "output_type": "execute_result"
    }
   ],
   "source": [
    "solve(eq1,dP)"
   ]
  },
  {
   "cell_type": "code",
   "execution_count": 56,
   "metadata": {},
   "outputs": [],
   "source": [
    "# Mirem si podem factoritzar la part dreta\n"
   ]
  },
  {
   "cell_type": "code",
   "execution_count": 57,
   "metadata": {},
   "outputs": [
    {
     "data": {
      "text/plain": [
       "P*dh*k"
      ]
     },
     "execution_count": 57,
     "metadata": {},
     "output_type": "execute_result"
    }
   ],
   "source": [
    "factor(_[0].rhs())"
   ]
  },
  {
   "cell_type": "code",
   "execution_count": 58,
   "metadata": {},
   "outputs": [],
   "source": [
    "# Passem totes les P's a l'esquerra i ara si ens ajudem del SAGE per fer les integrals, tot i que aquestes son trivials\n",
    "\n",
    "# Recordem sempre d'afegir una constant. No cal una a cada banda. Actuen com una de sola.\n"
   ]
  },
  {
   "cell_type": "code",
   "execution_count": 59,
   "metadata": {},
   "outputs": [
    {
     "data": {
      "text/plain": [
       "log(P) == h*k + c1"
      ]
     },
     "execution_count": 59,
     "metadata": {},
     "output_type": "execute_result"
    }
   ],
   "source": [
    "var(\"c1\");integrate(1/P,P)==integrate(k,h)+c1"
   ]
  },
  {
   "cell_type": "code",
   "execution_count": 60,
   "metadata": {},
   "outputs": [],
   "source": [
    "# Ho ajuntem tot en una sola equació igualada a zero\n"
   ]
  },
  {
   "cell_type": "code",
   "execution_count": 61,
   "metadata": {},
   "outputs": [],
   "source": [
    "sol=(_).lhs()-(_).rhs()"
   ]
  },
  {
   "cell_type": "code",
   "execution_count": 62,
   "metadata": {},
   "outputs": [
    {
     "data": {
      "text/plain": [
       "-h*k - c1 + log(P)"
      ]
     },
     "execution_count": 62,
     "metadata": {},
     "output_type": "execute_result"
    }
   ],
   "source": [
    "sol"
   ]
  },
  {
   "cell_type": "code",
   "execution_count": 63,
   "metadata": {},
   "outputs": [],
   "source": [
    "# Mirem d'expresar-ho en termes de P com a funció de h\n"
   ]
  },
  {
   "cell_type": "code",
   "execution_count": 64,
   "metadata": {},
   "outputs": [
    {
     "data": {
      "text/plain": [
       "[P == e^(h*k + c1)]"
      ]
     },
     "execution_count": 64,
     "metadata": {},
     "output_type": "execute_result"
    }
   ],
   "source": [
    "sol2=solve(sol,P);sol2"
   ]
  },
  {
   "cell_type": "code",
   "execution_count": 47,
   "metadata": {},
   "outputs": [
    {
     "data": {
      "text/plain": [
       "P - e^(h*k + c1)"
      ]
     },
     "execution_count": 47,
     "metadata": {},
     "output_type": "execute_result"
    }
   ],
   "source": [
    "sol3=(_)[0].lhs()-(_)[0].rhs();sol3"
   ]
  },
  {
   "cell_type": "code",
   "execution_count": 121,
   "metadata": {},
   "outputs": [],
   "source": [
    "# Ara possem les condicions, a l'alçada 0 tenim que P(0)=1 i a l'alçada 500 tenim P(500)=0.94. \n",
    "# Ho podriem fer directament a la integral i estalviar-nos la constant\n"
   ]
  },
  {
   "cell_type": "code",
   "execution_count": 65,
   "metadata": {},
   "outputs": [
    {
     "data": {
      "text/plain": [
       "-0.06187540371808753 == 500*k"
      ]
     },
     "execution_count": 65,
     "metadata": {},
     "output_type": "execute_result"
    }
   ],
   "source": [
    "integ=integrate(1/P,P,1,0.94)==integrate(k,h,0,500);integ"
   ]
  },
  {
   "cell_type": "code",
   "execution_count": 66,
   "metadata": {},
   "outputs": [],
   "source": [
    "# i calcular directament la k"
   ]
  },
  {
   "cell_type": "code",
   "execution_count": 67,
   "metadata": {},
   "outputs": [
    {
     "data": {
      "text/plain": [
       "[k == (-3458687/27948803500)]"
      ]
     },
     "execution_count": 67,
     "metadata": {},
     "output_type": "execute_result"
    }
   ],
   "source": [
    "sol_k=solve(integ,k);sol_k"
   ]
  },
  {
   "cell_type": "code",
   "execution_count": 68,
   "metadata": {},
   "outputs": [
    {
     "data": {
      "text/plain": [
       "e^c1"
      ]
     },
     "execution_count": 68,
     "metadata": {},
     "output_type": "execute_result"
    }
   ],
   "source": [
    "sol2[0].rhs().substitute(k=sol_k[0].rhs(),h=0)"
   ]
  },
  {
   "cell_type": "code",
   "execution_count": 69,
   "metadata": {},
   "outputs": [
    {
     "data": {
      "text/plain": [
       "[c1 == 0]"
      ]
     },
     "execution_count": 69,
     "metadata": {},
     "output_type": "execute_result"
    }
   ],
   "source": [
    "sol_c1=solve(sol2[0].rhs().substitute(k=sol_k[0].rhs(),h=0)==1,c1);sol_c1"
   ]
  },
  {
   "cell_type": "code",
   "execution_count": 70,
   "metadata": {},
   "outputs": [
    {
     "data": {
      "text/plain": [
       "e^(-3458687/27948803500*h)"
      ]
     },
     "execution_count": 70,
     "metadata": {},
     "output_type": "execute_result"
    }
   ],
   "source": [
    "sol2[0].rhs().substitute(k=sol_k[0].rhs(),c1=0)"
   ]
  },
  {
   "cell_type": "code",
   "execution_count": 206,
   "metadata": {},
   "outputs": [],
   "source": [
    "# Pressió al Everest"
   ]
  },
  {
   "cell_type": "code",
   "execution_count": 52,
   "metadata": {},
   "outputs": [
    {
     "data": {
      "text/plain": [
       "0.334557289776060"
      ]
     },
     "execution_count": 52,
     "metadata": {},
     "output_type": "execute_result"
    }
   ],
   "source": [
    "sol2[0].rhs().substitute(k=sol_k[0].rhs(),c1=sol_c1[0].rhs(),h=8848.)"
   ]
  },
  {
   "cell_type": "code",
   "execution_count": null,
   "metadata": {},
   "outputs": [],
   "source": []
  }
 ],
 "metadata": {
  "kernelspec": {
   "display_name": "SageMath 9.1",
   "language": "sage",
   "name": "sagemath"
  },
  "language_info": {
   "codemirror_mode": {
    "name": "ipython",
    "version": 3
   },
   "file_extension": ".py",
   "mimetype": "text/x-python",
   "name": "python",
   "nbconvert_exporter": "python",
   "pygments_lexer": "ipython3",
   "version": "3.7.3"
  }
 },
 "nbformat": 4,
 "nbformat_minor": 2
}
