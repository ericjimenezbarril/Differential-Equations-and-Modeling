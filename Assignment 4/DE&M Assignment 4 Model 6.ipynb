{
 "cells": [
  {
   "cell_type": "code",
   "execution_count": 1,
   "metadata": {},
   "outputs": [],
   "source": [
    "# Pràctica 4\n"
   ]
  },
  {
   "cell_type": "code",
   "execution_count": 2,
   "metadata": {},
   "outputs": [],
   "source": [
    "# Model 6\n",
    "# Admetent que la resistència que l'aire oposa a la caiguda\n",
    "# d'un paracaigudes és proporcional al quadrat de la seva velocitat,\n",
    "# calculeu l'expressió de la velocitat en funció del temps, i el\n",
    "# límit d'aquesta quan el temps tendeix a infinit.\n",
    "\n"
   ]
  },
  {
   "cell_type": "code",
   "execution_count": null,
   "metadata": {},
   "outputs": [],
   "source": [
    "# La resistència es una força. Hem de plantejar el problema en termes de força. \n",
    "# \n",
    "# La força que experimentarà la persona serà la gravetat menys la resistència de l'aire \n",
    "# que diem que és proporcional al quadrat de la seva velocitat. Per tant la seva velocitat variarà com\n",
    "#\n",
    "# m v'[t] == m g - K v[t]^2\n",
    "#\n",
    "# Mirem de resoldre les equacions diferencials sense ajuda del SAGE\n",
    "#"
   ]
  },
  {
   "cell_type": "code",
   "execution_count": 79,
   "metadata": {},
   "outputs": [],
   "source": [
    "var(\"v t dv dt g m K\");eq1=m*dv/dt==m*g-K*v^2"
   ]
  },
  {
   "cell_type": "code",
   "execution_count": 80,
   "metadata": {},
   "outputs": [],
   "source": [
    "# Mirem si podem separar variables\n"
   ]
  },
  {
   "cell_type": "code",
   "execution_count": 81,
   "metadata": {},
   "outputs": [
    {
     "data": {
      "text/plain": [
       "[dv == -(K*dt*v^2 - dt*g*m)/m]"
      ]
     },
     "execution_count": 81,
     "metadata": {},
     "output_type": "execute_result"
    }
   ],
   "source": [
    "solve(eq1,dv)"
   ]
  },
  {
   "cell_type": "code",
   "execution_count": 82,
   "metadata": {},
   "outputs": [],
   "source": [
    "# Mirem si podem factoritzar la part dreta\n"
   ]
  },
  {
   "cell_type": "code",
   "execution_count": 83,
   "metadata": {},
   "outputs": [
    {
     "data": {
      "text/plain": [
       "-(K*v^2 - g*m)*dt/m"
      ]
     },
     "execution_count": 83,
     "metadata": {},
     "output_type": "execute_result"
    }
   ],
   "source": [
    "factor(_[0].rhs())"
   ]
  },
  {
   "cell_type": "code",
   "execution_count": 84,
   "metadata": {},
   "outputs": [],
   "source": [
    "# Passem totes les v's a l'esquerra i ara si ens ajudem del SAGE per fer les integrals, \n",
    "# i podem reduir una de les constants si diem k=K/m. Ens ajudem del SAGE, la integral \n",
    "# es resolubre manualment però no tan trivial com els casos anteriors.\n",
    "#\n",
    "#    dv/(g*m-K*v^2)= (1/m)dt\n",
    "\n",
    "# Veiem si el SAGE sap resoldre això\n"
   ]
  },
  {
   "cell_type": "code",
   "execution_count": 85,
   "metadata": {},
   "outputs": [
    {
     "data": {
      "text/plain": [
       "-1/2*log((k*v1(t) - sqrt(g*k))/(k*v1(t) + sqrt(g*k)))/sqrt(g*k) == _C + t"
      ]
     },
     "execution_count": 85,
     "metadata": {},
     "output_type": "execute_result"
    }
   ],
   "source": [
    "v1=function('v1')(t);var(\"k\");assume(g*k>0);sol0=desolve(diff(v1,t)==g-k*v1^2,[v1,t]);sol0"
   ]
  },
  {
   "cell_type": "code",
   "execution_count": 86,
   "metadata": {},
   "outputs": [
    {
     "data": {
      "text/html": [
       "<html><script type=\"math/tex; mode=display\">\\newcommand{\\Bold}[1]{\\mathbf{#1}}-\\frac{\\log\\left(\\frac{k v_{1}\\left(t\\right) - \\sqrt{g k}}{k v_{1}\\left(t\\right) + \\sqrt{g k}}\\right)}{2 \\, \\sqrt{g k}} = C + t</script></html>"
      ],
      "text/plain": [
       "-1/2*log((k*v1(t) - sqrt(g*k))/(k*v1(t) + sqrt(g*k)))/sqrt(g*k) == _C + t"
      ]
     },
     "metadata": {},
     "output_type": "display_data"
    }
   ],
   "source": [
    "show(sol0)"
   ]
  },
  {
   "cell_type": "code",
   "execution_count": 87,
   "metadata": {},
   "outputs": [
    {
     "ename": "SyntaxError",
     "evalue": "keyword can't be an expression (<ipython-input-87-bfe64f8f8573>, line 1)",
     "output_type": "error",
     "traceback": [
      "\u001b[0;36m  File \u001b[0;32m\"<ipython-input-87-bfe64f8f8573>\"\u001b[0;36m, line \u001b[0;32m1\u001b[0m\n\u001b[0;31m    sol0.substitute(t=Integer(0),v1(t)=Integer(0))\u001b[0m\n\u001b[0m                                ^\u001b[0m\n\u001b[0;31mSyntaxError\u001b[0m\u001b[0;31m:\u001b[0m keyword can't be an expression\n"
     ]
    }
   ],
   "source": [
    "sol0.substitute(t=0,v1(t)=0)"
   ]
  },
  {
   "cell_type": "code",
   "execution_count": 88,
   "metadata": {},
   "outputs": [
    {
     "data": {
      "text/plain": [
       "[v1(t) == -(sqrt(g*k)*e^(-2*sqrt(g*k)*_C - 2*sqrt(g*k)*t) + sqrt(g*k))/(k*e^(-2*sqrt(g*k)*_C - 2*sqrt(g*k)*t) - k)]"
      ]
     },
     "execution_count": 88,
     "metadata": {},
     "output_type": "execute_result"
    }
   ],
   "source": [
    "solve(sol0,v1(t))"
   ]
  },
  {
   "cell_type": "code",
   "execution_count": 56,
   "metadata": {},
   "outputs": [
    {
     "data": {
      "text/plain": [
       "-1/2*I*pi/sqrt(g*k) == C"
      ]
     },
     "execution_count": 56,
     "metadata": {},
     "output_type": "execute_result"
    }
   ],
   "source": [
    "var(\"C\");-1/2*log((k*0 - sqrt(g*k))/(k*0 + sqrt(g*k)))/sqrt(g*k) == C + 0"
   ]
  },
  {
   "cell_type": "code",
   "execution_count": 89,
   "metadata": {},
   "outputs": [
    {
     "data": {
      "text/plain": [
       "-1/2*log((k*v1(t) - sqrt(g*k))/(k*v1(t) + sqrt(g*k)))/sqrt(g*k) == t - 1/2*I*pi/sqrt(g*k)"
      ]
     },
     "execution_count": 89,
     "metadata": {},
     "output_type": "execute_result"
    }
   ],
   "source": [
    "sol0.substitute(_C=-1/2*I*pi/sqrt(g*k))"
   ]
  },
  {
   "cell_type": "code",
   "execution_count": 90,
   "metadata": {},
   "outputs": [
    {
     "data": {
      "text/plain": [
       "[v1(t) == (sqrt(g*k)*e^(2*sqrt(g*k)*t) - sqrt(g*k))/(k*e^(2*sqrt(g*k)*t) + k)]"
      ]
     },
     "execution_count": 90,
     "metadata": {},
     "output_type": "execute_result"
    }
   ],
   "source": [
    "solve(_,v1(t))"
   ]
  },
  {
   "cell_type": "code",
   "execution_count": 91,
   "metadata": {},
   "outputs": [
    {
     "data": {
      "text/html": [
       "<html><script type=\"math/tex; mode=display\">\\newcommand{\\Bold}[1]{\\mathbf{#1}}\\left[v_{1}\\left(t\\right) = \\frac{\\sqrt{g k} e^{\\left(2 \\, \\sqrt{g k} t\\right)} - \\sqrt{g k}}{k e^{\\left(2 \\, \\sqrt{g k} t\\right)} + k}\\right]</script></html>"
      ],
      "text/plain": [
       "[v1(t) == (sqrt(g*k)*e^(2*sqrt(g*k)*t) - sqrt(g*k))/(k*e^(2*sqrt(g*k)*t) + k)]"
      ]
     },
     "metadata": {},
     "output_type": "display_data"
    }
   ],
   "source": [
    "show(sol)"
   ]
  },
  {
   "cell_type": "code",
   "execution_count": 92,
   "metadata": {},
   "outputs": [
    {
     "data": {
      "text/plain": [
       "(sqrt(g*k)*e^(2*sqrt(g*k)*t) - sqrt(g*k))/(k*e^(2*sqrt(g*k)*t) + k)"
      ]
     },
     "execution_count": 92,
     "metadata": {},
     "output_type": "execute_result"
    }
   ],
   "source": [
    "simplify(sol[0].rhs())"
   ]
  },
  {
   "cell_type": "code",
   "execution_count": 93,
   "metadata": {},
   "outputs": [
    {
     "data": {
      "text/html": [
       "<html><script type=\"math/tex; mode=display\">\\newcommand{\\Bold}[1]{\\mathbf{#1}}\\frac{\\sqrt{g k} {\\left(e^{\\left(2 \\, \\sqrt{g k} t\\right)} - 1\\right)}}{k {\\left(e^{\\left(2 \\, \\sqrt{g k} t\\right)} + 1\\right)}}</script></html>"
      ],
      "text/plain": [
       "sqrt(g*k)*(e^(2*sqrt(g*k)*t) - 1)/(k*(e^(2*sqrt(g*k)*t) + 1))"
      ]
     },
     "metadata": {},
     "output_type": "display_data"
    }
   ],
   "source": [
    "test1=sqrt(g*k)*(e^(2*sqrt(g*k)*t) - 1)/(k*(e^(2*sqrt(g*k)*t) + 1));show(test1)"
   ]
  },
  {
   "cell_type": "code",
   "execution_count": 94,
   "metadata": {},
   "outputs": [
    {
     "data": {
      "text/html": [
       "<html><script type=\"math/tex; mode=display\">\\newcommand{\\Bold}[1]{\\mathbf{#1}}\\frac{\\sqrt{\\frac{g}{k}} {\\left(e^{\\left(\\sqrt{g k} t\\right)} - e^{\\left(-\\sqrt{g k} t\\right)}\\right)}}{e^{\\left(\\sqrt{g k} t\\right)} + e^{\\left(-\\sqrt{g k} t\\right)}}</script></html>"
      ],
      "text/plain": [
       "sqrt(g/k)*(e^(sqrt(g*k)*t) - e^(-sqrt(g*k)*t))/(e^(sqrt(g*k)*t) + e^(-sqrt(g*k)*t))"
      ]
     },
     "metadata": {},
     "output_type": "display_data"
    }
   ],
   "source": [
    "test2=sqrt(g/k)*(e^(sqrt(g*k)*t) -e^(-sqrt(g*k)*t))/(e^(sqrt(g*k)*t) + e^(-sqrt(g*k)*t));show(test2)"
   ]
  },
  {
   "cell_type": "code",
   "execution_count": 97,
   "metadata": {},
   "outputs": [
    {
     "data": {
      "text/plain": [
       "sqrt(g/k)*tanh(sqrt(g*k)*t)"
      ]
     },
     "execution_count": 97,
     "metadata": {},
     "output_type": "execute_result"
    }
   ],
   "source": [
    "test3=sqrt(g/k)*tanh(sqrt(g*k)*t);test3"
   ]
  },
  {
   "cell_type": "code",
   "execution_count": 98,
   "metadata": {},
   "outputs": [
    {
     "data": {
      "text/plain": [
       "sqrt(g)*sqrt(k)*e^(2*sqrt(g)*sqrt(k)*t)/(k*e^(2*sqrt(g)*sqrt(k)*t) + k) - sqrt(g)*sqrt(k)/(k*e^(2*sqrt(g)*sqrt(k)*t) + k) - sqrt(g)*e^(2*sqrt(g)*sqrt(k)*t)/(sqrt(k)*(e^(2*sqrt(g)*sqrt(k)*t) + 1)) + sqrt(g)/(sqrt(k)*(e^(2*sqrt(g)*sqrt(k)*t) + 1))"
      ]
     },
     "execution_count": 98,
     "metadata": {},
     "output_type": "execute_result"
    }
   ],
   "source": [
    "assume(k>0,g>0);expand(sol[0].rhs()-test1)"
   ]
  },
  {
   "cell_type": "code",
   "execution_count": 99,
   "metadata": {},
   "outputs": [
    {
     "data": {
      "text/plain": [
       "sqrt(g/k)*(e^(sqrt(g*k)*t) - e^(-sqrt(g*k)*t))/(e^(sqrt(g*k)*t) + e^(-sqrt(g*k)*t)) - sqrt(g*k)*(e^(2*sqrt(g*k)*t) - 1)/(k*(e^(2*sqrt(g*k)*t) + 1))"
      ]
     },
     "execution_count": 99,
     "metadata": {},
     "output_type": "execute_result"
    }
   ],
   "source": [
    "assume(k>0,g>0);simplify(test2-test1)"
   ]
  },
  {
   "cell_type": "code",
   "execution_count": 100,
   "metadata": {},
   "outputs": [
    {
     "data": {
      "text/plain": [
       "-sqrt(g/k)*tanh(sqrt(g*k)*t) + sqrt(g/k)*(e^(sqrt(g*k)*t) - e^(-sqrt(g*k)*t))/(e^(sqrt(g*k)*t) + e^(-sqrt(g*k)*t))"
      ]
     },
     "execution_count": 100,
     "metadata": {},
     "output_type": "execute_result"
    }
   ],
   "source": [
    "assume(k>0,g>0);simplify(test2-test3)"
   ]
  },
  {
   "cell_type": "code",
   "execution_count": null,
   "metadata": {},
   "outputs": [],
   "source": [
    "# No s'en surt massa be. Tractem de fer-ho nosaltres\n"
   ]
  },
  {
   "cell_type": "code",
   "execution_count": 101,
   "metadata": {},
   "outputs": [
    {
     "data": {
      "text/html": [
       "<html><script type=\"math/tex; mode=display\">\\newcommand{\\Bold}[1]{\\mathbf{#1}}-\\frac{\\log\\left(\\frac{k v - \\sqrt{g k}}{k v + \\sqrt{g k}}\\right)}{2 \\, \\sqrt{g k}} = c_{1} + t</script></html>"
      ],
      "text/plain": [
       "-1/2*log((k*v - sqrt(g*k))/(k*v + sqrt(g*k)))/sqrt(g*k) == c1 + t"
      ]
     },
     "metadata": {},
     "output_type": "display_data"
    }
   ],
   "source": [
    "var(\"c1 k v1 t1\");integ1=integrate(1/(g-k*v^2),v)==integrate(1,t)+c1;show(integ1)"
   ]
  },
  {
   "cell_type": "code",
   "execution_count": 378,
   "metadata": {},
   "outputs": [],
   "source": [
    "# Obtenim exactament la mateixa solució\n"
   ]
  },
  {
   "cell_type": "code",
   "execution_count": 338,
   "metadata": {},
   "outputs": [],
   "source": [
    "# Comprovem la definició de tangent hiperbòlica\n",
    "#\n"
   ]
  },
  {
   "cell_type": "code",
   "execution_count": 68,
   "metadata": {},
   "outputs": [
    {
     "data": {
      "text/plain": [
       "1/2*e^(-t) - 1/2*e^t + sinh(t)"
      ]
     },
     "execution_count": 68,
     "metadata": {},
     "output_type": "execute_result"
    }
   ],
   "source": [
    "simplify(sinh(t)-(e^t-e^(-t))/2)"
   ]
  },
  {
   "cell_type": "code",
   "execution_count": 96,
   "metadata": {},
   "outputs": [
    {
     "data": {
      "image/png": "[encoded data removed]",
      "text/plain": [
       "Graphics object consisting of 1 graphics primitive"
      ]
     },
     "execution_count": 96,
     "metadata": {},
     "output_type": "execute_result"
    }
   ],
   "source": [
    "plot(sinh(t)-(e^t-e^(-t))/2,-1,1)"
   ]
  },
  {
   "cell_type": "code",
   "execution_count": 30,
   "metadata": {},
   "outputs": [
    {
     "data": {
      "text/plain": [
       "(e^(-t) - e^t)/(e^(-t) + e^t) + tanh(t)"
      ]
     },
     "execution_count": 30,
     "metadata": {},
     "output_type": "execute_result"
    }
   ],
   "source": [
    "simplify(tanh(t)-(e^t-e^(-t))/(e^t+e^(-t)))"
   ]
  },
  {
   "cell_type": "code",
   "execution_count": 31,
   "metadata": {},
   "outputs": [],
   "source": [
    "# Tampoc s'en surt. Només ho podem comprobar numèricament\n"
   ]
  },
  {
   "cell_type": "code",
   "execution_count": 32,
   "metadata": {},
   "outputs": [
    {
     "data": {
      "image/png": "[encoded data removed]",
      "text/plain": [
       "Graphics object consisting of 1 graphics primitive"
      ]
     },
     "execution_count": 32,
     "metadata": {},
     "output_type": "execute_result"
    }
   ],
   "source": [
    "plot(tanh(t)-(e^t-e^(-t))/(e^t+e^(-t)),-1,1)"
   ]
  },
  {
   "cell_type": "code",
   "execution_count": 341,
   "metadata": {},
   "outputs": [],
   "source": [
    "# Hem tingut que ajudar-lo per qué veure que son expressions equivalents "
   ]
  },
  {
   "cell_type": "code",
   "execution_count": 73,
   "metadata": {},
   "outputs": [],
   "source": [
    "sol5=sqrt(g/k)*tanh(sqrt(g*k)*t)"
   ]
  },
  {
   "cell_type": "code",
   "execution_count": 102,
   "metadata": {},
   "outputs": [
    {
     "data": {
      "text/plain": [
       "-sqrt(g*k)*(tanh(sqrt(g*k)*t)^2 - 1)*sqrt(g/k)"
      ]
     },
     "execution_count": 102,
     "metadata": {},
     "output_type": "execute_result"
    }
   ],
   "source": [
    "deriv=diff(sol5,t);deriv"
   ]
  },
  {
   "cell_type": "code",
   "execution_count": 103,
   "metadata": {},
   "outputs": [
    {
     "data": {
      "text/plain": [
       "-sqrt(g*k)*(tanh(sqrt(g*k)*t)^2 - 1)*sqrt(g/k)"
      ]
     },
     "execution_count": 103,
     "metadata": {},
     "output_type": "execute_result"
    }
   ],
   "source": [
    "assume(g>0,k>0);simplify(-sqrt(g*k)*(tanh(sqrt(g*k)*t)^2 - 1)*sqrt(g/k))"
   ]
  },
  {
   "cell_type": "code",
   "execution_count": 104,
   "metadata": {},
   "outputs": [],
   "source": [
    "deriv=-g*(tanh(sqrt(g*k)*t)^2 - 1)"
   ]
  },
  {
   "cell_type": "code",
   "execution_count": 105,
   "metadata": {},
   "outputs": [
    {
     "data": {
      "text/plain": [
       "0"
      ]
     },
     "execution_count": 105,
     "metadata": {},
     "output_type": "execute_result"
    }
   ],
   "source": [
    "expand(deriv-(g-k*sol5^2))"
   ]
  },
  {
   "cell_type": "code",
   "execution_count": 106,
   "metadata": {},
   "outputs": [],
   "source": [
    "# Per fi hem aconseguit que ens confirmi que la solució de v'=(g-k*v^2) és v(t)=sqrt(g/k)*tanh(sqrt(g*k)*t)\n"
   ]
  },
  {
   "cell_type": "code",
   "execution_count": 107,
   "metadata": {},
   "outputs": [
    {
     "data": {
      "text/plain": [
       "sqrt(g/k)"
      ]
     },
     "execution_count": 107,
     "metadata": {},
     "output_type": "execute_result"
    }
   ],
   "source": [
    "lim(sol5,t=oo)"
   ]
  },
  {
   "cell_type": "code",
   "execution_count": 247,
   "metadata": {},
   "outputs": [],
   "source": [
    "# La k=  K/m és una constant que depen de m (masa del objecte) i K que està relacionat amb la forma i superficie del \n",
    "# paracaigudes.\n"
   ]
  },
  {
   "cell_type": "code",
   "execution_count": null,
   "metadata": {},
   "outputs": [],
   "source": []
  }
 ],
 "metadata": {
  "kernelspec": {
   "display_name": "SageMath 9.1",
   "language": "sage",
   "name": "sagemath"
  },
  "language_info": {
   "codemirror_mode": {
    "name": "ipython",
    "version": 3
   },
   "file_extension": ".py",
   "mimetype": "text/x-python",
   "name": "python",
   "nbconvert_exporter": "python",
   "pygments_lexer": "ipython3",
   "version": "3.7.3"
  }
 },
 "nbformat": 4,
 "nbformat_minor": 2
}
