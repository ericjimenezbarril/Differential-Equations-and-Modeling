{
 "cells": [
  {
   "cell_type": "code",
   "execution_count": 1,
   "metadata": {},
   "outputs": [],
   "source": [
    "# Pràctica 5\n"
   ]
  },
  {
   "cell_type": "code",
   "execution_count": 2,
   "metadata": {},
   "outputs": [],
   "source": [
    "# Fem primer un repàs d'algebra lineal amb SAGE"
   ]
  },
  {
   "cell_type": "code",
   "execution_count": 1,
   "metadata": {},
   "outputs": [
    {
     "data": {
      "text/plain": [
       "[ 1 -1  4]\n",
       "[ 3  2 -1]\n",
       "[ 2  1 -1]"
      ]
     },
     "execution_count": 1,
     "metadata": {},
     "output_type": "execute_result"
    }
   ],
   "source": [
    "A=matrix(QQ,[[1,-1,4],[3,2,-1],[2,1,-1]]);A"
   ]
  },
  {
   "cell_type": "code",
   "execution_count": 2,
   "metadata": {},
   "outputs": [
    {
     "data": {
      "text/plain": [
       "-6"
      ]
     },
     "execution_count": 2,
     "metadata": {},
     "output_type": "execute_result"
    }
   ],
   "source": [
    "A.determinant()"
   ]
  },
  {
   "cell_type": "code",
   "execution_count": 3,
   "metadata": {},
   "outputs": [
    {
     "data": {
      "text/plain": [
       "x^3 - 2*x^2 - 5*x + 6"
      ]
     },
     "execution_count": 3,
     "metadata": {},
     "output_type": "execute_result"
    }
   ],
   "source": [
    "A.charpoly()"
   ]
  },
  {
   "cell_type": "code",
   "execution_count": 4,
   "metadata": {},
   "outputs": [
    {
     "data": {
      "text/plain": [
       "[3, 1, -2]"
      ]
     },
     "execution_count": 4,
     "metadata": {},
     "output_type": "execute_result"
    }
   ],
   "source": [
    "A.eigenvalues()"
   ]
  },
  {
   "cell_type": "code",
   "execution_count": 5,
   "metadata": {},
   "outputs": [
    {
     "data": {
      "text/plain": [
       "[(3, [\n",
       "  (1, 2, 1)\n",
       "  ], 1), (1, [\n",
       "  (1, -4, -1)\n",
       "  ], 1), (-2, [\n",
       "  (1, -1, -1)\n",
       "  ], 1)]"
      ]
     },
     "execution_count": 5,
     "metadata": {},
     "output_type": "execute_result"
    }
   ],
   "source": [
    "A.eigenvectors_right()"
   ]
  },
  {
   "cell_type": "code",
   "execution_count": 6,
   "metadata": {},
   "outputs": [
    {
     "data": {
      "text/plain": [
       "[ 1  1  1]\n",
       "[ 2 -4 -1]\n",
       "[ 1 -1 -1]"
      ]
     },
     "execution_count": 6,
     "metadata": {},
     "output_type": "execute_result"
    }
   ],
   "source": [
    "B1=matrix(QQ,[[1,1,1],[2,-4,-1],[1,-1,-1]]);B1"
   ]
  },
  {
   "cell_type": "code",
   "execution_count": 7,
   "metadata": {},
   "outputs": [
    {
     "data": {
      "text/plain": [
       "[ 1  2  1]\n",
       "[ 1 -4 -1]\n",
       "[ 1 -1 -1]"
      ]
     },
     "execution_count": 7,
     "metadata": {},
     "output_type": "execute_result"
    }
   ],
   "source": [
    "B=matrix([[1, 2, 1],[1, -4, -1],[1, -1, -1]]);B"
   ]
  },
  {
   "cell_type": "code",
   "execution_count": 8,
   "metadata": {},
   "outputs": [
    {
     "data": {
      "text/plain": [
       "[ 1  1  1]\n",
       "[ 2 -4 -1]\n",
       "[ 1 -1 -1]"
      ]
     },
     "execution_count": 8,
     "metadata": {},
     "output_type": "execute_result"
    }
   ],
   "source": [
    "B1=B.transpose();B1"
   ]
  },
  {
   "cell_type": "code",
   "execution_count": 9,
   "metadata": {},
   "outputs": [
    {
     "data": {
      "text/plain": [
       "[ 3  0  0]\n",
       "[ 0  1  0]\n",
       "[ 0  0 -2]"
      ]
     },
     "execution_count": 9,
     "metadata": {},
     "output_type": "execute_result"
    }
   ],
   "source": [
    "1/B1*A*B1"
   ]
  },
  {
   "cell_type": "code",
   "execution_count": 10,
   "metadata": {},
   "outputs": [],
   "source": [
    "# Resolguem abans un problema com  y'=y+x  y(0)=1\n",
    "#\n",
    "# Per fer això primer cal resoldre el problema homogeni y'=y\n",
    "#\n",
    "# que te la solució trivial y(x)=K*exp(x)\n",
    "#\n",
    "# Per trobar la solució del problema complert cal usar el mètode de variació de constants, és a dir, supossar que\n",
    "#\n",
    "# y(x)=K(x)*exp(x)\n",
    "#\n",
    "# aleshores"
   ]
  },
  {
   "cell_type": "code",
   "execution_count": 11,
   "metadata": {},
   "outputs": [],
   "source": [
    "K=function(\"K\")(x);y(x)=K(x)*exp(x)"
   ]
  },
  {
   "cell_type": "code",
   "execution_count": 12,
   "metadata": {},
   "outputs": [
    {
     "data": {
      "text/plain": [
       "x |--> K(x)*e^x + e^x*diff(K(x), x)"
      ]
     },
     "execution_count": 12,
     "metadata": {},
     "output_type": "execute_result"
    }
   ],
   "source": [
    "diff(y,x)"
   ]
  },
  {
   "cell_type": "code",
   "execution_count": 13,
   "metadata": {},
   "outputs": [
    {
     "data": {
      "text/plain": [
       "x |--> K(x)*e^x + e^x*diff(K(x), x) == K(x)*e^x + x"
      ]
     },
     "execution_count": 13,
     "metadata": {},
     "output_type": "execute_result"
    }
   ],
   "source": [
    "diff(y,x)==y(x)+x"
   ]
  },
  {
   "cell_type": "code",
   "execution_count": 14,
   "metadata": {},
   "outputs": [
    {
     "data": {
      "text/plain": [
       "-(x + 1)*e^(-x) + _C"
      ]
     },
     "execution_count": 14,
     "metadata": {},
     "output_type": "execute_result"
    }
   ],
   "source": [
    "sol_K=desolve(e^x*diff(K(x), x) ==  x,K);sol_K"
   ]
  },
  {
   "cell_type": "code",
   "execution_count": 15,
   "metadata": {},
   "outputs": [
    {
     "data": {
      "text/plain": [
       "-((x + 1)*e^(-x) - _C)*e^x"
      ]
     },
     "execution_count": 15,
     "metadata": {},
     "output_type": "execute_result"
    }
   ],
   "source": [
    "var(\"_C\");y(x)=((-(x + 1)*e^(-x) + _C))*exp(x);y(x)"
   ]
  },
  {
   "cell_type": "code",
   "execution_count": 16,
   "metadata": {},
   "outputs": [
    {
     "data": {
      "text/plain": [
       "[_C == 2]"
      ]
     },
     "execution_count": 16,
     "metadata": {},
     "output_type": "execute_result"
    }
   ],
   "source": [
    "solve(y(0)==1,_C)"
   ]
  },
  {
   "cell_type": "code",
   "execution_count": 17,
   "metadata": {},
   "outputs": [
    {
     "data": {
      "text/plain": [
       "-((x + 1)*e^(-x) - 2)*e^x"
      ]
     },
     "execution_count": 17,
     "metadata": {},
     "output_type": "execute_result"
    }
   ],
   "source": [
    "y(x)=((-(x + 1)*e^(-x) + _C)*exp(x)).subs(_C==2);y(x)"
   ]
  },
  {
   "cell_type": "code",
   "execution_count": 18,
   "metadata": {},
   "outputs": [],
   "source": [
    "# Fem primer un problema trivial\n",
    "# y''(t)=y\n",
    "# que la seva solució és y(t)= e^x*C(1) + C(2)e^(-x) \n",
    "\n",
    "# Diem y0=y , y1= y' =y0' ; y2= y1'= y''\n",
    "#\n",
    "# Tenim doncs un sistema\n",
    "#\n",
    "# y0'= y1\n",
    "# y1'= y2 = y'' = y0 (de fet la y2 no ens cal)\n",
    "\n",
    "# Tenim el vector de derivades (y0',y1') que és igual a la matriu [[0,1],[1,0]] multiplicada pel vector de\n",
    "# funcions (y0,y1)"
   ]
  },
  {
   "cell_type": "code",
   "execution_count": 19,
   "metadata": {},
   "outputs": [
    {
     "data": {
      "text/plain": [
       "diff(y(t), t, t) == y(t)"
      ]
     },
     "execution_count": 19,
     "metadata": {},
     "output_type": "execute_result"
    }
   ],
   "source": [
    "var(\"t\");y=function(\"y\")(t);\n",
    "eq=diff(y,t,2)==y;eq"
   ]
  },
  {
   "cell_type": "code",
   "execution_count": 20,
   "metadata": {},
   "outputs": [
    {
     "data": {
      "text/plain": [
       "_K2*e^(-t) + _K1*e^t"
      ]
     },
     "execution_count": 20,
     "metadata": {},
     "output_type": "execute_result"
    }
   ],
   "source": [
    "desolve(eq,y)"
   ]
  },
  {
   "cell_type": "code",
   "execution_count": 21,
   "metadata": {},
   "outputs": [
    {
     "data": {
      "text/plain": [
       "[0 1]\n",
       "[1 0]"
      ]
     },
     "execution_count": 21,
     "metadata": {},
     "output_type": "execute_result"
    }
   ],
   "source": [
    "A=matrix(QQ,[[0,1],[1,0]]);A"
   ]
  },
  {
   "cell_type": "code",
   "execution_count": 22,
   "metadata": {},
   "outputs": [
    {
     "data": {
      "text/plain": [
       "[1, -1]"
      ]
     },
     "execution_count": 22,
     "metadata": {},
     "output_type": "execute_result"
    }
   ],
   "source": [
    "A.eigenvalues()"
   ]
  },
  {
   "cell_type": "code",
   "execution_count": 23,
   "metadata": {},
   "outputs": [
    {
     "data": {
      "text/plain": [
       "[(1, [\n",
       "  (1, 1)\n",
       "  ], 1), (-1, [\n",
       "  (1, -1)\n",
       "  ], 1)]"
      ]
     },
     "execution_count": 23,
     "metadata": {},
     "output_type": "execute_result"
    }
   ],
   "source": [
    "A.eigenvectors_right()"
   ]
  },
  {
   "cell_type": "code",
   "execution_count": 24,
   "metadata": {},
   "outputs": [
    {
     "data": {
      "text/plain": [
       "[ 1  1]\n",
       "[ 1 -1]"
      ]
     },
     "execution_count": 24,
     "metadata": {},
     "output_type": "execute_result"
    }
   ],
   "source": [
    "B=matrix(QQ,[[1,1],[1,-1]]);B"
   ]
  },
  {
   "cell_type": "code",
   "execution_count": 25,
   "metadata": {},
   "outputs": [
    {
     "data": {
      "text/plain": [
       "[ 1  0]\n",
       "[ 0 -1]"
      ]
     },
     "execution_count": 25,
     "metadata": {},
     "output_type": "execute_result"
    }
   ],
   "source": [
    "1/B*A*B"
   ]
  },
  {
   "cell_type": "code",
   "execution_count": 26,
   "metadata": {},
   "outputs": [],
   "source": [
    "# Multiplicant la matriu inversa del canvi de base, per la matriu original i per la del canvi de base tenim la \n",
    "# matriu de valors propis.\n",
    "#\n",
    "# això planteja un problema trivial com\n",
    "#\n",
    "# z1'=z1\n",
    "# z2'=-z2\n",
    "#\n",
    "# que té com a solució z1=C1*e^t i z2= C2*e^(-t)\n",
    "#\n",
    "# Fem que treballi el SAGE\n"
   ]
  },
  {
   "cell_type": "code",
   "execution_count": 27,
   "metadata": {},
   "outputs": [
    {
     "data": {
      "text/plain": [
       "(C1*e^t, C2*e^(-t))"
      ]
     },
     "execution_count": 27,
     "metadata": {},
     "output_type": "execute_result"
    }
   ],
   "source": [
    "var(\"C1 C2\");w=vector([C1*exp(A.eigenvalues()[0]*t),C2*exp(A.eigenvalues()[1]*t)]);w"
   ]
  },
  {
   "cell_type": "code",
   "execution_count": 28,
   "metadata": {},
   "outputs": [
    {
     "data": {
      "text/plain": [
       "(C2*e^(-t) + C1*e^t, -C2*e^(-t) + C1*e^t)"
      ]
     },
     "execution_count": 28,
     "metadata": {},
     "output_type": "execute_result"
    }
   ],
   "source": [
    "B*w"
   ]
  },
  {
   "cell_type": "code",
   "execution_count": 29,
   "metadata": {},
   "outputs": [],
   "source": [
    "# La solució és la primera de la llista. La segona és la seva derivada\n"
   ]
  },
  {
   "cell_type": "code",
   "execution_count": 30,
   "metadata": {},
   "outputs": [],
   "source": [
    "# Seguim amb d'altres problemes trivials\n",
    "# y'''(t)=y\n",
    "# que la seva solució és y(t)=  e^t*C(1) + C(2)*cos(sqrt(3)*t/2)/e^(t/2) + C(3)*sin(sqrt(3)*t/2)/e^(t/2)\n",
    "\n",
    "# Diem y0=y, y1= y' ; y2= y1'= y'' \n",
    "#\n",
    "# Tenim doncs un sistema\n",
    "#\n",
    "# y0'= y1\n",
    "# y1'= y2\n",
    "# y2'= y'''=y0 \n",
    "\n",
    "# Tenim el vector de derivades (y0',y1',y2') que és igual a la matriu [[0,1,0],[0,0,1],[1,0,0]] multiplicat pel vector \n",
    "# de funcions (y0,y1,y2) \n"
   ]
  },
  {
   "cell_type": "code",
   "execution_count": 31,
   "metadata": {},
   "outputs": [
    {
     "name": "stdout",
     "output_type": "stream",
     "text": [
      "[0 1 0]\n",
      "[0 0 1]\n",
      "[1 0 0]\n",
      "\n",
      "[1, -0.50000000000000000? - 0.866025403784439?*I, -0.50000000000000000? + 0.866025403784439?*I]\n",
      "\n",
      "[(1, [\n",
      "(1, 1, 1)\n",
      "], 1), (-0.50000000000000000? - 0.866025403784439?*I, [(1, -0.50000000000000000? - 0.866025403784439?*I, -0.50000000000000000? + 0.866025403784439?*I)], 1), (-0.50000000000000000? + 0.866025403784439?*I, [(1, -0.50000000000000000? + 0.866025403784439?*I, -0.50000000000000000? - 0.866025403784439?*I)], 1)]\n"
     ]
    }
   ],
   "source": [
    "A=matrix(QQ,[[0,1,0],[0,0,1],[1,0,0]]);print(A);\n",
    "print();\n",
    "print(A.eigenvalues());\n",
    "print();\n",
    "print(A.eigenvectors_right())"
   ]
  },
  {
   "cell_type": "code",
   "execution_count": 32,
   "metadata": {},
   "outputs": [
    {
     "name": "stdout",
     "output_type": "stream",
     "text": [
      "[                        1.00000000000000                         1.00000000000000                         1.00000000000000]\n",
      "[                        1.00000000000000 -0.500000000000000 - 0.866025403784439*I -0.500000000000000 + 0.866025403784439*I]\n",
      "[                        1.00000000000000 -0.500000000000000 + 0.866025403784439*I -0.500000000000000 - 0.866025403784439*I]\n"
     ]
    },
    {
     "data": {
      "text/plain": [
       "[                              1.00000000000000 -5.55111512312578e-17 + 5.55111512312578e-17*I  5.55111512312578e-17 + 1.66533453693773e-16*I]\n",
       "[                             0.000000000000000       -0.500000000000000 - 0.866025403784439*I                          -5.55111512312578e-17]\n",
       "[                         -2.77555756156289e-17  1.11022302462516e-16 - 8.32667268468867e-17*I       -0.500000000000000 + 0.866025403784439*I]"
      ]
     },
     "execution_count": 32,
     "metadata": {},
     "output_type": "execute_result"
    }
   ],
   "source": [
    "B=matrix(CC,[[1,1,1],[1,-1/2-sqrt(3)*I/2,-1/2+sqrt(3)*I/2],[1,-1/2+sqrt(3)*I/2,-1/2-sqrt(3)*I/2]]);\n",
    "print(B);\n",
    "1/B*A*B"
   ]
  },
  {
   "cell_type": "code",
   "execution_count": 33,
   "metadata": {},
   "outputs": [],
   "source": [
    "# Multiplicant la inversa de la matriu del canvi de base, per la matriu original i per la del canvi de base tenim la \n",
    "# matriu de valors propis.\n",
    "#\n",
    "# això planteja un problema trivial com\n",
    "#\n",
    "# z1'= v1*z1\n",
    "# z2'= v2*z2\n",
    "# z3'= v3*z3  on (v1,v2,v3) son els valors propis\n",
    "#\n",
    "# recordem que e^(a+b*I)= e^(a)*e^(b*I)= e^a*( cos(b)+ I*sin(b))\n",
    "#\n",
    "# que té com a solució z1=C1*e^t, z2= e^(-t/2) ( cos[(sqrt[3] t/2] - I sin[(sqrt[3] t)/2)\n",
    "# i z3= e^(-t/2) ( cos[(sqrt[3] t)/2] + I sin[(sqrt[3] t)/2) \n",
    "#\n",
    "# Fem que treballi el SAGE"
   ]
  },
  {
   "cell_type": "code",
   "execution_count": 35,
   "metadata": {},
   "outputs": [
    {
     "data": {
      "text/plain": [
       "diff(y(t), t, t) == -1/2*(I*sqrt(3) + 1)*y(t)"
      ]
     },
     "execution_count": 35,
     "metadata": {},
     "output_type": "execute_result"
    }
   ],
   "source": [
    "eq=diff(y,t,2)==(-1/2-sqrt(3)*I/2)*y;eq"
   ]
  },
  {
   "cell_type": "code",
   "execution_count": 36,
   "metadata": {},
   "outputs": [
    {
     "data": {
      "text/plain": [
       "_K2*cos(1/2*t*sqrt(2*I*sqrt(3) + 2)) + _K1*sin(1/2*t*sqrt(2*I*sqrt(3) + 2))"
      ]
     },
     "execution_count": 36,
     "metadata": {},
     "output_type": "execute_result"
    }
   ],
   "source": [
    "desolve(eq,y).simplify_full()"
   ]
  },
  {
   "cell_type": "code",
   "execution_count": 37,
   "metadata": {},
   "outputs": [
    {
     "data": {
      "text/plain": [
       "(1.00000000000000*C3*e^(-(0.50000000000000000? - 0.866025403784439?*I)*t) + 1.00000000000000*C2*e^(-(0.50000000000000000? + 0.866025403784439?*I)*t) + 1.00000000000000*C1*e^t, -(0.500000000000000 - 0.866025403784439*I)*C3*e^(-(0.50000000000000000? - 0.866025403784439?*I)*t) - (0.500000000000000 + 0.866025403784439*I)*C2*e^(-(0.50000000000000000? + 0.866025403784439?*I)*t) + 1.00000000000000*C1*e^t, -(0.500000000000000 + 0.866025403784439*I)*C3*e^(-(0.50000000000000000? - 0.866025403784439?*I)*t) - (0.500000000000000 - 0.866025403784439*I)*C2*e^(-(0.50000000000000000? + 0.866025403784439?*I)*t) + 1.00000000000000*C1*e^t)"
      ]
     },
     "execution_count": 37,
     "metadata": {},
     "output_type": "execute_result"
    }
   ],
   "source": [
    "var(\"C1 C2 C3\");w=vector([C1*exp(A.eigenvalues()[0]*t),C2*exp(A.eigenvalues()[1]*t),C3*exp(A.eigenvalues()[2]*t)]);\n",
    "B*w"
   ]
  },
  {
   "cell_type": "code",
   "execution_count": null,
   "metadata": {},
   "outputs": [],
   "source": [
    "# Preparem el següent exemple"
   ]
  },
  {
   "cell_type": "code",
   "execution_count": 36,
   "metadata": {},
   "outputs": [
    {
     "name": "stdout",
     "output_type": "stream",
     "text": [
      "[1 1]\n",
      "[0 1]\n",
      "[ 1  1]\n",
      "[ 1 -1]\n"
     ]
    },
    {
     "data": {
      "text/plain": [
       "[ 3/2 -1/2]\n",
       "[ 1/2  1/2]"
      ]
     },
     "execution_count": 36,
     "metadata": {},
     "output_type": "execute_result"
    }
   ],
   "source": [
    "J=matrix(QQ,[[1,1],[0,1]]);print(J);\n",
    "B=matrix(QQ,[[1,1],[1,-1]]);print(B);\n",
    "B*J/B"
   ]
  },
  {
   "cell_type": "code",
   "execution_count": 35,
   "metadata": {},
   "outputs": [],
   "source": [
    "# Qué pasa si la matriu no diagonalitza?\n",
    "# y1'=(3*y1-y2)/2\n",
    "# y2'=(y1+y2)/2\n"
   ]
  },
  {
   "cell_type": "code",
   "execution_count": 38,
   "metadata": {},
   "outputs": [
    {
     "name": "stdout",
     "output_type": "stream",
     "text": [
      "[ 3/2 -1/2]\n",
      "[ 1/2  1/2]\n",
      "\n",
      "[1, 1]\n",
      "\n",
      "[(1, [\n",
      "(1, 1)\n",
      "], 2)]\n"
     ]
    }
   ],
   "source": [
    "A=matrix(QQ,[[3/2,-1/2],[1/2,1/2]]);print(A);\n",
    "print();\n",
    "print(A.eigenvalues());\n",
    "print();\n",
    "print(A.eigenvectors_right())"
   ]
  },
  {
   "cell_type": "code",
   "execution_count": 39,
   "metadata": {},
   "outputs": [
    {
     "name": "stdout",
     "output_type": "stream",
     "text": [
      "[ 1  0]\n",
      "[ 1 -2]\n"
     ]
    },
    {
     "data": {
      "text/plain": [
       "[1 1]\n",
       "[0 1]"
      ]
     },
     "execution_count": 39,
     "metadata": {},
     "output_type": "execute_result"
    }
   ],
   "source": [
    "B=matrix(QQ,[[1,0],[1,-2]]);\n",
    "print(B);\n",
    "1/B*A*B"
   ]
  },
  {
   "cell_type": "code",
   "execution_count": 38,
   "metadata": {},
   "outputs": [],
   "source": [
    "# Multiplicant la inversa de la matriu del canvi de base, per la matriu original i per la del canvi de base tenim la \n",
    "# matriu de Jordan.\n",
    "#\n",
    "# això planteja un problema trivial com\n",
    "#\n",
    "# z1'= v1*z1+z2\n",
    "# z2'= v1*z2  on (v1,v2) son els valors propis\n",
    "#\n",
    "# Fem que treballi el SAGE"
   ]
  },
  {
   "cell_type": "code",
   "execution_count": 40,
   "metadata": {},
   "outputs": [
    {
     "data": {
      "text/plain": [
       "_C*e^t"
      ]
     },
     "execution_count": 40,
     "metadata": {},
     "output_type": "execute_result"
    }
   ],
   "source": [
    "z2=function(\"z2\")(t);var(\"t\");\n",
    "eq=diff(z2,t)== z2;sol_z2=desolve(eq,z2);sol_z2"
   ]
  },
  {
   "cell_type": "code",
   "execution_count": 41,
   "metadata": {},
   "outputs": [
    {
     "data": {
      "text/plain": [
       "(_C*t + _C)*e^t"
      ]
     },
     "execution_count": 41,
     "metadata": {},
     "output_type": "execute_result"
    }
   ],
   "source": [
    "z1=function(\"z1\")(t);var(\"t\");\n",
    "eq=diff(z1,t)== z1+sol_z2;sol_z1=desolve(eq,[z1,t]);sol_z1"
   ]
  },
  {
   "cell_type": "code",
   "execution_count": 45,
   "metadata": {},
   "outputs": [],
   "source": [
    "# Cal modificar-li la constant per evitar que agafi la mateixa\n"
   ]
  },
  {
   "cell_type": "code",
   "execution_count": 42,
   "metadata": {},
   "outputs": [
    {
     "data": {
      "text/plain": [
       "(C2*t + _C)*e^t"
      ]
     },
     "execution_count": 42,
     "metadata": {},
     "output_type": "execute_result"
    }
   ],
   "source": [
    "var(\"C2\");sol_z2=sol_z2.subs(_C=C2);\n",
    "\n",
    "z1=function(\"z1\")(t);var(\"t\");\n",
    "eq=diff(z1,t)== z1+sol_z2;sol_z1=desolve(eq,[z1,t]);sol_z1"
   ]
  },
  {
   "cell_type": "code",
   "execution_count": 43,
   "metadata": {},
   "outputs": [
    {
     "data": {
      "text/plain": [
       "((C2*t + C1)*e^t, (C2*t + C1)*e^t - 2*C2*e^t)"
      ]
     },
     "execution_count": 43,
     "metadata": {},
     "output_type": "execute_result"
    }
   ],
   "source": [
    "# I finalment, recuperem la solució en les coordenades originals\n",
    "var(\"C1 C2 \");sol_z1=sol_z1.subs(_C=C1);\n",
    "\n",
    "w=vector([sol_z1,sol_z2]);\n",
    "B*w"
   ]
  },
  {
   "cell_type": "code",
   "execution_count": 48,
   "metadata": {},
   "outputs": [],
   "source": [
    "# Veiem que hagués fet el SAGE tot solet"
   ]
  },
  {
   "cell_type": "code",
   "execution_count": 44,
   "metadata": {},
   "outputs": [
    {
     "data": {
      "text/plain": [
       "[y1(t) == 1/2*t*e^t*y1(0) - 1/2*t*e^t*y2(0) + e^t*y1(0),\n",
       " y2(t) == 1/2*t*e^t*y1(0) - 1/2*t*e^t*y2(0) + e^t*y2(0)]"
      ]
     },
     "execution_count": 44,
     "metadata": {},
     "output_type": "execute_result"
    }
   ],
   "source": [
    "y1=function(\"y1\")(t);\n",
    "y2=function(\"y2\")(t);\n",
    "desolve_system([diff(y1,t)==(3*y1-y2)/2,diff(y2,t)==(y1+y2)/2],[y1,y2])"
   ]
  },
  {
   "cell_type": "code",
   "execution_count": 50,
   "metadata": {},
   "outputs": [],
   "source": [
    "# Escrit de diferent manera però coincideixen"
   ]
  },
  {
   "cell_type": "code",
   "execution_count": 51,
   "metadata": {},
   "outputs": [],
   "source": [
    "# Veiem un altre problema trivial però un xic més complicat quan es tracta de fer amb matrius\n",
    "#\n",
    "# y'''(t)=t\n",
    "# que la seva solució és y(t)= t^4/24+k3*t^2+k2*t+k1\n",
    "\n",
    "# Diem y0=y, y1= y' ; y2= y1'= y'' \n",
    "#\n",
    "# Tenim doncs un sistema\n",
    "#\n",
    "# y0'= y1\n",
    "# y1'= y2\n",
    "# y2'= y'''=t  (de fet la y3 no ens cal)\n",
    "\n",
    "# Tenim el vector de derivades (y0',y1',y2') que és igual a la matriu [[0,1,0],[0,0,1],[0,0,0]]\n",
    "# pel funcions (y0,y1,y2) més un terme no homogeni (0,0,t)"
   ]
  },
  {
   "cell_type": "code",
   "execution_count": 45,
   "metadata": {},
   "outputs": [
    {
     "name": "stdout",
     "output_type": "stream",
     "text": [
      "[0 1 0]\n",
      "[0 0 1]\n",
      "[0 0 0]\n",
      "\n",
      "[0, 0, 0]\n",
      "\n",
      "[(0, [\n",
      "(1, 0, 0)\n",
      "], 3)]\n"
     ]
    }
   ],
   "source": [
    "A=matrix(QQ,[[0,1,0],[0,0,1],[0,0,0]]);print(A);\n",
    "print();\n",
    "print(A.eigenvalues());\n",
    "print();\n",
    "print(A.eigenvectors_right())"
   ]
  },
  {
   "cell_type": "code",
   "execution_count": 46,
   "metadata": {},
   "outputs": [
    {
     "name": "stdout",
     "output_type": "stream",
     "text": [
      "[1 0 0]\n",
      "[0 1 0]\n",
      "[0 0 1]\n"
     ]
    },
    {
     "data": {
      "text/plain": [
       "[0 1 0]\n",
       "[0 0 1]\n",
       "[0 0 0]"
      ]
     },
     "execution_count": 46,
     "metadata": {},
     "output_type": "execute_result"
    }
   ],
   "source": [
    "B=matrix(QQ,[[1,0,0],[0,1,0],[0,0,1]]);\n",
    "print(B);\n",
    "1/B*A*B"
   ]
  },
  {
   "cell_type": "code",
   "execution_count": 54,
   "metadata": {},
   "outputs": [],
   "source": [
    "# De fet no em canviat res doncs la matriu original ja estava en forma de Jordan i no es podia\n",
    "# simplificar més\n",
    "#\n",
    "# això planteja un problema trivial com\n",
    "#\n",
    "# z1'= z2\n",
    "# z2'= z3\n",
    "# z3'= t  \n",
    "#\n",
    "# que té com a solució z3=t^2/2+K3, z2= t^3/6+K3*t+K2 i z1= t^4/24+K3*t^2/2+K2*t+K1\n",
    "#\n",
    "# Fem que treballi el SAGE"
   ]
  },
  {
   "cell_type": "code",
   "execution_count": 47,
   "metadata": {},
   "outputs": [
    {
     "data": {
      "text/plain": [
       "1/2*t^2 + _C"
      ]
     },
     "execution_count": 47,
     "metadata": {},
     "output_type": "execute_result"
    }
   ],
   "source": [
    "z3=function(\"z3\")(t);sol_z3=desolve(diff(z3,t)==t,z3);sol_z3"
   ]
  },
  {
   "cell_type": "code",
   "execution_count": 48,
   "metadata": {},
   "outputs": [
    {
     "data": {
      "text/plain": [
       "1/2*t^2 + K3"
      ]
     },
     "execution_count": 48,
     "metadata": {},
     "output_type": "execute_result"
    }
   ],
   "source": [
    "var(\"_C K3\");sol_z3=sol_z3.subs(_C==K3);sol_z3\n"
   ]
  },
  {
   "cell_type": "code",
   "execution_count": 49,
   "metadata": {},
   "outputs": [
    {
     "data": {
      "text/plain": [
       "1/6*t^3 + K3*t + _C"
      ]
     },
     "execution_count": 49,
     "metadata": {},
     "output_type": "execute_result"
    }
   ],
   "source": [
    "z2=function(\"z2\")(t);sol_z2=desolve(diff(z2,t)==sol_z3,[z2,t]);sol_z2"
   ]
  },
  {
   "cell_type": "code",
   "execution_count": 50,
   "metadata": {},
   "outputs": [
    {
     "data": {
      "text/plain": [
       "1/6*t^3 + K3*t + K2"
      ]
     },
     "execution_count": 50,
     "metadata": {},
     "output_type": "execute_result"
    }
   ],
   "source": [
    "var(\"_C K2\");sol_z2=sol_z2.subs(_C==K2);sol_z2"
   ]
  },
  {
   "cell_type": "code",
   "execution_count": 51,
   "metadata": {},
   "outputs": [
    {
     "data": {
      "text/plain": [
       "1/24*t^4 + 1/2*K3*t^2 + K2*t + _C"
      ]
     },
     "execution_count": 51,
     "metadata": {},
     "output_type": "execute_result"
    }
   ],
   "source": [
    "z1=function(\"z1\")(t);sol_z1=desolve(diff(z1,t)==sol_z2,[z1,t]);sol_z1"
   ]
  },
  {
   "cell_type": "code",
   "execution_count": 52,
   "metadata": {},
   "outputs": [
    {
     "data": {
      "text/plain": [
       "1/24*t^4 + 1/2*K3*t^2 + K2*t + K1"
      ]
     },
     "execution_count": 52,
     "metadata": {},
     "output_type": "execute_result"
    }
   ],
   "source": [
    "var(\"K1\");sol_z1=sol_z1.subs(_C==K1);sol_z1"
   ]
  },
  {
   "cell_type": "code",
   "execution_count": 53,
   "metadata": {},
   "outputs": [],
   "source": [
    "# Veiem si el SAGE ho hagués resolt tot sol"
   ]
  },
  {
   "cell_type": "code",
   "execution_count": 54,
   "metadata": {},
   "outputs": [
    {
     "data": {
      "text/plain": [
       "diff(x(t), t, t, t) == t"
      ]
     },
     "execution_count": 54,
     "metadata": {},
     "output_type": "execute_result"
    }
   ],
   "source": [
    "x=function(\"x\")(t);var(\"t\");\n",
    "eq=diff(x,t,3) == t;eq"
   ]
  },
  {
   "cell_type": "code",
   "execution_count": 55,
   "metadata": {},
   "outputs": [
    {
     "ename": "NotImplementedError",
     "evalue": "Maxima was unable to solve this ODE. Consider to set option contrib_ode to True.",
     "output_type": "error",
     "traceback": [
      "\u001b[0;31m---------------------------------------------------------------------------\u001b[0m",
      "\u001b[0;31mNotImplementedError\u001b[0m                       Traceback (most recent call last)",
      "\u001b[0;32m<ipython-input-55-4604fe65861b>\u001b[0m in \u001b[0;36m<module>\u001b[0;34m()\u001b[0m\n\u001b[0;32m----> 1\u001b[0;31m \u001b[0mdesolve\u001b[0m\u001b[0;34m(\u001b[0m\u001b[0meq\u001b[0m\u001b[0;34m,\u001b[0m\u001b[0mx\u001b[0m\u001b[0;34m,\u001b[0m\u001b[0mt\u001b[0m\u001b[0;34m)\u001b[0m\u001b[0;34m\u001b[0m\u001b[0;34m\u001b[0m\u001b[0m\n\u001b[0m",
      "\u001b[0;32m/opt/sagemath-9.1/local/lib/python3.7/site-packages/sage/calculus/desolvers.py\u001b[0m in \u001b[0;36mdesolve\u001b[0;34m(de, dvar, ics, ivar, show_method, contrib_ode, algorithm)\u001b[0m\n\u001b[1;32m    595\u001b[0m                 \u001b[0;32mraise\u001b[0m \u001b[0mNotImplementedError\u001b[0m\u001b[0;34m(\u001b[0m\u001b[0;34m\"Maxima was unable to solve this ODE.\"\u001b[0m\u001b[0;34m)\u001b[0m\u001b[0;34m\u001b[0m\u001b[0;34m\u001b[0m\u001b[0m\n\u001b[1;32m    596\u001b[0m         \u001b[0;32melse\u001b[0m\u001b[0;34m:\u001b[0m\u001b[0;34m\u001b[0m\u001b[0;34m\u001b[0m\u001b[0m\n\u001b[0;32m--> 597\u001b[0;31m             \u001b[0;32mraise\u001b[0m \u001b[0mNotImplementedError\u001b[0m\u001b[0;34m(\u001b[0m\u001b[0;34m\"Maxima was unable to solve this ODE. Consider to set option contrib_ode to True.\"\u001b[0m\u001b[0;34m)\u001b[0m\u001b[0;34m\u001b[0m\u001b[0;34m\u001b[0m\u001b[0m\n\u001b[0m\u001b[1;32m    598\u001b[0m \u001b[0;34m\u001b[0m\u001b[0m\n\u001b[1;32m    599\u001b[0m     \u001b[0;32mif\u001b[0m \u001b[0mshow_method\u001b[0m\u001b[0;34m:\u001b[0m\u001b[0;34m\u001b[0m\u001b[0;34m\u001b[0m\u001b[0m\n",
      "\u001b[0;31mNotImplementedError\u001b[0m: Maxima was unable to solve this ODE. Consider to set option contrib_ode to True."
     ]
    }
   ],
   "source": [
    "desolve(eq,x,t)"
   ]
  },
  {
   "cell_type": "code",
   "execution_count": 64,
   "metadata": {},
   "outputs": [],
   "source": [
    "# M'ho temia. Veiem si s'ho donem en forma de sistema"
   ]
  },
  {
   "cell_type": "code",
   "execution_count": 56,
   "metadata": {},
   "outputs": [
    {
     "data": {
      "text/plain": [
       "[y0(t) == 1/24*t^4 + 1/2*t^2*y2(0) + t*y1(0) + y0(0),\n",
       " y1(t) == 1/6*t^3 + t*y2(0) + y1(0),\n",
       " y2(t) == 1/2*t^2 + y2(0)]"
      ]
     },
     "execution_count": 56,
     "metadata": {},
     "output_type": "execute_result"
    }
   ],
   "source": [
    "y1=function(\"y1\")(t);\n",
    "y2=function(\"y2\")(t);\n",
    "y0=function(\"y0\")(t);\n",
    "desolve_system([diff(y0,t)==y1,diff(y1,t)==y2,diff(y2,t)==t],[y0,y1,y2])"
   ]
  },
  {
   "cell_type": "code",
   "execution_count": 66,
   "metadata": {},
   "outputs": [],
   "source": [
    "# Així si ha pogut\n",
    "#\n",
    "# Un cop practicat i feta la programació amb funcions de les que sabem la solució, podem atacar problemes\n",
    "# més complexos.\n"
   ]
  },
  {
   "cell_type": "code",
   "execution_count": 57,
   "metadata": {},
   "outputs": [
    {
     "data": {
      "text/plain": [
       "-6*x(t) + 8*diff(x(t), t) - 5*diff(x(t), t, t) + diff(x(t), t, t, t) == 2*cos(t)*e^t - 3*e^(3*t)*sin(2*t) + t*sin(t)"
      ]
     },
     "execution_count": 57,
     "metadata": {},
     "output_type": "execute_result"
    }
   ],
   "source": [
    "x=function(\"x\")(t);var(\"t\");\n",
    "eq=diff(x,t,3)-5*diff(x,t,2)+ 8*diff(x,t)-6*x == t*sin(t) + 2*exp(t)*cos(t)-3*exp(3*t)*sin(2*t);eq"
   ]
  },
  {
   "cell_type": "code",
   "execution_count": 68,
   "metadata": {},
   "outputs": [
    {
     "ename": "NotImplementedError",
     "evalue": "Maxima was unable to solve this ODE. Consider to set option contrib_ode to True.",
     "output_type": "error",
     "traceback": [
      "\u001b[0;31m---------------------------------------------------------------------------\u001b[0m",
      "\u001b[0;31mNotImplementedError\u001b[0m                       Traceback (most recent call last)",
      "\u001b[0;32m<ipython-input-68-d0ec0987c999>\u001b[0m in \u001b[0;36m<module>\u001b[0;34m()\u001b[0m\n\u001b[0;32m----> 1\u001b[0;31m \u001b[0mdesolve\u001b[0m\u001b[0;34m(\u001b[0m\u001b[0meq\u001b[0m\u001b[0;34m,\u001b[0m\u001b[0;34m[\u001b[0m\u001b[0mx\u001b[0m\u001b[0;34m,\u001b[0m\u001b[0mt\u001b[0m\u001b[0;34m]\u001b[0m\u001b[0;34m)\u001b[0m\u001b[0;34m\u001b[0m\u001b[0;34m\u001b[0m\u001b[0m\n\u001b[0m",
      "\u001b[0;32m/opt/sagemath-9.1/local/lib/python3.7/site-packages/sage/calculus/desolvers.py\u001b[0m in \u001b[0;36mdesolve\u001b[0;34m(de, dvar, ics, ivar, show_method, contrib_ode, algorithm)\u001b[0m\n\u001b[1;32m    595\u001b[0m                 \u001b[0;32mraise\u001b[0m \u001b[0mNotImplementedError\u001b[0m\u001b[0;34m(\u001b[0m\u001b[0;34m\"Maxima was unable to solve this ODE.\"\u001b[0m\u001b[0;34m)\u001b[0m\u001b[0;34m\u001b[0m\u001b[0;34m\u001b[0m\u001b[0m\n\u001b[1;32m    596\u001b[0m         \u001b[0;32melse\u001b[0m\u001b[0;34m:\u001b[0m\u001b[0;34m\u001b[0m\u001b[0;34m\u001b[0m\u001b[0m\n\u001b[0;32m--> 597\u001b[0;31m             \u001b[0;32mraise\u001b[0m \u001b[0mNotImplementedError\u001b[0m\u001b[0;34m(\u001b[0m\u001b[0;34m\"Maxima was unable to solve this ODE. Consider to set option contrib_ode to True.\"\u001b[0m\u001b[0;34m)\u001b[0m\u001b[0;34m\u001b[0m\u001b[0;34m\u001b[0m\u001b[0m\n\u001b[0m\u001b[1;32m    598\u001b[0m \u001b[0;34m\u001b[0m\u001b[0m\n\u001b[1;32m    599\u001b[0m     \u001b[0;32mif\u001b[0m \u001b[0mshow_method\u001b[0m\u001b[0;34m:\u001b[0m\u001b[0;34m\u001b[0m\u001b[0;34m\u001b[0m\u001b[0m\n",
      "\u001b[0;31mNotImplementedError\u001b[0m: Maxima was unable to solve this ODE. Consider to set option contrib_ode to True."
     ]
    }
   ],
   "source": [
    "desolve(eq,[x,t])"
   ]
  },
  {
   "cell_type": "code",
   "execution_count": 69,
   "metadata": {},
   "outputs": [],
   "source": [
    "# Si el SAGE no ha pogut amb l'anterior equació diferencial de tercer ordre que era trivial, poc podiem esperar ara. "
   ]
  },
  {
   "cell_type": "code",
   "execution_count": 58,
   "metadata": {},
   "outputs": [
    {
     "data": {
      "text/plain": [
       "diff(x(t), t) == x1(t)"
      ]
     },
     "execution_count": 58,
     "metadata": {},
     "output_type": "execute_result"
    }
   ],
   "source": [
    "x1=function(\"x1\")(t);eq2=diff(x,t)==x1(t);eq2"
   ]
  },
  {
   "cell_type": "code",
   "execution_count": 59,
   "metadata": {},
   "outputs": [
    {
     "data": {
      "text/plain": [
       "diff(x1(t), t) == x2(t)"
      ]
     },
     "execution_count": 59,
     "metadata": {},
     "output_type": "execute_result"
    }
   ],
   "source": [
    "x2=function(\"x2\")(t);eq3=diff(x1,t)==x2(t);eq3"
   ]
  },
  {
   "cell_type": "code",
   "execution_count": 60,
   "metadata": {},
   "outputs": [
    {
     "data": {
      "text/plain": [
       "diff(x2(t), t) == 2*cos(t)*e^t - 3*e^(3*t)*sin(2*t) + t*sin(t) + 6*x(t) - 8*x1(t) + 5*x2(t)"
      ]
     },
     "execution_count": 60,
     "metadata": {},
     "output_type": "execute_result"
    }
   ],
   "source": [
    "x=function(\"x\")(t);eq4=diff(x2,t)==5*x2-8*x1+6*x+t*sin(t) + 2*exp(t)*cos(t)-3*exp(3*t)*sin(2*t);eq4"
   ]
  },
  {
   "cell_type": "code",
   "execution_count": 75,
   "metadata": {},
   "outputs": [
    {
     "ename": "TypeError",
     "evalue": "Computation failed since Maxima requested additional constraints; using the 'assume' command before evaluation *may* help (example of legal syntax is 'assume(g1975-3>0)', see `assume?` for more details)\nIs g1975-3 positive, negative or zero?",
     "output_type": "error",
     "traceback": [
      "\u001b[0;31m---------------------------------------------------------------------------\u001b[0m",
      "\u001b[0;31mRuntimeError\u001b[0m                              Traceback (most recent call last)",
      "\u001b[0;32m/opt/sagemath-9.1/local/lib/python3.7/site-packages/sage/interfaces/maxima_lib.py\u001b[0m in \u001b[0;36m_create\u001b[0;34m(self, value, name)\u001b[0m\n\u001b[1;32m    604\u001b[0m             \u001b[0;32melse\u001b[0m\u001b[0;34m:\u001b[0m\u001b[0;34m\u001b[0m\u001b[0;34m\u001b[0m\u001b[0m\n\u001b[0;32m--> 605\u001b[0;31m                 \u001b[0mself\u001b[0m\u001b[0;34m.\u001b[0m\u001b[0mset\u001b[0m\u001b[0;34m(\u001b[0m\u001b[0mname\u001b[0m\u001b[0;34m,\u001b[0m \u001b[0mvalue\u001b[0m\u001b[0;34m)\u001b[0m\u001b[0;34m\u001b[0m\u001b[0;34m\u001b[0m\u001b[0m\n\u001b[0m\u001b[1;32m    606\u001b[0m         \u001b[0;32mexcept\u001b[0m \u001b[0mRuntimeError\u001b[0m \u001b[0;32mas\u001b[0m \u001b[0merror\u001b[0m\u001b[0;34m:\u001b[0m\u001b[0;34m\u001b[0m\u001b[0;34m\u001b[0m\u001b[0m\n",
      "\u001b[0;32m/opt/sagemath-9.1/local/lib/python3.7/site-packages/sage/interfaces/maxima_lib.py\u001b[0m in \u001b[0;36mset\u001b[0;34m(self, var, value)\u001b[0m\n\u001b[1;32m    513\u001b[0m         \u001b[0mcmd\u001b[0m \u001b[0;34m=\u001b[0m \u001b[0;34m'%s : %s$'\u001b[0m\u001b[0;34m%\u001b[0m\u001b[0;34m(\u001b[0m\u001b[0mvar\u001b[0m\u001b[0;34m,\u001b[0m \u001b[0mvalue\u001b[0m\u001b[0;34m.\u001b[0m\u001b[0mrstrip\u001b[0m\u001b[0;34m(\u001b[0m\u001b[0;34m';'\u001b[0m\u001b[0;34m)\u001b[0m\u001b[0;34m)\u001b[0m\u001b[0;34m\u001b[0m\u001b[0;34m\u001b[0m\u001b[0m\n\u001b[0;32m--> 514\u001b[0;31m         \u001b[0mself\u001b[0m\u001b[0;34m.\u001b[0m\u001b[0meval\u001b[0m\u001b[0;34m(\u001b[0m\u001b[0mcmd\u001b[0m\u001b[0;34m)\u001b[0m\u001b[0;34m\u001b[0m\u001b[0;34m\u001b[0m\u001b[0m\n\u001b[0m\u001b[1;32m    515\u001b[0m \u001b[0;34m\u001b[0m\u001b[0m\n",
      "\u001b[0;32m/opt/sagemath-9.1/local/lib/python3.7/site-packages/sage/interfaces/maxima_lib.py\u001b[0m in \u001b[0;36m_eval_line\u001b[0;34m(self, line, locals, reformat, **kwds)\u001b[0m\n\u001b[1;32m    459\u001b[0m                 \u001b[0;32mif\u001b[0m \u001b[0mstatement\u001b[0m\u001b[0;34m:\u001b[0m\u001b[0;34m\u001b[0m\u001b[0;34m\u001b[0m\u001b[0m\n\u001b[0;32m--> 460\u001b[0;31m                     \u001b[0mmaxima_eval\u001b[0m\u001b[0;34m(\u001b[0m\u001b[0;34m\"#$%s$\"\u001b[0m \u001b[0;34m%\u001b[0m \u001b[0mstatement\u001b[0m\u001b[0;34m)\u001b[0m\u001b[0;34m\u001b[0m\u001b[0;34m\u001b[0m\u001b[0m\n\u001b[0m\u001b[1;32m    461\u001b[0m         \u001b[0;32mif\u001b[0m \u001b[0;32mnot\u001b[0m \u001b[0mreformat\u001b[0m\u001b[0;34m:\u001b[0m\u001b[0;34m\u001b[0m\u001b[0;34m\u001b[0m\u001b[0m\n",
      "\u001b[0;32m/opt/sagemath-9.1/local/lib/python3.7/site-packages/sage/libs/ecl.pyx\u001b[0m in \u001b[0;36msage.libs.ecl.EclObject.__call__ (build/cythonized/sage/libs/ecl.c:7794)\u001b[0;34m()\u001b[0m\n\u001b[1;32m    804\u001b[0m         \u001b[0mlispargs\u001b[0m \u001b[0;34m=\u001b[0m \u001b[0mEclObject\u001b[0m\u001b[0;34m(\u001b[0m\u001b[0mlist\u001b[0m\u001b[0;34m(\u001b[0m\u001b[0margs\u001b[0m\u001b[0;34m)\u001b[0m\u001b[0;34m)\u001b[0m\u001b[0;34m\u001b[0m\u001b[0;34m\u001b[0m\u001b[0m\n\u001b[0;32m--> 805\u001b[0;31m         \u001b[0;32mreturn\u001b[0m \u001b[0mecl_wrap\u001b[0m\u001b[0;34m(\u001b[0m\u001b[0mecl_safe_apply\u001b[0m\u001b[0;34m(\u001b[0m\u001b[0mself\u001b[0m\u001b[0;34m.\u001b[0m\u001b[0mobj\u001b[0m\u001b[0;34m,\u001b[0m\u001b[0;34m(\u001b[0m\u001b[0;34m<\u001b[0m\u001b[0mEclObject\u001b[0m\u001b[0;34m>\u001b[0m\u001b[0mlispargs\u001b[0m\u001b[0;34m)\u001b[0m\u001b[0;34m.\u001b[0m\u001b[0mobj\u001b[0m\u001b[0;34m)\u001b[0m\u001b[0;34m)\u001b[0m\u001b[0;34m\u001b[0m\u001b[0;34m\u001b[0m\u001b[0m\n\u001b[0m\u001b[1;32m    806\u001b[0m \u001b[0;34m\u001b[0m\u001b[0m\n",
      "\u001b[0;32m/opt/sagemath-9.1/local/lib/python3.7/site-packages/sage/libs/ecl.pyx\u001b[0m in \u001b[0;36msage.libs.ecl.ecl_safe_apply (build/cythonized/sage/libs/ecl.c:5456)\u001b[0;34m()\u001b[0m\n\u001b[1;32m    376\u001b[0m         \u001b[0ms\u001b[0m \u001b[0;34m=\u001b[0m \u001b[0msi_coerce_to_base_string\u001b[0m\u001b[0;34m(\u001b[0m\u001b[0mecl_values\u001b[0m\u001b[0;34m(\u001b[0m\u001b[0;36m1\u001b[0m\u001b[0;34m)\u001b[0m\u001b[0;34m)\u001b[0m\u001b[0;34m\u001b[0m\u001b[0;34m\u001b[0m\u001b[0m\n\u001b[0;32m--> 377\u001b[0;31m         raise RuntimeError(\"ECL says: {}\".format(\n\u001b[0m\u001b[1;32m    378\u001b[0m             char_to_str(ecl_base_string_pointer_safe(s))))\n",
      "\u001b[0;31mRuntimeError\u001b[0m: ECL says: Maxima asks: Is g1975-3 positive, negative or zero?",
      "\nDuring handling of the above exception, another exception occurred:\n",
      "\u001b[0;31mValueError\u001b[0m                                Traceback (most recent call last)",
      "\u001b[0;32m/opt/sagemath-9.1/local/lib/python3.7/site-packages/sage/interfaces/interface.py\u001b[0m in \u001b[0;36m__init__\u001b[0;34m(self, parent, value, is_name, name)\u001b[0m\n\u001b[1;32m    718\u001b[0m             \u001b[0;32mtry\u001b[0m\u001b[0;34m:\u001b[0m\u001b[0;34m\u001b[0m\u001b[0;34m\u001b[0m\u001b[0m\n\u001b[0;32m--> 719\u001b[0;31m                 \u001b[0mself\u001b[0m\u001b[0;34m.\u001b[0m\u001b[0m_name\u001b[0m \u001b[0;34m=\u001b[0m \u001b[0mparent\u001b[0m\u001b[0;34m.\u001b[0m\u001b[0m_create\u001b[0m\u001b[0;34m(\u001b[0m\u001b[0mvalue\u001b[0m\u001b[0;34m,\u001b[0m \u001b[0mname\u001b[0m\u001b[0;34m=\u001b[0m\u001b[0mname\u001b[0m\u001b[0;34m)\u001b[0m\u001b[0;34m\u001b[0m\u001b[0;34m\u001b[0m\u001b[0m\n\u001b[0m\u001b[1;32m    720\u001b[0m             \u001b[0;32mexcept\u001b[0m \u001b[0;34m(\u001b[0m\u001b[0mTypeError\u001b[0m\u001b[0;34m,\u001b[0m \u001b[0mRuntimeError\u001b[0m\u001b[0;34m,\u001b[0m \u001b[0mValueError\u001b[0m\u001b[0;34m)\u001b[0m \u001b[0;32mas\u001b[0m \u001b[0mx\u001b[0m\u001b[0;34m:\u001b[0m\u001b[0;34m\u001b[0m\u001b[0;34m\u001b[0m\u001b[0m\n",
      "\u001b[0;32m/opt/sagemath-9.1/local/lib/python3.7/site-packages/sage/interfaces/maxima_lib.py\u001b[0m in \u001b[0;36m_create\u001b[0;34m(self, value, name)\u001b[0m\n\u001b[1;32m    608\u001b[0m             \u001b[0;32mif\u001b[0m \u001b[0;34m\"Is\"\u001b[0m \u001b[0;32min\u001b[0m \u001b[0ms\u001b[0m\u001b[0;34m:\u001b[0m \u001b[0;31m# Maxima asked for a condition\u001b[0m\u001b[0;34m\u001b[0m\u001b[0;34m\u001b[0m\u001b[0m\n\u001b[0;32m--> 609\u001b[0;31m                 \u001b[0mself\u001b[0m\u001b[0;34m.\u001b[0m\u001b[0m_missing_assumption\u001b[0m\u001b[0;34m(\u001b[0m\u001b[0ms\u001b[0m\u001b[0;34m)\u001b[0m\u001b[0;34m\u001b[0m\u001b[0;34m\u001b[0m\u001b[0m\n\u001b[0m\u001b[1;32m    610\u001b[0m             \u001b[0;32melse\u001b[0m\u001b[0;34m:\u001b[0m\u001b[0;34m\u001b[0m\u001b[0;34m\u001b[0m\u001b[0m\n",
      "\u001b[0;32m/opt/sagemath-9.1/local/lib/python3.7/site-packages/sage/interfaces/maxima_lib.py\u001b[0m in \u001b[0;36m_missing_assumption\u001b[0;34m(self, errstr)\u001b[0m\n\u001b[1;32m   1033\u001b[0m         \u001b[0moutstr\u001b[0m \u001b[0;34m=\u001b[0m \u001b[0moutstr\u001b[0m\u001b[0;34m.\u001b[0m\u001b[0mreplace\u001b[0m\u001b[0;34m(\u001b[0m\u001b[0;34m'_SAGE_VAR_'\u001b[0m\u001b[0;34m,\u001b[0m\u001b[0;34m''\u001b[0m\u001b[0;34m)\u001b[0m\u001b[0;34m\u001b[0m\u001b[0;34m\u001b[0m\u001b[0m\n\u001b[0;32m-> 1034\u001b[0;31m         \u001b[0;32mraise\u001b[0m \u001b[0mValueError\u001b[0m\u001b[0;34m(\u001b[0m\u001b[0moutstr\u001b[0m\u001b[0;34m)\u001b[0m\u001b[0;34m\u001b[0m\u001b[0;34m\u001b[0m\u001b[0m\n\u001b[0m\u001b[1;32m   1035\u001b[0m \u001b[0;34m\u001b[0m\u001b[0m\n",
      "\u001b[0;31mValueError\u001b[0m: Computation failed since Maxima requested additional constraints; using the 'assume' command before evaluation *may* help (example of legal syntax is 'assume(g1975-3>0)', see `assume?` for more details)\nIs g1975-3 positive, negative or zero?",
      "\nDuring handling of the above exception, another exception occurred:\n",
      "\u001b[0;31mTypeError\u001b[0m                                 Traceback (most recent call last)",
      "\u001b[0;32m<ipython-input-75-083c74d8a44d>\u001b[0m in \u001b[0;36m<module>\u001b[0;34m()\u001b[0m\n\u001b[0;32m----> 1\u001b[0;31m \u001b[0mdesolve_system\u001b[0m\u001b[0;34m(\u001b[0m\u001b[0;34m[\u001b[0m\u001b[0meq4\u001b[0m\u001b[0;34m,\u001b[0m\u001b[0meq2\u001b[0m\u001b[0;34m,\u001b[0m\u001b[0meq3\u001b[0m\u001b[0;34m]\u001b[0m\u001b[0;34m,\u001b[0m\u001b[0;34m[\u001b[0m\u001b[0mx\u001b[0m\u001b[0;34m,\u001b[0m\u001b[0mx1\u001b[0m\u001b[0;34m,\u001b[0m\u001b[0mx2\u001b[0m\u001b[0;34m]\u001b[0m\u001b[0;34m)\u001b[0m\u001b[0;34m\u001b[0m\u001b[0;34m\u001b[0m\u001b[0m\n\u001b[0m",
      "\u001b[0;32m/opt/sagemath-9.1/local/lib/python3.7/site-packages/sage/calculus/desolvers.py\u001b[0m in \u001b[0;36mdesolve_system\u001b[0;34m(des, vars, ics, ivar, algorithm)\u001b[0m\n\u001b[1;32m    967\u001b[0m         \u001b[0;32mfor\u001b[0m \u001b[0mdvar\u001b[0m\u001b[0;34m,\u001b[0m \u001b[0mic\u001b[0m \u001b[0;32min\u001b[0m \u001b[0mzip\u001b[0m\u001b[0;34m(\u001b[0m\u001b[0mdvars\u001b[0m\u001b[0;34m,\u001b[0m \u001b[0mics\u001b[0m\u001b[0;34m[\u001b[0m\u001b[0;36m1\u001b[0m\u001b[0;34m:\u001b[0m\u001b[0;34m]\u001b[0m\u001b[0;34m)\u001b[0m\u001b[0;34m:\u001b[0m\u001b[0;34m\u001b[0m\u001b[0;34m\u001b[0m\u001b[0m\n\u001b[1;32m    968\u001b[0m             \u001b[0mdvar\u001b[0m\u001b[0;34m.\u001b[0m\u001b[0matvalue\u001b[0m\u001b[0;34m(\u001b[0m\u001b[0mivar\u001b[0m\u001b[0;34m==\u001b[0m\u001b[0mivar_ic\u001b[0m\u001b[0;34m,\u001b[0m \u001b[0mic\u001b[0m\u001b[0;34m)\u001b[0m\u001b[0;34m\u001b[0m\u001b[0;34m\u001b[0m\u001b[0m\n\u001b[0;32m--> 969\u001b[0;31m     \u001b[0msoln\u001b[0m \u001b[0;34m=\u001b[0m \u001b[0mdvars\u001b[0m\u001b[0;34m[\u001b[0m\u001b[0;36m0\u001b[0m\u001b[0;34m]\u001b[0m\u001b[0;34m.\u001b[0m\u001b[0mparent\u001b[0m\u001b[0;34m(\u001b[0m\u001b[0;34m)\u001b[0m\u001b[0;34m.\u001b[0m\u001b[0mdesolve\u001b[0m\u001b[0;34m(\u001b[0m\u001b[0mdes\u001b[0m\u001b[0;34m,\u001b[0m \u001b[0mdvars\u001b[0m\u001b[0;34m)\u001b[0m\u001b[0;34m\u001b[0m\u001b[0;34m\u001b[0m\u001b[0m\n\u001b[0m\u001b[1;32m    970\u001b[0m     \u001b[0;32mif\u001b[0m \u001b[0mstr\u001b[0m\u001b[0;34m(\u001b[0m\u001b[0msoln\u001b[0m\u001b[0;34m)\u001b[0m\u001b[0;34m.\u001b[0m\u001b[0mstrip\u001b[0m\u001b[0;34m(\u001b[0m\u001b[0;34m)\u001b[0m \u001b[0;34m==\u001b[0m \u001b[0;34m'false'\u001b[0m\u001b[0;34m:\u001b[0m\u001b[0;34m\u001b[0m\u001b[0;34m\u001b[0m\u001b[0m\n\u001b[1;32m    971\u001b[0m         \u001b[0;32mraise\u001b[0m \u001b[0mNotImplementedError\u001b[0m\u001b[0;34m(\u001b[0m\u001b[0;34m\"Maxima was unable to solve this system.\"\u001b[0m\u001b[0;34m)\u001b[0m\u001b[0;34m\u001b[0m\u001b[0;34m\u001b[0m\u001b[0m\n",
      "\u001b[0;32m/opt/sagemath-9.1/local/lib/python3.7/site-packages/sage/interfaces/interface.py\u001b[0m in \u001b[0;36m__call__\u001b[0;34m(self, *args, **kwds)\u001b[0m\n\u001b[1;32m    653\u001b[0m \u001b[0;34m\u001b[0m\u001b[0m\n\u001b[1;32m    654\u001b[0m     \u001b[0;32mdef\u001b[0m \u001b[0m__call__\u001b[0m\u001b[0;34m(\u001b[0m\u001b[0mself\u001b[0m\u001b[0;34m,\u001b[0m \u001b[0;34m*\u001b[0m\u001b[0margs\u001b[0m\u001b[0;34m,\u001b[0m \u001b[0;34m**\u001b[0m\u001b[0mkwds\u001b[0m\u001b[0;34m)\u001b[0m\u001b[0;34m:\u001b[0m\u001b[0;34m\u001b[0m\u001b[0;34m\u001b[0m\u001b[0m\n\u001b[0;32m--> 655\u001b[0;31m         \u001b[0;32mreturn\u001b[0m \u001b[0mself\u001b[0m\u001b[0;34m.\u001b[0m\u001b[0m_parent\u001b[0m\u001b[0;34m.\u001b[0m\u001b[0mfunction_call\u001b[0m\u001b[0;34m(\u001b[0m\u001b[0mself\u001b[0m\u001b[0;34m.\u001b[0m\u001b[0m_name\u001b[0m\u001b[0;34m,\u001b[0m \u001b[0mlist\u001b[0m\u001b[0;34m(\u001b[0m\u001b[0margs\u001b[0m\u001b[0;34m)\u001b[0m\u001b[0;34m,\u001b[0m \u001b[0mkwds\u001b[0m\u001b[0;34m)\u001b[0m\u001b[0;34m\u001b[0m\u001b[0;34m\u001b[0m\u001b[0m\n\u001b[0m\u001b[1;32m    656\u001b[0m \u001b[0;34m\u001b[0m\u001b[0m\n\u001b[1;32m    657\u001b[0m     \u001b[0;32mdef\u001b[0m \u001b[0m_instancedoc_\u001b[0m\u001b[0;34m(\u001b[0m\u001b[0mself\u001b[0m\u001b[0;34m)\u001b[0m\u001b[0;34m:\u001b[0m\u001b[0;34m\u001b[0m\u001b[0;34m\u001b[0m\u001b[0m\n",
      "\u001b[0;32m/opt/sagemath-9.1/local/lib/python3.7/site-packages/sage/interfaces/interface.py\u001b[0m in \u001b[0;36mfunction_call\u001b[0;34m(self, function, args, kwds)\u001b[0m\n\u001b[1;32m    600\u001b[0m                                        \u001b[0;34m[\u001b[0m\u001b[0ms\u001b[0m\u001b[0;34m.\u001b[0m\u001b[0mname\u001b[0m\u001b[0;34m(\u001b[0m\u001b[0;34m)\u001b[0m \u001b[0;32mfor\u001b[0m \u001b[0ms\u001b[0m \u001b[0;32min\u001b[0m \u001b[0margs\u001b[0m\u001b[0;34m]\u001b[0m\u001b[0;34m,\u001b[0m\u001b[0;34m\u001b[0m\u001b[0;34m\u001b[0m\u001b[0m\n\u001b[1;32m    601\u001b[0m                                        ['%s=%s'%(key,value.name()) for key, value in kwds.items()])\n\u001b[0;32m--> 602\u001b[0;31m         \u001b[0;32mreturn\u001b[0m \u001b[0mself\u001b[0m\u001b[0;34m.\u001b[0m\u001b[0mnew\u001b[0m\u001b[0;34m(\u001b[0m\u001b[0ms\u001b[0m\u001b[0;34m)\u001b[0m\u001b[0;34m\u001b[0m\u001b[0;34m\u001b[0m\u001b[0m\n\u001b[0m\u001b[1;32m    603\u001b[0m \u001b[0;34m\u001b[0m\u001b[0m\n\u001b[1;32m    604\u001b[0m     \u001b[0;32mdef\u001b[0m \u001b[0m_function_call_string\u001b[0m\u001b[0;34m(\u001b[0m\u001b[0mself\u001b[0m\u001b[0;34m,\u001b[0m \u001b[0mfunction\u001b[0m\u001b[0;34m,\u001b[0m \u001b[0margs\u001b[0m\u001b[0;34m,\u001b[0m \u001b[0mkwds\u001b[0m\u001b[0;34m)\u001b[0m\u001b[0;34m:\u001b[0m\u001b[0;34m\u001b[0m\u001b[0;34m\u001b[0m\u001b[0m\n",
      "\u001b[0;32m/opt/sagemath-9.1/local/lib/python3.7/site-packages/sage/interfaces/interface.py\u001b[0m in \u001b[0;36mnew\u001b[0;34m(self, code)\u001b[0m\n\u001b[1;32m    369\u001b[0m \u001b[0;34m\u001b[0m\u001b[0m\n\u001b[1;32m    370\u001b[0m     \u001b[0;32mdef\u001b[0m \u001b[0mnew\u001b[0m\u001b[0;34m(\u001b[0m\u001b[0mself\u001b[0m\u001b[0;34m,\u001b[0m \u001b[0mcode\u001b[0m\u001b[0;34m)\u001b[0m\u001b[0;34m:\u001b[0m\u001b[0;34m\u001b[0m\u001b[0;34m\u001b[0m\u001b[0m\n\u001b[0;32m--> 371\u001b[0;31m         \u001b[0;32mreturn\u001b[0m \u001b[0mself\u001b[0m\u001b[0;34m(\u001b[0m\u001b[0mcode\u001b[0m\u001b[0;34m)\u001b[0m\u001b[0;34m\u001b[0m\u001b[0;34m\u001b[0m\u001b[0m\n\u001b[0m\u001b[1;32m    372\u001b[0m \u001b[0;34m\u001b[0m\u001b[0m\n\u001b[1;32m    373\u001b[0m     \u001b[0;31m###################################################################\u001b[0m\u001b[0;34m\u001b[0m\u001b[0;34m\u001b[0m\u001b[0;34m\u001b[0m\u001b[0m\n",
      "\u001b[0;32m/opt/sagemath-9.1/local/lib/python3.7/site-packages/sage/interfaces/interface.py\u001b[0m in \u001b[0;36m__call__\u001b[0;34m(self, x, name)\u001b[0m\n\u001b[1;32m    295\u001b[0m \u001b[0;34m\u001b[0m\u001b[0m\n\u001b[1;32m    296\u001b[0m         \u001b[0;32mif\u001b[0m \u001b[0misinstance\u001b[0m\u001b[0;34m(\u001b[0m\u001b[0mx\u001b[0m\u001b[0;34m,\u001b[0m \u001b[0mstring_types\u001b[0m\u001b[0;34m)\u001b[0m\u001b[0;34m:\u001b[0m\u001b[0;34m\u001b[0m\u001b[0;34m\u001b[0m\u001b[0m\n\u001b[0;32m--> 297\u001b[0;31m             \u001b[0;32mreturn\u001b[0m \u001b[0mcls\u001b[0m\u001b[0;34m(\u001b[0m\u001b[0mself\u001b[0m\u001b[0;34m,\u001b[0m \u001b[0mx\u001b[0m\u001b[0;34m,\u001b[0m \u001b[0mname\u001b[0m\u001b[0;34m=\u001b[0m\u001b[0mname\u001b[0m\u001b[0;34m)\u001b[0m\u001b[0;34m\u001b[0m\u001b[0;34m\u001b[0m\u001b[0m\n\u001b[0m\u001b[1;32m    298\u001b[0m         \u001b[0;32mtry\u001b[0m\u001b[0;34m:\u001b[0m\u001b[0;34m\u001b[0m\u001b[0;34m\u001b[0m\u001b[0m\n\u001b[1;32m    299\u001b[0m             \u001b[0;31m# Special methods do not and should not have an option to\u001b[0m\u001b[0;34m\u001b[0m\u001b[0;34m\u001b[0m\u001b[0;34m\u001b[0m\u001b[0m\n",
      "\u001b[0;32m/opt/sagemath-9.1/local/lib/python3.7/site-packages/sage/interfaces/interface.py\u001b[0m in \u001b[0;36m__init__\u001b[0;34m(self, parent, value, is_name, name)\u001b[0m\n\u001b[1;32m    719\u001b[0m                 \u001b[0mself\u001b[0m\u001b[0;34m.\u001b[0m\u001b[0m_name\u001b[0m \u001b[0;34m=\u001b[0m \u001b[0mparent\u001b[0m\u001b[0;34m.\u001b[0m\u001b[0m_create\u001b[0m\u001b[0;34m(\u001b[0m\u001b[0mvalue\u001b[0m\u001b[0;34m,\u001b[0m \u001b[0mname\u001b[0m\u001b[0;34m=\u001b[0m\u001b[0mname\u001b[0m\u001b[0;34m)\u001b[0m\u001b[0;34m\u001b[0m\u001b[0;34m\u001b[0m\u001b[0m\n\u001b[1;32m    720\u001b[0m             \u001b[0;32mexcept\u001b[0m \u001b[0;34m(\u001b[0m\u001b[0mTypeError\u001b[0m\u001b[0;34m,\u001b[0m \u001b[0mRuntimeError\u001b[0m\u001b[0;34m,\u001b[0m \u001b[0mValueError\u001b[0m\u001b[0;34m)\u001b[0m \u001b[0;32mas\u001b[0m \u001b[0mx\u001b[0m\u001b[0;34m:\u001b[0m\u001b[0;34m\u001b[0m\u001b[0;34m\u001b[0m\u001b[0m\n\u001b[0;32m--> 721\u001b[0;31m                 \u001b[0;32mraise\u001b[0m \u001b[0mTypeError\u001b[0m\u001b[0;34m(\u001b[0m\u001b[0mx\u001b[0m\u001b[0;34m)\u001b[0m\u001b[0;34m\u001b[0m\u001b[0;34m\u001b[0m\u001b[0m\n\u001b[0m\u001b[1;32m    722\u001b[0m \u001b[0;34m\u001b[0m\u001b[0m\n\u001b[1;32m    723\u001b[0m     \u001b[0;32mdef\u001b[0m \u001b[0m_latex_\u001b[0m\u001b[0;34m(\u001b[0m\u001b[0mself\u001b[0m\u001b[0;34m)\u001b[0m\u001b[0;34m:\u001b[0m\u001b[0;34m\u001b[0m\u001b[0;34m\u001b[0m\u001b[0m\n",
      "\u001b[0;31mTypeError\u001b[0m: Computation failed since Maxima requested additional constraints; using the 'assume' command before evaluation *may* help (example of legal syntax is 'assume(g1975-3>0)', see `assume?` for more details)\nIs g1975-3 positive, negative or zero?"
     ]
    }
   ],
   "source": [
    "desolve_system([eq4,eq2,eq3],[x,x1,x2])"
   ]
  },
  {
   "cell_type": "code",
   "execution_count": 178,
   "metadata": {},
   "outputs": [],
   "source": [
    "# Tampoc ho sap fer\n",
    "# Probem-ho manualment\n",
    "\n",
    "# Diem y0=y, y1= y' ; y2= y1'= y'' \n",
    "#\n",
    "# Tenim doncs un sistema\n",
    "#\n",
    "# y0'= y1\n",
    "# y1'= y2\n",
    "# y2'= y'''=6 y0-8 y1+ 5 y2 + part no homogènea  \n",
    "\n",
    "# Tenim el vector de derivades (y0',y1',y2') que és igual a la matriu [[0,1,0],[0,0,1],[6,-8,5]]\n",
    "# pel funcions (y0,y1,y2) més un terme no homogeni (0,0,t)"
   ]
  },
  {
   "cell_type": "code",
   "execution_count": 62,
   "metadata": {},
   "outputs": [
    {
     "name": "stdout",
     "output_type": "stream",
     "text": [
      "[ 0  1  0]\n",
      "[ 0  0  1]\n",
      "[ 6 -8  5]\n",
      "\n",
      "x^3 - 5*x^2 + 8*x - 6\n",
      "\n",
      "[3, 1 - 1*I, 1 + 1*I]\n",
      "\n",
      "[(3, [\n",
      "(1, 3, 9)\n",
      "], 1), (1 - 1*I, [(1, 1 - 1*I, -2*I)], 1), (1 + 1*I, [(1, 1 + 1*I, 2*I)], 1)]\n"
     ]
    }
   ],
   "source": [
    "A=matrix(QQ,[[0,1,0],[0,0,1],[6,-8,5]]);print(A);\n",
    "print();print(A.charpoly());print();\n",
    "print(A.eigenvalues());\n",
    "print();\n",
    "print(A.eigenvectors_right())"
   ]
  },
  {
   "cell_type": "code",
   "execution_count": 63,
   "metadata": {},
   "outputs": [
    {
     "name": "stdout",
     "output_type": "stream",
     "text": [
      "[                     1.00000000000000                      1.00000000000000                      1.00000000000000]\n",
      "[                     3.00000000000000 1.00000000000000 - 1.00000000000000*I 1.00000000000000 + 1.00000000000000*I]\n",
      "[                     9.00000000000000                   -2.00000000000000*I                    2.00000000000000*I]\n"
     ]
    },
    {
     "data": {
      "text/plain": [
       "[     3.00000000000000 - 2.49800180540660e-16*I -1.66533453693773e-16 + 2.22044604925031e-16*I  1.66533453693773e-16 - 2.22044604925031e-16*I]\n",
       "[                       -4.44089209850063e-16*I          1.00000000000000 - 1.00000000000000*I                              0.000000000000000]\n",
       "[ 4.44089209850063e-16 + 3.33066907387547e-16*I                         1.11022302462516e-16*I          1.00000000000000 + 1.00000000000000*I]"
      ]
     },
     "execution_count": 63,
     "metadata": {},
     "output_type": "execute_result"
    }
   ],
   "source": [
    "B=matrix(CC,[[1,1,1],[3,1-I,1+I],[9,-2*I,2*I]]);\n",
    "print(B);\n",
    "1/B*A*B"
   ]
  },
  {
   "cell_type": "code",
   "execution_count": 78,
   "metadata": {},
   "outputs": [],
   "source": [
    "# això planteja un problema trivial com\n",
    "#\n",
    "# z1'= v1*z1\n",
    "# z2'= v2*z2\n",
    "# z3'= v3*z3+ t*sin(t) + 2*exp(t)*cos(t)-3*exp(3*t)*sin(2*t)\n",
    "#\n",
    "# Busquem la solució de la part homogenea.\n"
   ]
  },
  {
   "cell_type": "code",
   "execution_count": 64,
   "metadata": {},
   "outputs": [
    {
     "data": {
      "text/plain": [
       "_C*e^((I + 1)*t)"
      ]
     },
     "execution_count": 64,
     "metadata": {},
     "output_type": "execute_result"
    }
   ],
   "source": [
    "z3=function(\"z3\")(t);sol_z3=desolve(diff(z3,t)==(1+I)*z3,z3);sol_z3"
   ]
  },
  {
   "cell_type": "code",
   "execution_count": 65,
   "metadata": {},
   "outputs": [
    {
     "data": {
      "text/plain": [
       "_C*e^((I + 1)*t)"
      ]
     },
     "execution_count": 65,
     "metadata": {},
     "output_type": "execute_result"
    }
   ],
   "source": [
    "sol_z3.simplify_full()"
   ]
  },
  {
   "cell_type": "code",
   "execution_count": 66,
   "metadata": {},
   "outputs": [
    {
     "data": {
      "text/plain": [
       "_C*(cos(t) + I*sin(t))*e^t"
      ]
     },
     "execution_count": 66,
     "metadata": {},
     "output_type": "execute_result"
    }
   ],
   "source": [
    "sol_z3=sol_z3.simplify_full().subs(exp((I+1)*t)==exp(t)*(cos(t)+I*sin(t)));sol_z3"
   ]
  },
  {
   "cell_type": "code",
   "execution_count": 194,
   "metadata": {},
   "outputs": [],
   "source": [
    "# Haig de diferenciar les constants de cada solució"
   ]
  },
  {
   "cell_type": "code",
   "execution_count": 67,
   "metadata": {},
   "outputs": [
    {
     "data": {
      "text/plain": [
       "K3*(cos(t) + I*sin(t))*e^t"
      ]
     },
     "execution_count": 67,
     "metadata": {},
     "output_type": "execute_result"
    }
   ],
   "source": [
    "var(\"K3\");sol_z3=sol_z3.subs(_C==K3);sol_z3"
   ]
  },
  {
   "cell_type": "code",
   "execution_count": 68,
   "metadata": {},
   "outputs": [
    {
     "data": {
      "text/plain": [
       "_C*e^((I - 1)*t)"
      ]
     },
     "execution_count": 68,
     "metadata": {},
     "output_type": "execute_result"
    }
   ],
   "source": [
    "z2=function(\"z2\")(t);sol_z2=desolve(diff(z2,t)==(-1+I)*z2,z2);sol_z2"
   ]
  },
  {
   "cell_type": "code",
   "execution_count": 69,
   "metadata": {},
   "outputs": [
    {
     "data": {
      "text/plain": [
       "_C*(cos(t) - I*sin(t))*e^t"
      ]
     },
     "execution_count": 69,
     "metadata": {},
     "output_type": "execute_result"
    }
   ],
   "source": [
    "sol_z2=sol_z2.simplify_full().subs(exp((I-1)*t)==exp(t)*(cos(t)-I*sin(t)));sol_z2"
   ]
  },
  {
   "cell_type": "code",
   "execution_count": 70,
   "metadata": {},
   "outputs": [
    {
     "data": {
      "text/plain": [
       "K2*(cos(t) - I*sin(t))*e^t"
      ]
     },
     "execution_count": 70,
     "metadata": {},
     "output_type": "execute_result"
    }
   ],
   "source": [
    "var(\"K2\");sol_z2=sol_z2.subs(_C==K2);sol_z2"
   ]
  },
  {
   "cell_type": "code",
   "execution_count": 71,
   "metadata": {},
   "outputs": [
    {
     "data": {
      "text/plain": [
       "_C*e^(3*t)"
      ]
     },
     "execution_count": 71,
     "metadata": {},
     "output_type": "execute_result"
    }
   ],
   "source": [
    "z1=function(\"z1\")(t);sol_z1=desolve(diff(z1,t)==3*z1,z1);sol_z1"
   ]
  },
  {
   "cell_type": "code",
   "execution_count": 72,
   "metadata": {},
   "outputs": [
    {
     "data": {
      "text/plain": [
       "K1*e^(3*t)"
      ]
     },
     "execution_count": 72,
     "metadata": {},
     "output_type": "execute_result"
    }
   ],
   "source": [
    "var(\"K1\");sol_z1=sol_z1.subs(_C==K1);sol_z1"
   ]
  },
  {
   "cell_type": "code",
   "execution_count": 76,
   "metadata": {},
   "outputs": [
    {
     "data": {
      "text/plain": [
       "(1.00000000000000*K3*(cos(t) + I*sin(t))*e^t + 1.00000000000000*K2*(cos(t) - I*sin(t))*e^t + 1.00000000000000*K1*e^(3*t), (1.00000000000000 + 1.00000000000000*I)*K3*(cos(t) + I*sin(t))*e^t + (1.00000000000000 - 1.00000000000000*I)*K2*(cos(t) - I*sin(t))*e^t + 3.00000000000000*K1*e^(3*t), 2.00000000000000*I*K3*(cos(t) + I*sin(t))*e^t - 2.00000000000000*I*K2*(cos(t) - I*sin(t))*e^t + 9.00000000000000*K1*e^(3*t))"
      ]
     },
     "execution_count": 76,
     "metadata": {},
     "output_type": "execute_result"
    }
   ],
   "source": [
    "w=vector([sol_z1,sol_z2,sol_z3]);\n",
    "B*w"
   ]
  },
  {
   "cell_type": "code",
   "execution_count": 77,
   "metadata": {},
   "outputs": [],
   "source": [
    "sol_x=K2*cos(t)*e^t + K3*cos(t)*e^t - I*K2*e^t*sin(t) + I*K3*e^t*sin(t) + K1*e^(3*t)"
   ]
  },
  {
   "cell_type": "code",
   "execution_count": 78,
   "metadata": {},
   "outputs": [],
   "source": [
    "sol_x1=(1 - I)*K2*cos(t)*e^t + (1+ I)*K3*cos(t)*e^t - (1+ I)*K2*e^t*sin(t) - (1- I)*K3*e^t*sin(t) + 3*K1*e^(3*t)"
   ]
  },
  {
   "cell_type": "code",
   "execution_count": 79,
   "metadata": {},
   "outputs": [],
   "source": [
    "sol_x2=-2*I*K2*cos(t)*e^t + 2*I*K3*cos(t)*e^t - 2*K2*e^t*sin(t) - 2*K3*e^t*sin(t) + 9*K1*e^(3*t)"
   ]
  },
  {
   "cell_type": "code",
   "execution_count": 80,
   "metadata": {},
   "outputs": [],
   "source": [
    "# Comprovem que tot va be"
   ]
  },
  {
   "cell_type": "code",
   "execution_count": 81,
   "metadata": {},
   "outputs": [
    {
     "data": {
      "text/plain": [
       "0"
      ]
     },
     "execution_count": 81,
     "metadata": {},
     "output_type": "execute_result"
    }
   ],
   "source": [
    "diff(sol_x,t)-sol_x1"
   ]
  },
  {
   "cell_type": "code",
   "execution_count": 82,
   "metadata": {},
   "outputs": [
    {
     "data": {
      "text/plain": [
       "0"
      ]
     },
     "execution_count": 82,
     "metadata": {},
     "output_type": "execute_result"
    }
   ],
   "source": [
    "diff(sol_x,t,2)-sol_x2"
   ]
  },
  {
   "cell_type": "code",
   "execution_count": 84,
   "metadata": {},
   "outputs": [
    {
     "data": {
      "text/plain": [
       "0"
      ]
     },
     "execution_count": 84,
     "metadata": {},
     "output_type": "execute_result"
    }
   ],
   "source": [
    "diff(sol_x,t,3)-5*diff(sol_x,t,2)+8*diff(sol_x,t)-6*sol_x"
   ]
  },
  {
   "cell_type": "code",
   "execution_count": 222,
   "metadata": {},
   "outputs": [],
   "source": [
    "# Supossem que volem que passi per un un real, per exemple x(0)=x0, x'(0)=y0, x''(0)=z0"
   ]
  },
  {
   "cell_type": "code",
   "execution_count": 85,
   "metadata": {},
   "outputs": [
    {
     "data": {
      "text/plain": [
       "[K1 + K2 + K3 == x0,\n",
       " 3*K1 - (I - 1)*K2 + (I + 1)*K3 == y0,\n",
       " 9*K1 - 2*I*K2 + 2*I*K3 == z0]"
      ]
     },
     "execution_count": 85,
     "metadata": {},
     "output_type": "execute_result"
    }
   ],
   "source": [
    "var(\"x0 y0 z0\");sistem=[sol_x.subs(t==0)==x0,sol_x1.subs(t==0)==y0,sol_x2.subs(t==0)==z0];sistem"
   ]
  },
  {
   "cell_type": "code",
   "execution_count": 86,
   "metadata": {},
   "outputs": [
    {
     "data": {
      "text/plain": [
       "[[K1 == 2/5*x0 - 2/5*y0 + 1/5*z0, K2 == -(9/10*I - 3/10)*x0 + (9/10*I + 1/5)*y0 - (1/5*I + 1/10)*z0, K3 == (9/10*I + 3/10)*x0 - (9/10*I - 1/5)*y0 + (1/5*I - 1/10)*z0]]"
      ]
     },
     "execution_count": 86,
     "metadata": {},
     "output_type": "execute_result"
    }
   ],
   "source": [
    "sol_K=solve(sistem,[K1,K2,K3]);sol_K"
   ]
  },
  {
   "cell_type": "code",
   "execution_count": 87,
   "metadata": {},
   "outputs": [
    {
     "data": {
      "text/plain": [
       "1/5*(3*cos(t)*e^t - 9*e^t*sin(t) + 2*e^(3*t))*x0 + 1/5*(2*cos(t)*e^t + 9*e^t*sin(t) - 2*e^(3*t))*y0 - 1/5*(cos(t)*e^t + 2*e^t*sin(t) - e^(3*t))*z0"
      ]
     },
     "execution_count": 87,
     "metadata": {},
     "output_type": "execute_result"
    }
   ],
   "source": [
    "sol_x0=sol_x.subs(sol_K).simplify_full();sol_x0"
   ]
  },
  {
   "cell_type": "code",
   "execution_count": 226,
   "metadata": {},
   "outputs": [],
   "source": [
    "# I obtenim una solució 100% real"
   ]
  },
  {
   "cell_type": "code",
   "execution_count": 227,
   "metadata": {},
   "outputs": [],
   "source": [
    "# Si tenim una solució del tipus\n",
    "#\n",
    "# (K2*(cos(t) - I*sin(t))+ K3*(cos(t) + I*sin(t) )*f(t) \n",
    "#\n",
    "# sempre podrem trobar K2 i K3 complexes (conjugats) tal que el resultat final sigui real\n",
    "# Per tant, si estem buscant una solució real podem suposar directament que és del tipus\n",
    "#\n",
    "#  (KK2*cos(t) + KK3*sin(t))f(t)"
   ]
  },
  {
   "cell_type": "code",
   "execution_count": 88,
   "metadata": {},
   "outputs": [],
   "source": [
    "sol_xn=K2*cos(t)*e^t + K3*e^t*sin(t) + K1*e^(3*t)"
   ]
  },
  {
   "cell_type": "code",
   "execution_count": 89,
   "metadata": {},
   "outputs": [
    {
     "data": {
      "text/plain": [
       "[K1 + K2 == x0, 3*K1 + K2 + K3 == y0, 9*K1 + 2*K3 == z0]"
      ]
     },
     "execution_count": 89,
     "metadata": {},
     "output_type": "execute_result"
    }
   ],
   "source": [
    "var(\"x0 y0 z0\");sistem=[sol_xn.subs(t==0)==x0,diff(sol_xn,t).subs(t==0)==y0,diff(sol_xn,t,t).subs(t==0)==z0];sistem"
   ]
  },
  {
   "cell_type": "code",
   "execution_count": 90,
   "metadata": {},
   "outputs": [
    {
     "data": {
      "text/plain": [
       "[[K1 == 2/5*x0 - 2/5*y0 + 1/5*z0, K2 == 3/5*x0 + 2/5*y0 - 1/5*z0, K3 == -9/5*x0 + 9/5*y0 - 2/5*z0]]"
      ]
     },
     "execution_count": 90,
     "metadata": {},
     "output_type": "execute_result"
    }
   ],
   "source": [
    "sol_K=solve(sistem,[K1,K2,K3]);sol_K"
   ]
  },
  {
   "cell_type": "code",
   "execution_count": 91,
   "metadata": {},
   "outputs": [
    {
     "data": {
      "text/plain": [
       "1/5*(3*cos(t)*e^t - 9*e^t*sin(t) + 2*e^(3*t))*x0 + 1/5*(2*cos(t)*e^t + 9*e^t*sin(t) - 2*e^(3*t))*y0 - 1/5*(cos(t)*e^t + 2*e^t*sin(t) - e^(3*t))*z0"
      ]
     },
     "execution_count": 91,
     "metadata": {},
     "output_type": "execute_result"
    }
   ],
   "source": [
    "sol_xnsub=sol_xn.subs(sol_K).simplify_full();sol_xnsub"
   ]
  },
  {
   "cell_type": "code",
   "execution_count": 92,
   "metadata": {},
   "outputs": [
    {
     "data": {
      "text/plain": [
       "0"
      ]
     },
     "execution_count": 92,
     "metadata": {},
     "output_type": "execute_result"
    }
   ],
   "source": [
    "sol_x0-sol_xnsub"
   ]
  },
  {
   "cell_type": "code",
   "execution_count": 237,
   "metadata": {},
   "outputs": [],
   "source": [
    "# Apartat f) "
   ]
  },
  {
   "cell_type": "code",
   "execution_count": 93,
   "metadata": {},
   "outputs": [],
   "source": [
    "f(t)=t*sin(t)"
   ]
  },
  {
   "cell_type": "code",
   "execution_count": 94,
   "metadata": {},
   "outputs": [
    {
     "data": {
      "text/plain": [
       "t*cos(t) + sin(t)"
      ]
     },
     "execution_count": 94,
     "metadata": {},
     "output_type": "execute_result"
    }
   ],
   "source": [
    "diff(f(t),t)"
   ]
  },
  {
   "cell_type": "code",
   "execution_count": 95,
   "metadata": {},
   "outputs": [
    {
     "data": {
      "text/plain": [
       "-t*sin(t) + 2*cos(t)"
      ]
     },
     "execution_count": 95,
     "metadata": {},
     "output_type": "execute_result"
    }
   ],
   "source": [
    "diff(f(t),t,2)"
   ]
  },
  {
   "cell_type": "code",
   "execution_count": 241,
   "metadata": {},
   "outputs": [],
   "source": [
    "# No puc cancelar el t*cos(t) amb el cos(t)"
   ]
  },
  {
   "cell_type": "code",
   "execution_count": 96,
   "metadata": {},
   "outputs": [
    {
     "data": {
      "text/plain": [
       "-t*cos(t) - 3*sin(t)"
      ]
     },
     "execution_count": 96,
     "metadata": {},
     "output_type": "execute_result"
    }
   ],
   "source": [
    "diff(f(t),t,3)"
   ]
  },
  {
   "cell_type": "code",
   "execution_count": 243,
   "metadata": {},
   "outputs": [],
   "source": [
    "# Podria combinar la derivada tercera amb la primera per anular el t*cos(t) però m'apareixería un sin(t) sense \n",
    "# multiplicar per t que és el que necessito "
   ]
  },
  {
   "cell_type": "code",
   "execution_count": 97,
   "metadata": {},
   "outputs": [
    {
     "data": {
      "text/plain": [
       "t*sin(t) - 4*cos(t)"
      ]
     },
     "execution_count": 97,
     "metadata": {},
     "output_type": "execute_result"
    }
   ],
   "source": [
    "diff(f(t),t,4)"
   ]
  },
  {
   "cell_type": "code",
   "execution_count": 245,
   "metadata": {},
   "outputs": [],
   "source": [
    "# Ara si que puc combinar la derivada 4 amb la derivada 2 per cancelar el cos(t) i que hem quedi com a \n",
    "# remanent t*sin(t)"
   ]
  },
  {
   "cell_type": "code",
   "execution_count": 98,
   "metadata": {},
   "outputs": [
    {
     "data": {
      "text/plain": [
       "K0*t*sin(t) - (t*sin(t) - 2*cos(t))*K2 + (t*sin(t) - 4*cos(t))*K4"
      ]
     },
     "execution_count": 98,
     "metadata": {},
     "output_type": "execute_result"
    }
   ],
   "source": [
    "var(\"K4 K2 K0\");test=K4*diff(f(t),t,4)+K2*diff(f(t),t,2)+K0*f(t);test"
   ]
  },
  {
   "cell_type": "code",
   "execution_count": 99,
   "metadata": {},
   "outputs": [
    {
     "data": {
      "text/plain": [
       "(K0 - K4)*t*sin(t)"
      ]
     },
     "execution_count": 99,
     "metadata": {},
     "output_type": "execute_result"
    }
   ],
   "source": [
    "test.subs(K2=2*K4).simplify_full()"
   ]
  },
  {
   "cell_type": "code",
   "execution_count": 248,
   "metadata": {},
   "outputs": [],
   "source": [
    "# Prenem K4=K0=1 => K2=2 i tenim que t*sin(t) és solució de y''''+2y''+y=0\n",
    "# amb condicions inicials y(0)=0, y'(0)=0,y''(0)=2 i y'''(0)=0\n"
   ]
  },
  {
   "cell_type": "code",
   "execution_count": 249,
   "metadata": {},
   "outputs": [],
   "source": [
    "#Apartat g\n",
    "# podem trovar la solució particular per mitjà de variar paràmetres o usant la homogenea anterior"
   ]
  },
  {
   "cell_type": "code",
   "execution_count": null,
   "metadata": {},
   "outputs": [],
   "source": [
    "# Tenim que x'''-5x''+8x'-6x=t sin(t) = y i per altre costat\n",
    "# y''''+2y''+y= 0   Per tant\n",
    "#\n",
    "# y= x'''-5x''+8x'-6x\n",
    "#\n",
    "# y''= x^(5)-5x^(4)+8x^(3)-6 x^(2)\n",
    "#\n",
    "# y^(4)= x^(7)-5x^(6)+8x^(5)-6 x^(4)   Ho ajuntem\n",
    "#\n",
    "# x^(7)-5x^(6)+8x^(5)-6 x^(4) + 2 (x^(5)-5x^(4)+8x^(3)-6 x^(2)) + x'''-5x''+8x'-6x == 0\n",
    "#\n",
    "# Ens queda una equació diferencial homogenea d'ordre 4+3= 7\n",
    "#\n",
    "# x^(7)-5x^(6)+10x^(5)-16 x^(4) + 17x^(3)-17 x^(2)+8x'-6x == 0\n"
   ]
  },
  {
   "cell_type": "code",
   "execution_count": 161,
   "metadata": {},
   "outputs": [
    {
     "name": "stdout",
     "output_type": "stream",
     "text": [
      "[  0   1   0   0   0   0   0]\n",
      "[  0   0   1   0   0   0   0]\n",
      "[  0   0   0   1   0   0   0]\n",
      "[  0   0   0   0   1   0   0]\n",
      "[  0   0   0   0   0   1   0]\n",
      "[  0   0   0   0   0   0   1]\n",
      "[  6  -8  17 -17  16 -10   5]\n",
      "\n",
      "x^7 - 5*x^6 + 10*x^5 - 16*x^4 + 17*x^3 - 17*x^2 + 8*x - 6\n",
      "\n",
      "[3, 1 - 1*I, 1 + 1*I, -1*I, -1*I, 1*I, 1*I]\n",
      "\n",
      "[(3, [\n",
      "(1, 3, 9, 27, 81, 243, 729)\n",
      "], 1), (1 - 1*I, [(1, 1 - 1*I, -2*I, -2 - 2*I, -4, -4 + 4*I, 8*I)], 1), (1 + 1*I, [(1, 1 + 1*I, 2*I, -2 + 2*I, -4, -4 - 4*I, -8*I)], 1), (-1*I, [(1, -1*I, -1, 1*I, 1, -1*I, -1)], 2), (1*I, [(1, 1*I, -1, -1*I, 1, 1*I, -1)], 2)]\n"
     ]
    }
   ],
   "source": [
    "A=matrix(QQ,[[0,1,0,0,0,0,0],[0,0,1,0,0,0,0],[0,0,0,1,0,0,0],[0,0,0,0,1,0,0],[0,0,0,0,0,1,0],[0,0,0,0,0,0,1],[6,-8,17,-17,16,-10,5]]);print(A);\n",
    "print();print(A.charpoly());print();\n",
    "print(A.eigenvalues());\n",
    "print();\n",
    "print(A.eigenvectors_right())"
   ]
  },
  {
   "cell_type": "code",
   "execution_count": 162,
   "metadata": {},
   "outputs": [],
   "source": [
    "valors=A.eigenvalues()"
   ]
  },
  {
   "cell_type": "code",
   "execution_count": 163,
   "metadata": {},
   "outputs": [],
   "source": [
    "vector0=vector([1, 3, 9, 27, 81, 243, 729])"
   ]
  },
  {
   "cell_type": "code",
   "execution_count": 164,
   "metadata": {},
   "outputs": [
    {
     "data": {
      "text/plain": [
       "[\n",
       "(1, 3, 9, 27, 81, 243, 729)\n",
       "]"
      ]
     },
     "execution_count": 164,
     "metadata": {},
     "output_type": "execute_result"
    }
   ],
   "source": [
    "A.eigenvectors_right()[0][1]"
   ]
  },
  {
   "cell_type": "code",
   "execution_count": 165,
   "metadata": {},
   "outputs": [
    {
     "data": {
      "text/plain": [
       "(3, 9, 27, 81, 243, 729, 2187)"
      ]
     },
     "execution_count": 165,
     "metadata": {},
     "output_type": "execute_result"
    }
   ],
   "source": [
    "A*vector0"
   ]
  },
  {
   "cell_type": "code",
   "execution_count": 166,
   "metadata": {},
   "outputs": [],
   "source": [
    "vector1=vector([1, 1 - 1*I, -2*I, -2 - 2*I, -4, -4 + 4*I, 8*I])"
   ]
  },
  {
   "cell_type": "code",
   "execution_count": 167,
   "metadata": {},
   "outputs": [
    {
     "data": {
      "text/plain": [
       "(-I + 1, -2*I, -2*I - 2, -4, 4*I - 4, 8*I, 8*I + 8)"
      ]
     },
     "execution_count": 167,
     "metadata": {},
     "output_type": "execute_result"
    }
   ],
   "source": [
    "A*vector1"
   ]
  },
  {
   "cell_type": "code",
   "execution_count": 168,
   "metadata": {},
   "outputs": [
    {
     "data": {
      "text/plain": [
       "1 - 1*I"
      ]
     },
     "execution_count": 168,
     "metadata": {},
     "output_type": "execute_result"
    }
   ],
   "source": [
    "valors[1]"
   ]
  },
  {
   "cell_type": "code",
   "execution_count": 169,
   "metadata": {},
   "outputs": [
    {
     "data": {
      "text/plain": [
       "(0, 0, 0, 0, 0, 0, 0)"
      ]
     },
     "execution_count": 169,
     "metadata": {},
     "output_type": "execute_result"
    }
   ],
   "source": [
    "A*vector1-(1-I)*vector1"
   ]
  },
  {
   "cell_type": "code",
   "execution_count": 170,
   "metadata": {},
   "outputs": [
    {
     "data": {
      "text/plain": [
       "1 + 1*I"
      ]
     },
     "execution_count": 170,
     "metadata": {},
     "output_type": "execute_result"
    }
   ],
   "source": [
    "vector2=vector([1, 1 + 1*I, 2*I, -2 + 2*I, -4, -4 - 4*I, -8*I]);\n",
    "valors[2]"
   ]
  },
  {
   "cell_type": "code",
   "execution_count": 171,
   "metadata": {},
   "outputs": [
    {
     "data": {
      "text/plain": [
       "(0, 0, 0, 0, 0, 0, 0)"
      ]
     },
     "execution_count": 171,
     "metadata": {},
     "output_type": "execute_result"
    }
   ],
   "source": [
    "A*vector2-(1+I)*vector2"
   ]
  },
  {
   "cell_type": "code",
   "execution_count": 172,
   "metadata": {},
   "outputs": [
    {
     "data": {
      "text/plain": [
       "-1*I"
      ]
     },
     "execution_count": 172,
     "metadata": {},
     "output_type": "execute_result"
    }
   ],
   "source": [
    "vector3=vector([1, -1*I, -1, 1*I, 1, -1*I, -1]);\n",
    "valors[3]"
   ]
  },
  {
   "cell_type": "code",
   "execution_count": 173,
   "metadata": {},
   "outputs": [
    {
     "data": {
      "text/plain": [
       "(0, 0, 0, 0, 0, 0, 0)"
      ]
     },
     "execution_count": 173,
     "metadata": {},
     "output_type": "execute_result"
    }
   ],
   "source": [
    "A*vector3-(-I)*vector3"
   ]
  },
  {
   "cell_type": "code",
   "execution_count": 174,
   "metadata": {},
   "outputs": [
    {
     "data": {
      "text/plain": [
       "(v1, v2, v3, v4, v5, v6, v7)"
      ]
     },
     "execution_count": 174,
     "metadata": {},
     "output_type": "execute_result"
    }
   ],
   "source": [
    "var(\"v1 v2 v3 v4 v5 v6 v7\");vector4=vector([v1,v2,v3,v4,v5,v6,v7]);vector4"
   ]
  },
  {
   "cell_type": "code",
   "execution_count": 175,
   "metadata": {},
   "outputs": [
    {
     "data": {
      "text/plain": [
       "(I*v1 + v2 - 1, I*v2 + v3 + I, I*v3 + v4 + 1, I*v4 + v5 - I, I*v5 + v6 - 1, I*v6 + v7 + I, 6*v1 - 8*v2 + 17*v3 - 17*v4 + 16*v5 - 10*v6 + (I + 5)*v7 + 1)"
      ]
     },
     "execution_count": 175,
     "metadata": {},
     "output_type": "execute_result"
    }
   ],
   "source": [
    "A*vector4-(-I)*vector4-vector3"
   ]
  },
  {
   "cell_type": "code",
   "execution_count": 176,
   "metadata": {},
   "outputs": [
    {
     "data": {
      "text/plain": [
       "(v2 + I - 1, I*v2 + v3 + I, I*v3 + v4 + 1, I*v4 + v5 - I, I*v5 + v6 - 1, I*v6 + v7 + I, -8*v2 + 17*v3 - 17*v4 + 16*v5 - 10*v6 + (I + 5)*v7 + 7)"
      ]
     },
     "execution_count": 176,
     "metadata": {},
     "output_type": "execute_result"
    }
   ],
   "source": [
    "_.subs(v1==1)"
   ]
  },
  {
   "cell_type": "code",
   "execution_count": 177,
   "metadata": {},
   "outputs": [
    {
     "data": {
      "text/plain": [
       "[[v1 == 1, v2 == (-I + 1), v3 == (-2*I - 1), v4 == (I - 3), v5 == (4*I + 1), v6 == (-I + 5), v7 == (-6*I - 1)]]"
      ]
     },
     "execution_count": 177,
     "metadata": {},
     "output_type": "execute_result"
    }
   ],
   "source": [
    "sol=solve([v1==1,I+v2-1==0,I*v2+v3+I==0,I*v3+v4+1,I*v4+v5-I==0,I*v5+v6-1==0,I*v6+v7+I==0,6-8*v2+17*v3-17*v4+16*v5-10*v6+(I+5)*v7+1==0],[v1,v2,v3,v4,v5,v6,v7]);sol"
   ]
  },
  {
   "cell_type": "code",
   "execution_count": 178,
   "metadata": {},
   "outputs": [
    {
     "data": {
      "text/plain": [
       "(1, -I + 1, -2*I - 1, I - 3, 4*I + 1, -I + 5, -6*I - 1)"
      ]
     },
     "execution_count": 178,
     "metadata": {},
     "output_type": "execute_result"
    }
   ],
   "source": [
    "vector4=vector4.subs(v1=sol[0][0].rhs(),v2=sol[0][1].rhs(),v3=sol[0][2].rhs(),v4=sol[0][3].rhs(),v5=sol[0][4].rhs(),v6=sol[0][5].rhs(),v7=sol[0][6].rhs());vector4"
   ]
  },
  {
   "cell_type": "code",
   "execution_count": 179,
   "metadata": {},
   "outputs": [
    {
     "data": {
      "text/plain": [
       "1*I"
      ]
     },
     "execution_count": 179,
     "metadata": {},
     "output_type": "execute_result"
    }
   ],
   "source": [
    "vector5=vector([1, 1*I, -1, -1*I, 1, 1*I, -1]);\n",
    "valors[5]"
   ]
  },
  {
   "cell_type": "code",
   "execution_count": 180,
   "metadata": {},
   "outputs": [
    {
     "data": {
      "text/plain": [
       "(0, 0, 0, 0, 0, 0, 0)"
      ]
     },
     "execution_count": 180,
     "metadata": {},
     "output_type": "execute_result"
    }
   ],
   "source": [
    "A*vector5-(I)*vector5"
   ]
  },
  {
   "cell_type": "code",
   "execution_count": 181,
   "metadata": {},
   "outputs": [
    {
     "data": {
      "text/plain": [
       "(v1, v2, v3, v4, v5, v6, v7)"
      ]
     },
     "execution_count": 181,
     "metadata": {},
     "output_type": "execute_result"
    }
   ],
   "source": [
    "var(\"v1 v2 v3 v4 v5 v6 v7\");vector6=vector([v1,v2,v3,v4,v5,v6,v7]);vector6"
   ]
  },
  {
   "cell_type": "code",
   "execution_count": 182,
   "metadata": {},
   "outputs": [
    {
     "data": {
      "text/plain": [
       "(-I*v1 + v2 - 1, -I*v2 + v3 - I, -I*v3 + v4 + 1, -I*v4 + v5 + I, -I*v5 + v6 - 1, -I*v6 + v7 - I, 6*v1 - 8*v2 + 17*v3 - 17*v4 + 16*v5 - 10*v6 - (I - 5)*v7 + 1)"
      ]
     },
     "execution_count": 182,
     "metadata": {},
     "output_type": "execute_result"
    }
   ],
   "source": [
    "A*vector6-(I)*vector6-vector5"
   ]
  },
  {
   "cell_type": "code",
   "execution_count": 183,
   "metadata": {},
   "outputs": [
    {
     "data": {
      "text/plain": [
       "(v2 - I - 1, -I*v2 + v3 - I, -I*v3 + v4 + 1, -I*v4 + v5 + I, -I*v5 + v6 - 1, -I*v6 + v7 - I, -8*v2 + 17*v3 - 17*v4 + 16*v5 - 10*v6 - (I - 5)*v7 + 7)"
      ]
     },
     "execution_count": 183,
     "metadata": {},
     "output_type": "execute_result"
    }
   ],
   "source": [
    "_.subs(v1==1)"
   ]
  },
  {
   "cell_type": "code",
   "execution_count": 184,
   "metadata": {},
   "outputs": [
    {
     "data": {
      "text/plain": [
       "[[v1 == 1, v2 == (I + 1), v3 == (2*I - 1), v4 == (-I - 3), v5 == (-4*I + 1), v6 == (I + 5), v7 == (6*I - 1)]]"
      ]
     },
     "execution_count": 184,
     "metadata": {},
     "output_type": "execute_result"
    }
   ],
   "source": [
    "sol=solve([v1==1,v2-I-1==0,-I*v2+v3-I==0,-I*v3+v4+1==0,-I*v4+v5+I==0,-I*v5+v6-1==0,-I*v6+v7-I==0,-8*v2+17*v3-17*v4+16*v5-10*v6-(I-5)*v7+7==0],[v1,v2,v3,v4,v5,v6,v7]);sol"
   ]
  },
  {
   "cell_type": "code",
   "execution_count": 185,
   "metadata": {},
   "outputs": [
    {
     "data": {
      "text/plain": [
       "(1, I + 1, 2*I - 1, -I - 3, -4*I + 1, I + 5, 6*I - 1)"
      ]
     },
     "execution_count": 185,
     "metadata": {},
     "output_type": "execute_result"
    }
   ],
   "source": [
    "vector6=vector6.subs(v1=sol[0][0].rhs(),v2=sol[0][1].rhs(),v3=sol[0][2].rhs(),v4=sol[0][3].rhs(),v5=sol[0][4].rhs(),v6=sol[0][5].rhs(),v7=sol[0][6].rhs());vector6"
   ]
  },
  {
   "cell_type": "code",
   "execution_count": 186,
   "metadata": {},
   "outputs": [
    {
     "data": {
      "text/plain": [
       "[       1        3        9       27       81      243      729]\n",
       "[       1   -I + 1     -2*I -2*I - 2       -4  4*I - 4      8*I]\n",
       "[       1    I + 1      2*I  2*I - 2       -4 -4*I - 4     -8*I]\n",
       "[       1       -I       -1        I        1       -I       -1]\n",
       "[       1   -I + 1 -2*I - 1    I - 3  4*I + 1   -I + 5 -6*I - 1]\n",
       "[       1        I       -1       -I        1        I       -1]\n",
       "[       1    I + 1  2*I - 1   -I - 3 -4*I + 1    I + 5  6*I - 1]"
      ]
     },
     "execution_count": 186,
     "metadata": {},
     "output_type": "execute_result"
    }
   ],
   "source": [
    "B=matrix([vector0,vector1,vector2,vector3,vector4,vector5,vector6]);B"
   ]
  },
  {
   "cell_type": "code",
   "execution_count": 187,
   "metadata": {},
   "outputs": [
    {
     "data": {
      "text/plain": [
       "[       1        1        1        1        1        1        1]\n",
       "[       3   -I + 1    I + 1       -I   -I + 1        I    I + 1]\n",
       "[       9     -2*I      2*I       -1 -2*I - 1       -1  2*I - 1]\n",
       "[      27 -2*I - 2  2*I - 2        I    I - 3       -I   -I - 3]\n",
       "[      81       -4       -4        1  4*I + 1        1 -4*I + 1]\n",
       "[     243  4*I - 4 -4*I - 4       -I   -I + 5        I    I + 5]\n",
       "[     729      8*I     -8*I       -1 -6*I - 1       -1  6*I - 1]"
      ]
     },
     "execution_count": 187,
     "metadata": {},
     "output_type": "execute_result"
    }
   ],
   "source": [
    "B1=B.transpose();B1"
   ]
  },
  {
   "cell_type": "code",
   "execution_count": 188,
   "metadata": {},
   "outputs": [
    {
     "data": {
      "text/plain": [
       "[     3      0      0      0      0      0      0]\n",
       "[     0 -I + 1      0      0      0      0      0]\n",
       "[     0      0  I + 1      0      0      0      0]\n",
       "[     0      0      0     -I      1      0      0]\n",
       "[     0      0      0      0     -I      0      0]\n",
       "[     0      0      0      0      0      I      1]\n",
       "[     0      0      0      0      0      0      I]"
      ]
     },
     "execution_count": 188,
     "metadata": {},
     "output_type": "execute_result"
    }
   ],
   "source": [
    "1/B1*A*B1"
   ]
  },
  {
   "cell_type": "code",
   "execution_count": 189,
   "metadata": {},
   "outputs": [
    {
     "data": {
      "text/plain": [
       "K0*e^(3*t)"
      ]
     },
     "execution_count": 189,
     "metadata": {},
     "output_type": "execute_result"
    }
   ],
   "source": [
    "var(\"t K0\");z0=function(\"z0\")(t);sol_z0=desolve(diff(z0,t)==3*z0,z0);sol_z0=sol_z0.subs(_C==K0);sol_z0"
   ]
  },
  {
   "cell_type": "code",
   "execution_count": 190,
   "metadata": {},
   "outputs": [
    {
     "data": {
      "text/plain": [
       "K1*e^(-(I - 1)*t)"
      ]
     },
     "execution_count": 190,
     "metadata": {},
     "output_type": "execute_result"
    }
   ],
   "source": [
    "var(\"t K1\");z1=function(\"z1\")(t);sol_z1=desolve(diff(z1,t)==(1-I)*z1,z1);sol_z1=sol_z1.subs(_C==K1);sol_z1"
   ]
  },
  {
   "cell_type": "code",
   "execution_count": 191,
   "metadata": {},
   "outputs": [
    {
     "data": {
      "text/plain": [
       "K2*e^((I + 1)*t)"
      ]
     },
     "execution_count": 191,
     "metadata": {},
     "output_type": "execute_result"
    }
   ],
   "source": [
    "var(\"t K2\");z2=function(\"z2\")(t);sol_z2=desolve(diff(z2,t)==(1+I)*z2,z2);sol_z2=sol_z2.subs(_C==K2);sol_z2"
   ]
  },
  {
   "cell_type": "code",
   "execution_count": 192,
   "metadata": {},
   "outputs": [
    {
     "data": {
      "text/plain": [
       "K4*e^(-I*t)"
      ]
     },
     "execution_count": 192,
     "metadata": {},
     "output_type": "execute_result"
    }
   ],
   "source": [
    "var(\"t K4\");z4=function(\"z4\")(t);sol_z4=desolve(diff(z4,t)==(-I)*z4,z4);sol_z4=sol_z4.subs(_C==K4);sol_z4"
   ]
  },
  {
   "cell_type": "code",
   "execution_count": 193,
   "metadata": {},
   "outputs": [
    {
     "data": {
      "text/plain": [
       "(K4*t + K3)*e^(-I*t)"
      ]
     },
     "execution_count": 193,
     "metadata": {},
     "output_type": "execute_result"
    }
   ],
   "source": [
    "var(\"t K3\");z3=function(\"z3\")(t);sol_z3=desolve(diff(z3,t)==(-I)*z3+sol_z4,[z3,t]);sol_z3=sol_z3.subs(_C==K3);sol_z3"
   ]
  },
  {
   "cell_type": "code",
   "execution_count": 194,
   "metadata": {},
   "outputs": [
    {
     "data": {
      "text/plain": [
       "K6*e^(I*t)"
      ]
     },
     "execution_count": 194,
     "metadata": {},
     "output_type": "execute_result"
    }
   ],
   "source": [
    "var(\"t K6\");z6=function(\"z6\")(t);sol_z6=desolve(diff(z6,t)==(I)*z6,z6);sol_z6=sol_z6.subs(_C==K6);sol_z6"
   ]
  },
  {
   "cell_type": "code",
   "execution_count": 195,
   "metadata": {},
   "outputs": [
    {
     "data": {
      "text/plain": [
       "(K6*t + K5)*e^(I*t)"
      ]
     },
     "execution_count": 195,
     "metadata": {},
     "output_type": "execute_result"
    }
   ],
   "source": [
    "var(\"t K5\");z5=function(\"z5\")(t);sol_z5=desolve(diff(z5,t)==(I)*z5+sol_z6,[z5,t]);sol_z5=sol_z5.subs(_C==K5);sol_z5"
   ]
  },
  {
   "cell_type": "code",
   "execution_count": 196,
   "metadata": {},
   "outputs": [
    {
     "data": {
      "text/plain": [
       "(K0*e^(3*t) + K2*e^((I + 1)*t) + K1*e^(-(I - 1)*t) + (K6*t + K5)*e^(I*t) + K6*e^(I*t) + (K4*t + K3)*e^(-I*t) + K4*e^(-I*t), 3*K0*e^(3*t) + (I + 1)*K2*e^((I + 1)*t) - (I - 1)*K1*e^(-(I - 1)*t) + I*(K6*t + K5)*e^(I*t) + (I + 1)*K6*e^(I*t) - I*(K4*t + K3)*e^(-I*t) - (I - 1)*K4*e^(-I*t), 9*K0*e^(3*t) + 2*I*K2*e^((I + 1)*t) - 2*I*K1*e^(-(I - 1)*t) - (K6*t + K5)*e^(I*t) + (2*I - 1)*K6*e^(I*t) - (K4*t + K3)*e^(-I*t) - (2*I + 1)*K4*e^(-I*t), 27*K0*e^(3*t) + (2*I - 2)*K2*e^((I + 1)*t) - (2*I + 2)*K1*e^(-(I - 1)*t) - I*(K6*t + K5)*e^(I*t) - (I + 3)*K6*e^(I*t) + I*(K4*t + K3)*e^(-I*t) + (I - 3)*K4*e^(-I*t), 81*K0*e^(3*t) - 4*K2*e^((I + 1)*t) - 4*K1*e^(-(I - 1)*t) + (K6*t + K5)*e^(I*t) - (4*I - 1)*K6*e^(I*t) + (K4*t + K3)*e^(-I*t) + (4*I + 1)*K4*e^(-I*t), 243*K0*e^(3*t) - (4*I + 4)*K2*e^((I + 1)*t) + (4*I - 4)*K1*e^(-(I - 1)*t) + I*(K6*t + K5)*e^(I*t) + (I + 5)*K6*e^(I*t) - I*(K4*t + K3)*e^(-I*t) - (I - 5)*K4*e^(-I*t), 729*K0*e^(3*t) - 8*I*K2*e^((I + 1)*t) + 8*I*K1*e^(-(I - 1)*t) - (K6*t + K5)*e^(I*t) + (6*I - 1)*K6*e^(I*t) - (K4*t + K3)*e^(-I*t) - (6*I + 1)*K4*e^(-I*t))"
      ]
     },
     "execution_count": 196,
     "metadata": {},
     "output_type": "execute_result"
    }
   ],
   "source": [
    "w=vector([sol_z0,sol_z1,sol_z2,sol_z3,sol_z4,sol_z5,sol_z6]);\n",
    "sol=B1*w;sol"
   ]
  },
  {
   "cell_type": "code",
   "execution_count": 197,
   "metadata": {},
   "outputs": [
    {
     "name": "stdout",
     "output_type": "stream",
     "text": [
      "0\n",
      "0\n",
      "0\n",
      "0\n",
      "0\n",
      "0\n"
     ]
    }
   ],
   "source": [
    "print(diff(sol[0],t)-sol[1]);\n",
    "print(diff(sol[1],t)-sol[2]);\n",
    "print(diff(sol[2],t)-sol[3]);\n",
    "print(diff(sol[3],t)-sol[4]);\n",
    "print(diff(sol[4],t)-sol[5]);\n",
    "print(diff(sol[5],t)-sol[6]);"
   ]
  },
  {
   "cell_type": "code",
   "execution_count": 198,
   "metadata": {},
   "outputs": [
    {
     "data": {
      "text/plain": [
       "0"
      ]
     },
     "execution_count": 198,
     "metadata": {},
     "output_type": "execute_result"
    }
   ],
   "source": [
    "diff(sol[6],t)-5*sol[6]+10*sol[5]-16*sol[4] + 17*sol[3]-17*sol[2]+8*sol[1]-6*sol[0]"
   ]
  },
  {
   "cell_type": "code",
   "execution_count": 199,
   "metadata": {},
   "outputs": [
    {
     "data": {
      "text/plain": [
       "(7*I - 1)*(K6*t + K5)*e^(I*t) - (3*I - 4)*K6*e^(I*t) - (7*I + 1)*(K4*t + K3)*e^(-I*t) + (3*I + 4)*K4*e^(-I*t)"
      ]
     },
     "execution_count": 199,
     "metadata": {},
     "output_type": "execute_result"
    }
   ],
   "source": [
    "y=sol[3]-5*sol[2]+8*sol[1]-6*sol[0];y"
   ]
  },
  {
   "cell_type": "code",
   "execution_count": 200,
   "metadata": {},
   "outputs": [
    {
     "data": {
      "text/plain": [
       "-(7*I + 1)*K3 + (3*I + 4)*K4 + (7*I - 1)*K5 - (3*I - 4)*K6"
      ]
     },
     "execution_count": 200,
     "metadata": {},
     "output_type": "execute_result"
    }
   ],
   "source": [
    "eq1=y.subs(t=0);eq1"
   ]
  },
  {
   "cell_type": "code",
   "execution_count": 201,
   "metadata": {},
   "outputs": [
    {
     "data": {
      "text/plain": [
       "(I - 7)*K3 - (11*I - 2)*K4 - (I + 7)*K5 + (11*I + 2)*K6"
      ]
     },
     "execution_count": 201,
     "metadata": {},
     "output_type": "execute_result"
    }
   ],
   "source": [
    "eq2=diff(y,t).subs(t=0);eq2"
   ]
  },
  {
   "cell_type": "code",
   "execution_count": 202,
   "metadata": {},
   "outputs": [
    {
     "data": {
      "text/plain": [
       "(7*I + 1)*K3 - (I + 18)*K4 - (7*I - 1)*K5 + (I - 18)*K6"
      ]
     },
     "execution_count": 202,
     "metadata": {},
     "output_type": "execute_result"
    }
   ],
   "source": [
    "eq3=diff(y,t,2).subs(t=0);eq3"
   ]
  },
  {
   "cell_type": "code",
   "execution_count": 203,
   "metadata": {},
   "outputs": [
    {
     "data": {
      "text/plain": [
       "-(I - 7)*K3 + 25*I*K4 + (I + 7)*K5 - 25*I*K6"
      ]
     },
     "execution_count": 203,
     "metadata": {},
     "output_type": "execute_result"
    }
   ],
   "source": [
    "eq4=diff(y,t,3).subs(t=0);eq4"
   ]
  },
  {
   "cell_type": "code",
   "execution_count": 204,
   "metadata": {},
   "outputs": [
    {
     "data": {
      "text/plain": [
       "[[K3 == (3/100*I - 1/25), K4 == (-1/100*I - 7/100), K5 == (-3/100*I - 1/25), K6 == (1/100*I - 7/100)]]"
      ]
     },
     "execution_count": 204,
     "metadata": {},
     "output_type": "execute_result"
    }
   ],
   "source": [
    "sol_K=solve([eq1==0,eq2==0,eq3==2,eq4==0],[K3,K4,K5,K6]);sol_K"
   ]
  },
  {
   "cell_type": "code",
   "execution_count": 205,
   "metadata": {},
   "outputs": [
    {
     "data": {
      "text/plain": [
       "1/50*(50*(K1 + K2)*e^t - 7*t - 11)*cos(t) + K0*e^(3*t) + 1/50*((-50*I*K1 + 50*I*K2)*e^t - t + 2)*sin(t)"
      ]
     },
     "execution_count": 205,
     "metadata": {},
     "output_type": "execute_result"
    }
   ],
   "source": [
    "sol[0].subs(sol_K).simplify_full()"
   ]
  },
  {
   "cell_type": "code",
   "execution_count": 206,
   "metadata": {},
   "outputs": [
    {
     "data": {
      "text/plain": [
       "K0*e^(3*t) + K2*e^((I + 1)*t) + K1*e^(-(I - 1)*t) - 1/100*(-(I - 7)*t + 3*I + 4)*e^(I*t) - 1/100*((I + 7)*t - 3*I + 4)*e^(-I*t) + (1/100*I - 7/100)*e^(I*t) - (1/100*I + 7/100)*e^(-I*t)"
      ]
     },
     "execution_count": 206,
     "metadata": {},
     "output_type": "execute_result"
    }
   ],
   "source": [
    "sol=sol.subs(sol_K);sol[0]"
   ]
  },
  {
   "cell_type": "code",
   "execution_count": 207,
   "metadata": {},
   "outputs": [
    {
     "data": {
      "text/plain": [
       "K0 + K1 + K2 - 11/50"
      ]
     },
     "execution_count": 207,
     "metadata": {},
     "output_type": "execute_result"
    }
   ],
   "source": [
    "eq1=sol[0].subs(t==0);eq1"
   ]
  },
  {
   "cell_type": "code",
   "execution_count": 208,
   "metadata": {},
   "outputs": [
    {
     "data": {
      "text/plain": [
       "3*K0 - (I - 1)*K1 + (I + 1)*K2 - 1/10"
      ]
     },
     "execution_count": 208,
     "metadata": {},
     "output_type": "execute_result"
    }
   ],
   "source": [
    "eq2=sol[1].subs(t==0);eq2"
   ]
  },
  {
   "cell_type": "code",
   "execution_count": 209,
   "metadata": {},
   "outputs": [
    {
     "data": {
      "text/plain": [
       "9*K0 - 2*I*K1 + 2*I*K2 + 9/50"
      ]
     },
     "execution_count": 209,
     "metadata": {},
     "output_type": "execute_result"
    }
   ],
   "source": [
    "eq3=sol[2].subs(t==0);eq3"
   ]
  },
  {
   "cell_type": "code",
   "execution_count": 210,
   "metadata": {},
   "outputs": [
    {
     "data": {
      "text/plain": [
       "[[K0 == 2/5*x1 - 2/5*y1 + 1/5*z1 + 3/250, K1 == -(9/10*I - 3/10)*x1 + (9/10*I + 1/5)*y1 - (1/5*I + 1/10)*z1 - 9/125*I + 13/125, K2 == (9/10*I + 3/10)*x1 - (9/10*I - 1/5)*y1 + (1/5*I - 1/10)*z1 + 9/125*I + 13/125]]"
      ]
     },
     "execution_count": 210,
     "metadata": {},
     "output_type": "execute_result"
    }
   ],
   "source": [
    "var(\"x1 y1 z1\");sol_K2=solve([eq1==x1,eq2==y1,eq3==z1],[K0,K1,K2]);sol_K2"
   ]
  },
  {
   "cell_type": "code",
   "execution_count": 211,
   "metadata": {},
   "outputs": [
    {
     "data": {
      "text/plain": [
       "1/5*(3*cos(t)*e^t - 9*e^t*sin(t) + 2*e^(3*t))*x1 + 1/5*(2*cos(t)*e^t + 9*e^t*sin(t) - 2*e^(3*t))*y1 - 1/5*(cos(t)*e^t + 2*e^t*sin(t) - e^(3*t))*z1 - 1/250*(35*t - 52*e^t + 55)*cos(t) - 1/250*(5*t + 36*e^t - 10)*sin(t) + 3/250*e^(3*t)"
      ]
     },
     "execution_count": 211,
     "metadata": {},
     "output_type": "execute_result"
    }
   ],
   "source": [
    "sol_x=(sol[0].subs(sol_K2)).simplify_full();sol_x"
   ]
  },
  {
   "cell_type": "code",
   "execution_count": 212,
   "metadata": {},
   "outputs": [
    {
     "data": {
      "text/html": [
       "<html><script type=\"math/tex; mode=display\">\\newcommand{\\Bold}[1]{\\mathbf{#1}}\\frac{1}{5} \\, {\\left(3 \\, \\cos\\left(t\\right) e^{t} - 9 \\, e^{t} \\sin\\left(t\\right) + 2 \\, e^{\\left(3 \\, t\\right)}\\right)} x_{1} + \\frac{1}{5} \\, {\\left(2 \\, \\cos\\left(t\\right) e^{t} + 9 \\, e^{t} \\sin\\left(t\\right) - 2 \\, e^{\\left(3 \\, t\\right)}\\right)} y_{1} - \\frac{1}{5} \\, {\\left(\\cos\\left(t\\right) e^{t} + 2 \\, e^{t} \\sin\\left(t\\right) - e^{\\left(3 \\, t\\right)}\\right)} z_{1} - \\frac{1}{250} \\, {\\left(35 \\, t - 52 \\, e^{t} + 55\\right)} \\cos\\left(t\\right) - \\frac{1}{250} \\, {\\left(5 \\, t + 36 \\, e^{t} - 10\\right)} \\sin\\left(t\\right) + \\frac{3}{250} \\, e^{\\left(3 \\, t\\right)}</script></html>"
      ],
      "text/plain": [
       "1/5*(3*cos(t)*e^t - 9*e^t*sin(t) + 2*e^(3*t))*x1 + 1/5*(2*cos(t)*e^t + 9*e^t*sin(t) - 2*e^(3*t))*y1 - 1/5*(cos(t)*e^t + 2*e^t*sin(t) - e^(3*t))*z1 - 1/250*(35*t - 52*e^t + 55)*cos(t) - 1/250*(5*t + 36*e^t - 10)*sin(t) + 3/250*e^(3*t)"
      ]
     },
     "metadata": {},
     "output_type": "display_data"
    }
   ],
   "source": [
    "show(sol_x)"
   ]
  },
  {
   "cell_type": "code",
   "execution_count": 213,
   "metadata": {},
   "outputs": [
    {
     "data": {
      "text/plain": [
       "t*sin(t)"
      ]
     },
     "execution_count": 213,
     "metadata": {},
     "output_type": "execute_result"
    }
   ],
   "source": [
    "(diff(sol_x,t,3)-5*diff(sol_x,t,2)+8*diff(sol_x,t)-6*sol_x).simplify_full()"
   ]
  },
  {
   "cell_type": "code",
   "execution_count": 282,
   "metadata": {},
   "outputs": [
    {
     "data": {
      "text/html": [
       "<html><script type=\"math/tex; mode=display\">\\newcommand{\\Bold}[1]{\\mathbf{#1}}-\\frac{9}{5} \\, x_{1} e^{t} \\sin\\left(t\\right) + \\frac{9}{5} \\, y_{1} e^{t} \\sin\\left(t\\right) - \\frac{2}{5} \\, z_{1} e^{t} \\sin\\left(t\\right) + \\frac{1}{250} \\, {\\left(150 \\, x_{1} e^{t} + 100 \\, y_{1} e^{t} - 50 \\, z_{1} e^{t} - 35 \\, t + 52 \\, e^{t} - 55\\right)} \\cos\\left(t\\right) + \\frac{2}{5} \\, x_{1} e^{\\left(3 \\, t\\right)} - \\frac{2}{5} \\, y_{1} e^{\\left(3 \\, t\\right)} + \\frac{1}{5} \\, z_{1} e^{\\left(3 \\, t\\right)} - \\frac{1}{250} \\, {\\left(5 \\, t + 36 \\, e^{t} - 10\\right)} \\sin\\left(t\\right) + \\frac{3}{250} \\, e^{\\left(3 \\, t\\right)}</script></html>"
      ],
      "text/plain": [
       "-9/5*x1*e^t*sin(t) + 9/5*y1*e^t*sin(t) - 2/5*z1*e^t*sin(t) + 1/250*(150*x1*e^t + 100*y1*e^t - 50*z1*e^t - 35*t + 52*e^t - 55)*cos(t) + 2/5*x1*e^(3*t) - 2/5*y1*e^(3*t) + 1/5*z1*e^(3*t) - 1/250*(5*t + 36*e^t - 10)*sin(t) + 3/250*e^(3*t)"
      ]
     },
     "metadata": {},
     "output_type": "display_data"
    }
   ],
   "source": [
    "show(sol_x.collect(cos(t)))"
   ]
  },
  {
   "cell_type": "code",
   "execution_count": 283,
   "metadata": {},
   "outputs": [
    {
     "data": {
      "text/html": [
       "<html><script type=\"math/tex; mode=display\">\\newcommand{\\Bold}[1]{\\mathbf{#1}}\\frac{3}{5} \\, x_{1} \\cos\\left(t\\right) e^{t} + \\frac{2}{5} \\, y_{1} \\cos\\left(t\\right) e^{t} - \\frac{1}{5} \\, z_{1} \\cos\\left(t\\right) e^{t} - \\frac{1}{250} \\, {\\left(35 \\, t - 52 \\, e^{t} + 55\\right)} \\cos\\left(t\\right) + \\frac{2}{5} \\, x_{1} e^{\\left(3 \\, t\\right)} - \\frac{2}{5} \\, y_{1} e^{\\left(3 \\, t\\right)} + \\frac{1}{5} \\, z_{1} e^{\\left(3 \\, t\\right)} - \\frac{1}{250} \\, {\\left(450 \\, x_{1} e^{t} - 450 \\, y_{1} e^{t} + 100 \\, z_{1} e^{t} + 5 \\, t + 36 \\, e^{t} - 10\\right)} \\sin\\left(t\\right) + \\frac{3}{250} \\, e^{\\left(3 \\, t\\right)}</script></html>"
      ],
      "text/plain": [
       "3/5*x1*cos(t)*e^t + 2/5*y1*cos(t)*e^t - 1/5*z1*cos(t)*e^t - 1/250*(35*t - 52*e^t + 55)*cos(t) + 2/5*x1*e^(3*t) - 2/5*y1*e^(3*t) + 1/5*z1*e^(3*t) - 1/250*(450*x1*e^t - 450*y1*e^t + 100*z1*e^t + 5*t + 36*e^t - 10)*sin(t) + 3/250*e^(3*t)"
      ]
     },
     "metadata": {},
     "output_type": "display_data"
    }
   ],
   "source": [
    "show(sol_x.collect(sin(t)))"
   ]
  },
  {
   "cell_type": "code",
   "execution_count": 284,
   "metadata": {},
   "outputs": [],
   "source": [
    "# Veiem un altre forma de fer-ho\n",
    "#\n",
    "# Ja veiem que una solució on cal que surti t*sin(t) implica l'aparició de sin(t), cos(t) i t*cos(t)\n",
    "#\n",
    "# propossem doncs una solució z(t)= (C1*t+C2)*sin(t)+(C3*t+C4)*cos(t)"
   ]
  },
  {
   "cell_type": "code",
   "execution_count": 227,
   "metadata": {},
   "outputs": [],
   "source": [
    "sol_xp1=function(\"sol_xp1\")(t);var(\"C1 C2 C3 C4\");sol_xp1= (C1*t+C2)*sin(t)+(C3*t+C4)*cos(t)"
   ]
  },
  {
   "cell_type": "code",
   "execution_count": 228,
   "metadata": {},
   "outputs": [
    {
     "data": {
      "text/plain": [
       "7*(C1*t + C2)*cos(t) - (C3*t + C4)*cos(t) - 10*C1*cos(t) + 5*C3*cos(t) - (C1*t + C2)*sin(t) - 7*(C3*t + C4)*sin(t) + 5*C1*sin(t) + 10*C3*sin(t) - t*sin(t)"
      ]
     },
     "execution_count": 228,
     "metadata": {},
     "output_type": "execute_result"
    }
   ],
   "source": [
    "eq=diff(sol_xp1,t,3)-5*diff(sol_xp1,t,2)+ 8*diff(sol_xp1,t)-6*sol_xp1 -t*sin(t);eq"
   ]
  },
  {
   "cell_type": "code",
   "execution_count": 229,
   "metadata": {
    "scrolled": true
   },
   "outputs": [
    {
     "data": {
      "text/plain": [
       "(7*C1*t - C3*t - 10*C1 + 7*C2 + 5*C3 - C4)*cos(t) - (C1*t + C2)*sin(t) - 7*(C3*t + C4)*sin(t) + 5*C1*sin(t) + 10*C3*sin(t) - t*sin(t)"
      ]
     },
     "execution_count": 229,
     "metadata": {},
     "output_type": "execute_result"
    }
   ],
   "source": [
    "eq.collect(cos(t))"
   ]
  },
  {
   "cell_type": "code",
   "execution_count": 230,
   "metadata": {},
   "outputs": [
    {
     "data": {
      "text/plain": [
       "(7*C1 - C3)*t - 10*C1 + 7*C2 + 5*C3 - C4"
      ]
     },
     "execution_count": 230,
     "metadata": {},
     "output_type": "execute_result"
    }
   ],
   "source": [
    "(7*C1*t - C3*t - 10*C1 + 7*C2 + 5*C3 - C4).collect(t)"
   ]
  },
  {
   "cell_type": "code",
   "execution_count": 231,
   "metadata": {},
   "outputs": [],
   "source": [
    "eq1=(7*C1 - C3);eq2=- 10*C1 + 7*C2 + 5*C3 - C4"
   ]
  },
  {
   "cell_type": "code",
   "execution_count": 232,
   "metadata": {},
   "outputs": [
    {
     "data": {
      "text/plain": [
       "7*(C1*t + C2)*cos(t) - (C3*t + C4)*cos(t) - 10*C1*cos(t) + 5*C3*cos(t) - (C1*t + 7*C3*t - 5*C1 + C2 - 10*C3 + 7*C4 + t)*sin(t)"
      ]
     },
     "execution_count": 232,
     "metadata": {},
     "output_type": "execute_result"
    }
   ],
   "source": [
    "eq.collect(sin(t))"
   ]
  },
  {
   "cell_type": "code",
   "execution_count": 233,
   "metadata": {},
   "outputs": [
    {
     "data": {
      "text/plain": [
       "(C1 + 7*C3 + 1)*t - 5*C1 + C2 - 10*C3 + 7*C4"
      ]
     },
     "execution_count": 233,
     "metadata": {},
     "output_type": "execute_result"
    }
   ],
   "source": [
    "(C1*t + 7*C3*t - 5*C1 + C2 - 10*C3 + 7*C4 + t).collect(t)"
   ]
  },
  {
   "cell_type": "code",
   "execution_count": 234,
   "metadata": {},
   "outputs": [],
   "source": [
    "eq3=((C1 + 7*C3 + 1));eq4=- 5*C1 + C2 - 10*C3 + 7*C4"
   ]
  },
  {
   "cell_type": "code",
   "execution_count": 235,
   "metadata": {},
   "outputs": [
    {
     "data": {
      "text/plain": [
       "[[C1 == (-1/50), C2 == (1/25), C3 == (-7/50), C4 == (-11/50)]]"
      ]
     },
     "execution_count": 235,
     "metadata": {},
     "output_type": "execute_result"
    }
   ],
   "source": [
    "sol_Cs=solve([eq1,eq2,eq3,eq4],[C1,C2,C3,C4]);sol_Cs"
   ]
  },
  {
   "cell_type": "code",
   "execution_count": 236,
   "metadata": {},
   "outputs": [],
   "source": [
    "sol_xp1=sol_xp1.subs(sol_Cs)"
   ]
  },
  {
   "cell_type": "code",
   "execution_count": 237,
   "metadata": {},
   "outputs": [
    {
     "data": {
      "text/plain": [
       "0"
      ]
     },
     "execution_count": 237,
     "metadata": {},
     "output_type": "execute_result"
    }
   ],
   "source": [
    "eq=diff(sol_xp1,t,3)-5*diff(sol_xp1,t,2)+ 8*diff(sol_xp1,t)-6*sol_xp1 -t*sin(t);eq.simplify_full()"
   ]
  },
  {
   "cell_type": "code",
   "execution_count": 238,
   "metadata": {},
   "outputs": [
    {
     "data": {
      "text/plain": [
       "K2*cos(t)*e^t + K3*e^t*sin(t) - 1/50*(7*t + 11)*cos(t) + K1*e^(3*t) - 1/50*(t - 2)*sin(t)"
      ]
     },
     "execution_count": 238,
     "metadata": {},
     "output_type": "execute_result"
    }
   ],
   "source": [
    "sol_fin1=sol_xn+sol_xp1;sol_fin1"
   ]
  },
  {
   "cell_type": "code",
   "execution_count": 239,
   "metadata": {},
   "outputs": [
    {
     "data": {
      "text/plain": [
       "[K1 + K2 - 11/50 == x1, 3*K1 + K2 + K3 - 1/10 == y1, 9*K1 + 2*K3 + 9/50 == z1]"
      ]
     },
     "execution_count": 239,
     "metadata": {},
     "output_type": "execute_result"
    }
   ],
   "source": [
    "var(\"x1 y1 z1\");sistem=[sol_fin1.subs(t==0)==x1,diff(sol_fin1,t).subs(t==0)==y1,diff(sol_fin1,t,t).subs(t==0)==z1];sistem"
   ]
  },
  {
   "cell_type": "code",
   "execution_count": 240,
   "metadata": {},
   "outputs": [
    {
     "data": {
      "text/plain": [
       "[[K1 == 2/5*x1 - 2/5*y1 + 1/5*z1 + 3/250, K2 == 3/5*x1 + 2/5*y1 - 1/5*z1 + 26/125, K3 == -9/5*x1 + 9/5*y1 - 2/5*z1 - 18/125]]"
      ]
     },
     "execution_count": 240,
     "metadata": {},
     "output_type": "execute_result"
    }
   ],
   "source": [
    "sol_K=solve(sistem,[K1,K2,K3]);sol_K"
   ]
  },
  {
   "cell_type": "code",
   "execution_count": 241,
   "metadata": {},
   "outputs": [
    {
     "data": {
      "text/plain": [
       "1/5*(3*cos(t)*e^t - 9*e^t*sin(t) + 2*e^(3*t))*x1 + 1/5*(2*cos(t)*e^t + 9*e^t*sin(t) - 2*e^(3*t))*y1 - 1/5*(cos(t)*e^t + 2*e^t*sin(t) - e^(3*t))*z1 - 1/250*(35*t - 52*e^t + 55)*cos(t) - 1/250*(5*t + 36*e^t - 10)*sin(t) + 3/250*e^(3*t)"
      ]
     },
     "execution_count": 241,
     "metadata": {},
     "output_type": "execute_result"
    }
   ],
   "source": [
    "sol_fin1=sol_fin1.subs(sol_K).simplify_full();sol_fin1"
   ]
  },
  {
   "cell_type": "code",
   "execution_count": 206,
   "metadata": {},
   "outputs": [
    {
     "data": {
      "text/html": [
       "<html><script type=\"math/tex; mode=display\">\\newcommand{\\Bold}[1]{\\mathbf{#1}}\\frac{1}{5} \\, {\\left(3 \\, \\cos\\left(t\\right) e^{t} - 9 \\, e^{t} \\sin\\left(t\\right) + 2 \\, e^{\\left(3 \\, t\\right)}\\right)} x_{1} + \\frac{1}{5} \\, {\\left(2 \\, \\cos\\left(t\\right) e^{t} + 9 \\, e^{t} \\sin\\left(t\\right) - 2 \\, e^{\\left(3 \\, t\\right)}\\right)} y_{1} - \\frac{1}{5} \\, {\\left(\\cos\\left(t\\right) e^{t} + 2 \\, e^{t} \\sin\\left(t\\right) - e^{\\left(3 \\, t\\right)}\\right)} z_{1} - \\frac{1}{250} \\, {\\left(35 \\, t - 52 \\, e^{t} + 55\\right)} \\cos\\left(t\\right) - \\frac{1}{250} \\, {\\left(5 \\, t + 36 \\, e^{t} - 10\\right)} \\sin\\left(t\\right) + \\frac{3}{250} \\, e^{\\left(3 \\, t\\right)}</script></html>"
      ],
      "text/plain": [
       "1/5*(3*cos(t)*e^t - 9*e^t*sin(t) + 2*e^(3*t))*x1 + 1/5*(2*cos(t)*e^t + 9*e^t*sin(t) - 2*e^(3*t))*y1 - 1/5*(cos(t)*e^t + 2*e^t*sin(t) - e^(3*t))*z1 - 1/250*(35*t - 52*e^t + 55)*cos(t) - 1/250*(5*t + 36*e^t - 10)*sin(t) + 3/250*e^(3*t)"
      ]
     },
     "metadata": {},
     "output_type": "display_data"
    }
   ],
   "source": [
    "show(sol_fin1)"
   ]
  },
  {
   "cell_type": "code",
   "execution_count": 318,
   "metadata": {},
   "outputs": [
    {
     "data": {
      "text/html": [
       "<html><script type=\"math/tex; mode=display\">\\newcommand{\\Bold}[1]{\\mathbf{#1}}-\\frac{9}{5} \\, x_{1} e^{t} \\sin\\left(t\\right) + \\frac{9}{5} \\, y_{1} e^{t} \\sin\\left(t\\right) - \\frac{2}{5} \\, z_{1} e^{t} \\sin\\left(t\\right) + \\frac{1}{250} \\, {\\left(150 \\, x_{1} e^{t} + 100 \\, y_{1} e^{t} - 50 \\, z_{1} e^{t} - 35 \\, t + 52 \\, e^{t} - 55\\right)} \\cos\\left(t\\right) + \\frac{2}{5} \\, x_{1} e^{\\left(3 \\, t\\right)} - \\frac{2}{5} \\, y_{1} e^{\\left(3 \\, t\\right)} + \\frac{1}{5} \\, z_{1} e^{\\left(3 \\, t\\right)} - \\frac{1}{250} \\, {\\left(5 \\, t + 36 \\, e^{t} - 10\\right)} \\sin\\left(t\\right) + \\frac{3}{250} \\, e^{\\left(3 \\, t\\right)}</script></html>"
      ],
      "text/plain": [
       "-9/5*x1*e^t*sin(t) + 9/5*y1*e^t*sin(t) - 2/5*z1*e^t*sin(t) + 1/250*(150*x1*e^t + 100*y1*e^t - 50*z1*e^t - 35*t + 52*e^t - 55)*cos(t) + 2/5*x1*e^(3*t) - 2/5*y1*e^(3*t) + 1/5*z1*e^(3*t) - 1/250*(5*t + 36*e^t - 10)*sin(t) + 3/250*e^(3*t)"
      ]
     },
     "metadata": {},
     "output_type": "display_data"
    }
   ],
   "source": [
    "show(sol_fin1.collect(cos(t)))"
   ]
  },
  {
   "cell_type": "code",
   "execution_count": 319,
   "metadata": {},
   "outputs": [
    {
     "data": {
      "text/html": [
       "<html><script type=\"math/tex; mode=display\">\\newcommand{\\Bold}[1]{\\mathbf{#1}}\\frac{3}{5} \\, x_{1} \\cos\\left(t\\right) e^{t} + \\frac{2}{5} \\, y_{1} \\cos\\left(t\\right) e^{t} - \\frac{1}{5} \\, z_{1} \\cos\\left(t\\right) e^{t} - \\frac{1}{250} \\, {\\left(35 \\, t - 52 \\, e^{t} + 55\\right)} \\cos\\left(t\\right) + \\frac{2}{5} \\, x_{1} e^{\\left(3 \\, t\\right)} - \\frac{2}{5} \\, y_{1} e^{\\left(3 \\, t\\right)} + \\frac{1}{5} \\, z_{1} e^{\\left(3 \\, t\\right)} - \\frac{1}{250} \\, {\\left(450 \\, x_{1} e^{t} - 450 \\, y_{1} e^{t} + 100 \\, z_{1} e^{t} + 5 \\, t + 36 \\, e^{t} - 10\\right)} \\sin\\left(t\\right) + \\frac{3}{250} \\, e^{\\left(3 \\, t\\right)}</script></html>"
      ],
      "text/plain": [
       "3/5*x1*cos(t)*e^t + 2/5*y1*cos(t)*e^t - 1/5*z1*cos(t)*e^t - 1/250*(35*t - 52*e^t + 55)*cos(t) + 2/5*x1*e^(3*t) - 2/5*y1*e^(3*t) + 1/5*z1*e^(3*t) - 1/250*(450*x1*e^t - 450*y1*e^t + 100*z1*e^t + 5*t + 36*e^t - 10)*sin(t) + 3/250*e^(3*t)"
      ]
     },
     "metadata": {},
     "output_type": "display_data"
    }
   ],
   "source": [
    "show(sol_fin1.collect(sin(t)))"
   ]
  },
  {
   "cell_type": "code",
   "execution_count": 320,
   "metadata": {},
   "outputs": [
    {
     "data": {
      "text/html": [
       "<html><script type=\"math/tex; mode=display\">\\newcommand{\\Bold}[1]{\\mathbf{#1}}\\frac{3}{5} \\, x_{1} \\cos\\left(t\\right) e^{t} + \\frac{2}{5} \\, y_{1} \\cos\\left(t\\right) e^{t} - \\frac{1}{5} \\, z_{1} \\cos\\left(t\\right) e^{t} - \\frac{9}{5} \\, x_{1} e^{t} \\sin\\left(t\\right) + \\frac{9}{5} \\, y_{1} e^{t} \\sin\\left(t\\right) - \\frac{2}{5} \\, z_{1} e^{t} \\sin\\left(t\\right) - \\frac{1}{250} \\, {\\left(35 \\, t - 52 \\, e^{t} + 55\\right)} \\cos\\left(t\\right) + \\frac{1}{250} \\, {\\left(100 \\, x_{1} - 100 \\, y_{1} + 50 \\, z_{1} + 3\\right)} e^{\\left(3 \\, t\\right)} - \\frac{1}{250} \\, {\\left(5 \\, t + 36 \\, e^{t} - 10\\right)} \\sin\\left(t\\right)</script></html>"
      ],
      "text/plain": [
       "3/5*x1*cos(t)*e^t + 2/5*y1*cos(t)*e^t - 1/5*z1*cos(t)*e^t - 9/5*x1*e^t*sin(t) + 9/5*y1*e^t*sin(t) - 2/5*z1*e^t*sin(t) - 1/250*(35*t - 52*e^t + 55)*cos(t) + 1/250*(100*x1 - 100*y1 + 50*z1 + 3)*e^(3*t) - 1/250*(5*t + 36*e^t - 10)*sin(t)"
      ]
     },
     "metadata": {},
     "output_type": "display_data"
    }
   ],
   "source": [
    "show(sol_fin1.collect(exp(3*t)))"
   ]
  },
  {
   "cell_type": "code",
   "execution_count": 242,
   "metadata": {},
   "outputs": [
    {
     "data": {
      "text/plain": [
       "0"
      ]
     },
     "execution_count": 242,
     "metadata": {},
     "output_type": "execute_result"
    }
   ],
   "source": [
    "eq=diff(sol_fin1,t,3)-5*diff(sol_fin1,t,2)+ 8*diff(sol_fin1,t)-6*sol_fin1 -t*sin(t);eq.simplify_full()"
   ]
  },
  {
   "cell_type": "code",
   "execution_count": 173,
   "metadata": {},
   "outputs": [],
   "source": [
    "# Veiem ara la segona part no homogenea\n"
   ]
  },
  {
   "cell_type": "code",
   "execution_count": 244,
   "metadata": {},
   "outputs": [
    {
     "data": {
      "text/plain": [
       "cos(t)*e^t - e^t*sin(t)"
      ]
     },
     "execution_count": 244,
     "metadata": {},
     "output_type": "execute_result"
    }
   ],
   "source": [
    "f(t)=exp(t)*cos(t);\n",
    "diff(f(t),t)"
   ]
  },
  {
   "cell_type": "code",
   "execution_count": 245,
   "metadata": {},
   "outputs": [
    {
     "data": {
      "text/plain": [
       "-2*e^t*sin(t)"
      ]
     },
     "execution_count": 245,
     "metadata": {},
     "output_type": "execute_result"
    }
   ],
   "source": [
    "diff(f(t),t,2)"
   ]
  },
  {
   "cell_type": "code",
   "execution_count": 309,
   "metadata": {},
   "outputs": [],
   "source": [
    "# Ara en tenim prou d'arrivar a dues derivades doncs la segona derivada ja ajuda a liquidar el que ens sobra de la primera\n"
   ]
  },
  {
   "cell_type": "code",
   "execution_count": 310,
   "metadata": {},
   "outputs": [
    {
     "data": {
      "text/plain": [
       "0"
      ]
     },
     "execution_count": 310,
     "metadata": {},
     "output_type": "execute_result"
    }
   ],
   "source": [
    "diff(f(t),t,2)-2*diff(f(t),t)+2*f(t)"
   ]
  },
  {
   "cell_type": "code",
   "execution_count": 311,
   "metadata": {},
   "outputs": [],
   "source": [
    "# Per tant necessito una solució que inclogui\n",
    "# z=D1*exp(t)*cos(t)+D2*exp(t)*sin(t)"
   ]
  },
  {
   "cell_type": "code",
   "execution_count": 246,
   "metadata": {},
   "outputs": [
    {
     "data": {
      "text/plain": [
       "(D2*cos(t) + D1*sin(t))*e^t"
      ]
     },
     "execution_count": 246,
     "metadata": {},
     "output_type": "execute_result"
    }
   ],
   "source": [
    "z=function(\"z\")(t);var(\"D1 D2\");z= (D1*sin(t)+D2*cos(t))*exp(t);z"
   ]
  },
  {
   "cell_type": "code",
   "execution_count": 247,
   "metadata": {},
   "outputs": [
    {
     "data": {
      "text/plain": [
       "-cos(t)*e^t"
      ]
     },
     "execution_count": 247,
     "metadata": {},
     "output_type": "execute_result"
    }
   ],
   "source": [
    "eq=diff(z,t,3)-5*diff(z,t,2)+ 8*diff(z,t)-6*z -exp(t)*cos(t);eq"
   ]
  },
  {
   "cell_type": "code",
   "execution_count": 181,
   "metadata": {},
   "outputs": [],
   "source": [
    "# Això no és pot anul·lar i és per culpa de que la solució propossada ja forma part de la solució general.\n",
    "# Per tant, la solució proposada ha de ser un grau superior en la variable.\n",
    "# En lloc de la solució general \n",
    "#\n",
    "# sol_x=C2*cos(t)*e^t + C3*sin(t)*e^t + C1*e^(3*t)\n",
    "# \n",
    "# hem de propossar una solució del tipus\n",
    "#\n",
    "# sol_x=(C2*cos(t)*e^t + C3*sin(t)*e^t + C1*e^(3*t))*t\n"
   ]
  },
  {
   "cell_type": "code",
   "execution_count": 248,
   "metadata": {},
   "outputs": [
    {
     "data": {
      "text/plain": [
       "(C2*cos(t)*e^t + C3*e^t*sin(t) + C1*e^(3*t))*t"
      ]
     },
     "execution_count": 248,
     "metadata": {},
     "output_type": "execute_result"
    }
   ],
   "source": [
    "sol_xp2=(C2*cos(t)*e^t + C3*e^t*sin(t) + C1*e^(3*t))*t;\n",
    "sol_xp2"
   ]
  },
  {
   "cell_type": "code",
   "execution_count": 249,
   "metadata": {},
   "outputs": [
    {
     "data": {
      "text/plain": [
       "C2*cos(t)*e^t + C3*e^t*sin(t) + (C2*cos(t)*e^t + C3*cos(t)*e^t - C2*e^t*sin(t) + C3*e^t*sin(t) + 3*C1*e^(3*t))*t + C1*e^(3*t)"
      ]
     },
     "execution_count": 249,
     "metadata": {},
     "output_type": "execute_result"
    }
   ],
   "source": [
    "diff(sol_xp2,t)"
   ]
  },
  {
   "cell_type": "code",
   "execution_count": 250,
   "metadata": {},
   "outputs": [
    {
     "data": {
      "text/plain": [
       "-2*(C2 + 2*C3 + 1)*cos(t)*e^t + 2*(2*C2 - C3)*e^t*sin(t) + 5*C1*e^(3*t)"
      ]
     },
     "execution_count": 250,
     "metadata": {},
     "output_type": "execute_result"
    }
   ],
   "source": [
    "eq=diff(sol_xp2,t,3)-5*diff(sol_xp2,t,2)+ 8*diff(sol_xp2,t)-6*sol_xp2 -2*exp(t)*cos(t);eq.simplify_full()"
   ]
  },
  {
   "cell_type": "code",
   "execution_count": 251,
   "metadata": {},
   "outputs": [
    {
     "data": {
      "text/plain": [
       "[[C1 == 0, C2 == (-1/5), C3 == (-2/5)]]"
      ]
     },
     "execution_count": 251,
     "metadata": {},
     "output_type": "execute_result"
    }
   ],
   "source": [
    "sol_Cs=solve([(C2 + 2*C3 + 1)==0,2*C2 - C3==0,C1==0],[C1,C2,C3]);sol_Cs"
   ]
  },
  {
   "cell_type": "code",
   "execution_count": 252,
   "metadata": {},
   "outputs": [],
   "source": [
    "sol_xp2=sol_xp2.subs(sol_Cs)"
   ]
  },
  {
   "cell_type": "code",
   "execution_count": 253,
   "metadata": {},
   "outputs": [
    {
     "data": {
      "text/plain": [
       "K2*cos(t)*e^t + K3*e^t*sin(t) - 1/5*(cos(t)*e^t + 2*e^t*sin(t))*t + K1*e^(3*t)"
      ]
     },
     "execution_count": 253,
     "metadata": {},
     "output_type": "execute_result"
    }
   ],
   "source": [
    "sol_fin2=sol_xn+sol_xp2;sol_fin2"
   ]
  },
  {
   "cell_type": "code",
   "execution_count": 254,
   "metadata": {},
   "outputs": [
    {
     "data": {
      "text/html": [
       "<html><script type=\"math/tex; mode=display\">\\newcommand{\\Bold}[1]{\\mathbf{#1}}K_{2} \\cos\\left(t\\right) e^{t} + K_{3} e^{t} \\sin\\left(t\\right) - \\frac{1}{5} \\, {\\left(\\cos\\left(t\\right) e^{t} + 2 \\, e^{t} \\sin\\left(t\\right)\\right)} t + K_{1} e^{\\left(3 \\, t\\right)}</script></html>"
      ],
      "text/plain": [
       "K2*cos(t)*e^t + K3*e^t*sin(t) - 1/5*(cos(t)*e^t + 2*e^t*sin(t))*t + K1*e^(3*t)"
      ]
     },
     "metadata": {},
     "output_type": "display_data"
    }
   ],
   "source": [
    "show(sol_fin2)"
   ]
  },
  {
   "cell_type": "code",
   "execution_count": 255,
   "metadata": {},
   "outputs": [
    {
     "data": {
      "text/plain": [
       "[K1 + K2 == x2, 3*K1 + K2 + K3 - 1/5 == y2, 9*K1 + 2*K3 - 6/5 == z2]"
      ]
     },
     "execution_count": 255,
     "metadata": {},
     "output_type": "execute_result"
    }
   ],
   "source": [
    "var(\"x2 y2 z2\");sistem=[sol_fin2.subs(t==0)==x2,diff(sol_fin2,t).subs(t==0)==y2,diff(sol_fin2,t,t).subs(t==0)==z2];sistem"
   ]
  },
  {
   "cell_type": "code",
   "execution_count": 256,
   "metadata": {},
   "outputs": [
    {
     "data": {
      "text/plain": [
       "[[K1 == 2/5*x2 - 2/5*y2 + 1/5*z2 + 4/25, K2 == 3/5*x2 + 2/5*y2 - 1/5*z2 - 4/25, K3 == -9/5*x2 + 9/5*y2 - 2/5*z2 - 3/25]]"
      ]
     },
     "execution_count": 256,
     "metadata": {},
     "output_type": "execute_result"
    }
   ],
   "source": [
    "sol_K=solve(sistem,[K1,K2,K3]);sol_K"
   ]
  },
  {
   "cell_type": "code",
   "execution_count": 257,
   "metadata": {},
   "outputs": [
    {
     "data": {
      "text/plain": [
       "-1/25*(5*t + 4)*cos(t)*e^t - 1/25*(10*t + 3)*e^t*sin(t) + 1/5*(3*cos(t)*e^t - 9*e^t*sin(t) + 2*e^(3*t))*x2 + 1/5*(2*cos(t)*e^t + 9*e^t*sin(t) - 2*e^(3*t))*y2 - 1/5*(cos(t)*e^t + 2*e^t*sin(t) - e^(3*t))*z2 + 4/25*e^(3*t)"
      ]
     },
     "execution_count": 257,
     "metadata": {},
     "output_type": "execute_result"
    }
   ],
   "source": [
    "sol_fin2=sol_fin2.subs(sol_K).simplify_full();sol_fin2"
   ]
  },
  {
   "cell_type": "code",
   "execution_count": 390,
   "metadata": {},
   "outputs": [
    {
     "data": {
      "text/html": [
       "<html><script type=\"math/tex; mode=display\">\\newcommand{\\Bold}[1]{\\mathbf{#1}}-\\frac{1}{25} \\, {\\left(10 \\, t + 3\\right)} e^{t} \\sin\\left(t\\right) - \\frac{9}{5} \\, x_{2} e^{t} \\sin\\left(t\\right) + \\frac{9}{5} \\, y_{2} e^{t} \\sin\\left(t\\right) - \\frac{2}{5} \\, z_{2} e^{t} \\sin\\left(t\\right) - \\frac{1}{25} \\, {\\left({\\left(5 \\, t + 4\\right)} e^{t} - 15 \\, x_{2} e^{t} - 10 \\, y_{2} e^{t} + 5 \\, z_{2} e^{t}\\right)} \\cos\\left(t\\right) + \\frac{2}{5} \\, x_{2} e^{\\left(3 \\, t\\right)} - \\frac{2}{5} \\, y_{2} e^{\\left(3 \\, t\\right)} + \\frac{1}{5} \\, z_{2} e^{\\left(3 \\, t\\right)} + \\frac{4}{25} \\, e^{\\left(3 \\, t\\right)}</script></html>"
      ],
      "text/plain": [
       "-1/25*(10*t + 3)*e^t*sin(t) - 9/5*x2*e^t*sin(t) + 9/5*y2*e^t*sin(t) - 2/5*z2*e^t*sin(t) - 1/25*((5*t + 4)*e^t - 15*x2*e^t - 10*y2*e^t + 5*z2*e^t)*cos(t) + 2/5*x2*e^(3*t) - 2/5*y2*e^(3*t) + 1/5*z2*e^(3*t) + 4/25*e^(3*t)"
      ]
     },
     "metadata": {},
     "output_type": "display_data"
    }
   ],
   "source": [
    "show(sol_fin2.collect(cos(t)))"
   ]
  },
  {
   "cell_type": "code",
   "execution_count": 391,
   "metadata": {},
   "outputs": [
    {
     "data": {
      "text/html": [
       "<html><script type=\"math/tex; mode=display\">\\newcommand{\\Bold}[1]{\\mathbf{#1}}-\\frac{1}{25} \\, {\\left(5 \\, t + 4\\right)} \\cos\\left(t\\right) e^{t} + \\frac{3}{5} \\, x_{2} \\cos\\left(t\\right) e^{t} + \\frac{2}{5} \\, y_{2} \\cos\\left(t\\right) e^{t} - \\frac{1}{5} \\, z_{2} \\cos\\left(t\\right) e^{t} + \\frac{2}{5} \\, x_{2} e^{\\left(3 \\, t\\right)} - \\frac{2}{5} \\, y_{2} e^{\\left(3 \\, t\\right)} + \\frac{1}{5} \\, z_{2} e^{\\left(3 \\, t\\right)} - \\frac{1}{25} \\, {\\left({\\left(10 \\, t + 3\\right)} e^{t} + 45 \\, x_{2} e^{t} - 45 \\, y_{2} e^{t} + 10 \\, z_{2} e^{t}\\right)} \\sin\\left(t\\right) + \\frac{4}{25} \\, e^{\\left(3 \\, t\\right)}</script></html>"
      ],
      "text/plain": [
       "-1/25*(5*t + 4)*cos(t)*e^t + 3/5*x2*cos(t)*e^t + 2/5*y2*cos(t)*e^t - 1/5*z2*cos(t)*e^t + 2/5*x2*e^(3*t) - 2/5*y2*e^(3*t) + 1/5*z2*e^(3*t) - 1/25*((10*t + 3)*e^t + 45*x2*e^t - 45*y2*e^t + 10*z2*e^t)*sin(t) + 4/25*e^(3*t)"
      ]
     },
     "metadata": {},
     "output_type": "display_data"
    }
   ],
   "source": [
    "show(sol_fin2.collect(sin(t)))"
   ]
  },
  {
   "cell_type": "code",
   "execution_count": 392,
   "metadata": {},
   "outputs": [
    {
     "data": {
      "text/html": [
       "<html><script type=\"math/tex; mode=display\">\\newcommand{\\Bold}[1]{\\mathbf{#1}}\\frac{2}{5} \\, x_{2} e^{\\left(3 \\, t\\right)} - \\frac{2}{5} \\, y_{2} e^{\\left(3 \\, t\\right)} + \\frac{1}{5} \\, z_{2} e^{\\left(3 \\, t\\right)} - \\frac{1}{25} \\, {\\left({\\left(5 \\, t + 4\\right)} \\cos\\left(t\\right) - 15 \\, x_{2} \\cos\\left(t\\right) - 10 \\, y_{2} \\cos\\left(t\\right) + 5 \\, z_{2} \\cos\\left(t\\right) + {\\left(10 \\, t + 3\\right)} \\sin\\left(t\\right) + 45 \\, x_{2} \\sin\\left(t\\right) - 45 \\, y_{2} \\sin\\left(t\\right) + 10 \\, z_{2} \\sin\\left(t\\right)\\right)} e^{t} + \\frac{4}{25} \\, e^{\\left(3 \\, t\\right)}</script></html>"
      ],
      "text/plain": [
       "2/5*x2*e^(3*t) - 2/5*y2*e^(3*t) + 1/5*z2*e^(3*t) - 1/25*((5*t + 4)*cos(t) - 15*x2*cos(t) - 10*y2*cos(t) + 5*z2*cos(t) + (10*t + 3)*sin(t) + 45*x2*sin(t) - 45*y2*sin(t) + 10*z2*sin(t))*e^t + 4/25*e^(3*t)"
      ]
     },
     "metadata": {},
     "output_type": "display_data"
    }
   ],
   "source": [
    "show(sol_fin2.collect(exp(t)))"
   ]
  },
  {
   "cell_type": "code",
   "execution_count": 258,
   "metadata": {},
   "outputs": [
    {
     "data": {
      "text/plain": [
       "0"
      ]
     },
     "execution_count": 258,
     "metadata": {},
     "output_type": "execute_result"
    }
   ],
   "source": [
    "eq=diff(sol_fin2,t,3)-5*diff(sol_fin2,t,2)+ 8*diff(sol_fin2,t)-6*sol_fin2 -2*exp(t)*cos(t);eq.simplify_full()"
   ]
  },
  {
   "cell_type": "code",
   "execution_count": 394,
   "metadata": {},
   "outputs": [],
   "source": [
    "# Anem pel tercer\n",
    "\n",
    "# hem de propossar una solució del tipus\n",
    "#\n",
    "# sol_x=C4*cos(2*t)*e^(3*t) + C5*e^(3*t)*sin(2*t)\n"
   ]
  },
  {
   "cell_type": "code",
   "execution_count": 259,
   "metadata": {},
   "outputs": [
    {
     "data": {
      "text/plain": [
       "C4*cos(2*t)*e^(3*t) + C5*e^(3*t)*sin(2*t)"
      ]
     },
     "execution_count": 259,
     "metadata": {},
     "output_type": "execute_result"
    }
   ],
   "source": [
    "var(\"C5\");sol_xp3=C4*cos(2*t)*e^(3*t) + C5*e^(3*t)*sin(2*t);\n",
    "sol_xp3"
   ]
  },
  {
   "cell_type": "code",
   "execution_count": 260,
   "metadata": {},
   "outputs": [
    {
     "data": {
      "text/plain": [
       "-4*(8*C4 - C5)*cos(t)^2*e^(3*t) - 2*(2*C4 + 16*C5 - 3)*cos(t)*e^(3*t)*sin(t) + 2*(8*C4 - C5)*e^(3*t)"
      ]
     },
     "execution_count": 260,
     "metadata": {},
     "output_type": "execute_result"
    }
   ],
   "source": [
    "eq=diff(sol_xp3,t,3)-5*diff(sol_xp3,t,2)+ 8*diff(sol_xp3,t)-6*sol_xp3 +3*exp(3*t)*sin(2*t);eq.simplify_full()"
   ]
  },
  {
   "cell_type": "code",
   "execution_count": 261,
   "metadata": {},
   "outputs": [
    {
     "data": {
      "text/plain": [
       "[[C4 == (3/130), C5 == (12/65)]]"
      ]
     },
     "execution_count": 261,
     "metadata": {},
     "output_type": "execute_result"
    }
   ],
   "source": [
    "sol_Cs=solve([8*C4 - C5==0,8*C4 - C5==0,2*C4 + 16*C5 -3==0],[C4,C5]);sol_Cs"
   ]
  },
  {
   "cell_type": "code",
   "execution_count": 443,
   "metadata": {},
   "outputs": [],
   "source": [
    "# Tot i apareixer un e^(3*t) és irrellevant. Si no ho hagués sigut, caldria haber afegit aquest terme.\n"
   ]
  },
  {
   "cell_type": "code",
   "execution_count": 262,
   "metadata": {},
   "outputs": [
    {
     "data": {
      "text/plain": [
       "3/130*cos(2*t)*e^(3*t) + 12/65*e^(3*t)*sin(2*t)"
      ]
     },
     "execution_count": 262,
     "metadata": {},
     "output_type": "execute_result"
    }
   ],
   "source": [
    "sol_xp3=sol_xp3.subs(sol_Cs);sol_xp3"
   ]
  },
  {
   "cell_type": "code",
   "execution_count": 263,
   "metadata": {},
   "outputs": [
    {
     "data": {
      "text/plain": [
       "K2*cos(t)*e^t + K3*e^t*sin(t) + K1*e^(3*t) + 3/130*cos(2*t)*e^(3*t) + 12/65*e^(3*t)*sin(2*t)"
      ]
     },
     "execution_count": 263,
     "metadata": {},
     "output_type": "execute_result"
    }
   ],
   "source": [
    "sol_fin3=sol_xn+sol_xp3;sol_fin3"
   ]
  },
  {
   "cell_type": "code",
   "execution_count": 264,
   "metadata": {},
   "outputs": [
    {
     "data": {
      "text/html": [
       "<html><script type=\"math/tex; mode=display\">\\newcommand{\\Bold}[1]{\\mathbf{#1}}K_{2} \\cos\\left(t\\right) e^{t} + K_{3} e^{t} \\sin\\left(t\\right) + K_{1} e^{\\left(3 \\, t\\right)} + \\frac{3}{130} \\, \\cos\\left(2 \\, t\\right) e^{\\left(3 \\, t\\right)} + \\frac{12}{65} \\, e^{\\left(3 \\, t\\right)} \\sin\\left(2 \\, t\\right)</script></html>"
      ],
      "text/plain": [
       "K2*cos(t)*e^t + K3*e^t*sin(t) + K1*e^(3*t) + 3/130*cos(2*t)*e^(3*t) + 12/65*e^(3*t)*sin(2*t)"
      ]
     },
     "metadata": {},
     "output_type": "display_data"
    }
   ],
   "source": [
    "show(sol_fin3)"
   ]
  },
  {
   "cell_type": "code",
   "execution_count": 265,
   "metadata": {},
   "outputs": [
    {
     "data": {
      "text/plain": [
       "[K1 + K2 + 3/130 == x3,\n",
       " 3*K1 + K2 + K3 + 57/130 == y3,\n",
       " 9*K1 + 2*K3 + 303/130 == z3]"
      ]
     },
     "execution_count": 265,
     "metadata": {},
     "output_type": "execute_result"
    }
   ],
   "source": [
    "var(\"x3 y3 z3\");sistem=[sol_fin3.subs(t==0)==x3,diff(sol_fin3,t).subs(t==0)==y3,diff(sol_fin3,t,t).subs(t==0)==z3];sistem"
   ]
  },
  {
   "cell_type": "code",
   "execution_count": 266,
   "metadata": {},
   "outputs": [
    {
     "data": {
      "text/plain": [
       "[[K1 == 2/5*x3 - 2/5*y3 + 1/5*z3 - 3/10, K2 == 3/5*x3 + 2/5*y3 - 1/5*z3 + 18/65, K3 == -9/5*x3 + 9/5*y3 - 2/5*z3 + 12/65]]"
      ]
     },
     "execution_count": 266,
     "metadata": {},
     "output_type": "execute_result"
    }
   ],
   "source": [
    "sol_K=solve(sistem,[K1,K2,K3]);sol_K"
   ]
  },
  {
   "cell_type": "code",
   "execution_count": 267,
   "metadata": {},
   "outputs": [
    {
     "data": {
      "text/plain": [
       "3/65*cos(t)^2*e^(3*t) + 1/5*(3*cos(t)*e^t - 9*e^t*sin(t) + 2*e^(3*t))*x3 + 1/5*(2*cos(t)*e^t + 9*e^t*sin(t) - 2*e^(3*t))*y3 - 1/5*(cos(t)*e^t + 2*e^t*sin(t) - e^(3*t))*z3 + 18/65*cos(t)*e^t + 12/65*(2*cos(t)*e^(3*t) + e^t)*sin(t) - 21/65*e^(3*t)"
      ]
     },
     "execution_count": 267,
     "metadata": {},
     "output_type": "execute_result"
    }
   ],
   "source": [
    "sol_fin3=sol_fin3.subs(sol_K).simplify_full();sol_fin3"
   ]
  },
  {
   "cell_type": "code",
   "execution_count": 268,
   "metadata": {},
   "outputs": [
    {
     "data": {
      "text/plain": [
       "0"
      ]
     },
     "execution_count": 268,
     "metadata": {},
     "output_type": "execute_result"
    }
   ],
   "source": [
    "eq=diff(sol_fin3,t,3)-5*diff(sol_fin3,t,2)+ 8*diff(sol_fin3,t)-6*sol_fin3 +3*exp(3*t)*sin(2*t);eq.simplify_full()"
   ]
  },
  {
   "cell_type": "code",
   "execution_count": 270,
   "metadata": {},
   "outputs": [
    {
     "data": {
      "text/plain": [
       "3/65*cos(t)^2*e^(3*t) - 1/25*(5*t + 4)*cos(t)*e^t - 1/25*(10*t + 3)*e^t*sin(t) + 1/5*(3*cos(t)*e^t - 9*e^t*sin(t) + 2*e^(3*t))*x1 + 1/5*(3*cos(t)*e^t - 9*e^t*sin(t) + 2*e^(3*t))*x2 + 1/5*(3*cos(t)*e^t - 9*e^t*sin(t) + 2*e^(3*t))*x3 + 1/5*(2*cos(t)*e^t + 9*e^t*sin(t) - 2*e^(3*t))*y1 + 1/5*(2*cos(t)*e^t + 9*e^t*sin(t) - 2*e^(3*t))*y2 + 1/5*(2*cos(t)*e^t + 9*e^t*sin(t) - 2*e^(3*t))*y3 - 1/5*(cos(t)*e^t + 2*e^t*sin(t) - e^(3*t))*z1 - 1/5*(cos(t)*e^t + 2*e^t*sin(t) - e^(3*t))*z2 - 1/5*(cos(t)*e^t + 2*e^t*sin(t) - e^(3*t))*z3 - 1/250*(35*t - 52*e^t + 55)*cos(t) + 18/65*cos(t)*e^t + 12/65*(2*cos(t)*e^(3*t) + e^t)*sin(t) - 1/250*(5*t + 36*e^t - 10)*sin(t) - 491/3250*e^(3*t)"
      ]
     },
     "execution_count": 270,
     "metadata": {},
     "output_type": "execute_result"
    }
   ],
   "source": [
    "sol_fin=sol_fin1+sol_fin2+sol_fin3;sol_fin"
   ]
  },
  {
   "cell_type": "code",
   "execution_count": 271,
   "metadata": {},
   "outputs": [
    {
     "data": {
      "text/plain": [
       "0"
      ]
     },
     "execution_count": 271,
     "metadata": {},
     "output_type": "execute_result"
    }
   ],
   "source": [
    "eq=diff(sol_fin,t,3)-5*diff(sol_fin,t,2)+ 8*diff(sol_fin,t)-6*sol_fin -t*sin(t)-2*exp(t)*cos(t)+3*exp(3*t)*sin(2*t);eq.simplify_full()"
   ]
  },
  {
   "cell_type": "code",
   "execution_count": 272,
   "metadata": {},
   "outputs": [
    {
     "data": {
      "text/plain": [
       "x1 + x2 + x3"
      ]
     },
     "execution_count": 272,
     "metadata": {},
     "output_type": "execute_result"
    }
   ],
   "source": [
    "sol_fin.subs(t==0)"
   ]
  },
  {
   "cell_type": "code",
   "execution_count": 273,
   "metadata": {},
   "outputs": [
    {
     "data": {
      "text/plain": [
       "y1 + y2 + y3"
      ]
     },
     "execution_count": 273,
     "metadata": {},
     "output_type": "execute_result"
    }
   ],
   "source": [
    "diff(sol_fin,t).subs(t==0)"
   ]
  },
  {
   "cell_type": "code",
   "execution_count": 274,
   "metadata": {},
   "outputs": [
    {
     "data": {
      "text/plain": [
       "z1 + z2 + z3"
      ]
     },
     "execution_count": 274,
     "metadata": {},
     "output_type": "execute_result"
    }
   ],
   "source": [
    "diff(sol_fin,t,2).subs(t==0)"
   ]
  },
  {
   "cell_type": "code",
   "execution_count": null,
   "metadata": {},
   "outputs": [],
   "source": [
    "# Ens demanen una solució on x(0)=0, x'(0)=0 i x''(0)=1\n",
    "# Prenem valors de x1,x2,x3,y1,y2,y3,z1,z2,z3 que ho compleixin.\n",
    "# Per exemple "
   ]
  },
  {
   "cell_type": "code",
   "execution_count": 275,
   "metadata": {},
   "outputs": [
    {
     "data": {
      "text/plain": [
       "3/65*cos(t)^2*e^(3*t) - 1/3250*(2*(325*t - 203)*e^t + 455*t + 715)*cos(t) + 1/3250*(1200*cos(t)*e^(3*t) - 2*(650*t + 779)*e^t - 65*t + 130)*sin(t) + 159/3250*e^(3*t)"
      ]
     },
     "execution_count": 275,
     "metadata": {},
     "output_type": "execute_result"
    }
   ],
   "source": [
    "sol=sol_fin.subs(x1==0,x2==0,x3==0,y1==0,y2==0,y3==0,z1==0,z2==0,z3==1);sol.simplify_full()"
   ]
  },
  {
   "cell_type": "code",
   "execution_count": 276,
   "metadata": {},
   "outputs": [
    {
     "data": {
      "text/plain": [
       "0"
      ]
     },
     "execution_count": 276,
     "metadata": {},
     "output_type": "execute_result"
    }
   ],
   "source": [
    "eq=diff(sol,t,3)-5*diff(sol,t,2)+ 8*diff(sol,t)-6*sol -t*sin(t)-2*exp(t)*cos(t)+3*exp(3*t)*sin(2*t);eq.simplify_full()"
   ]
  },
  {
   "cell_type": "code",
   "execution_count": 277,
   "metadata": {},
   "outputs": [
    {
     "data": {
      "text/plain": [
       "3/65*cos(t)^2*e^(3*t) - 1/3250*(2*(325*t - 203)*e^t + 455*t + 715)*cos(t) + 1/3250*(1200*cos(t)*e^(3*t) - 2*(650*t + 779)*e^t - 65*t + 130)*sin(t) + 159/3250*e^(3*t)"
      ]
     },
     "execution_count": 277,
     "metadata": {},
     "output_type": "execute_result"
    }
   ],
   "source": [
    "sol2=sol_fin.subs(x1==1,x2==-1,x3==0,y1==2,y2==-1,y3==-1,z1==3,z2==-1,z3==-1);sol2.simplify_full()"
   ]
  },
  {
   "cell_type": "code",
   "execution_count": 278,
   "metadata": {},
   "outputs": [
    {
     "data": {
      "text/plain": [
       "0"
      ]
     },
     "execution_count": 278,
     "metadata": {},
     "output_type": "execute_result"
    }
   ],
   "source": [
    "sol-sol2"
   ]
  },
  {
   "cell_type": "code",
   "execution_count": 279,
   "metadata": {},
   "outputs": [
    {
     "data": {
      "text/plain": [
       "3/65*cos(t)^2*e^(3*t) - 1/3250*(2*(325*t - 203)*e^t + 455*t + 715)*cos(t) + 1/3250*(1200*cos(t)*e^(3*t) - 2*(650*t + 779)*e^t - 65*t + 130)*sin(t) + 159/3250*e^(3*t)"
      ]
     },
     "execution_count": 279,
     "metadata": {},
     "output_type": "execute_result"
    }
   ],
   "source": [
    "sol3=sol_fin.subs(x3==-x1-x2,y3==-y1-y2,z3==1-z1-z2);sol3.simplify_full()"
   ]
  },
  {
   "cell_type": "code",
   "execution_count": 281,
   "metadata": {},
   "outputs": [
    {
     "data": {
      "text/plain": [
       "0"
      ]
     },
     "execution_count": 281,
     "metadata": {},
     "output_type": "execute_result"
    }
   ],
   "source": [
    "(sol-sol3).simplify_full()"
   ]
  },
  {
   "cell_type": "code",
   "execution_count": null,
   "metadata": {},
   "outputs": [],
   "source": [
    "#x(0)=xd y(0)=yd z(0)=zd"
   ]
  },
  {
   "cell_type": "code",
   "execution_count": 283,
   "metadata": {},
   "outputs": [
    {
     "data": {
      "text/plain": [
       "-3/65*e^(3*t)*sin(t)^2 + 1/5*(3*cos(t)*e^t - 9*e^t*sin(t) + 2*e^(3*t))*xd + 1/5*(2*cos(t)*e^t + 9*e^t*sin(t) - 2*e^(3*t))*yd - 1/5*(cos(t)*e^t + 2*e^t*sin(t) - e^(3*t))*zd - 1/3250*(2*(325*t - 528)*e^t + 455*t + 715)*cos(t) + 1/3250*(1200*cos(t)*e^(3*t) - 2*(650*t + 129)*e^t - 65*t + 130)*sin(t) - 341/3250*e^(3*t)"
      ]
     },
     "execution_count": 283,
     "metadata": {},
     "output_type": "execute_result"
    }
   ],
   "source": [
    "var(\"xd yd zd\");sold=sol_fin.subs(x3==xd-x1-x2,y3==yd-y1-y2,z3==zd-z1-z2);sold.simplify_full()"
   ]
  },
  {
   "cell_type": "code",
   "execution_count": null,
   "metadata": {},
   "outputs": [],
   "source": []
  },
  {
   "cell_type": "code",
   "execution_count": null,
   "metadata": {},
   "outputs": [],
   "source": [
    "#Podem comprobar que la solució no depen dels valors escollits.\n"
   ]
  },
  {
   "cell_type": "code",
   "execution_count": null,
   "metadata": {},
   "outputs": [],
   "source": []
  },
  {
   "cell_type": "code",
   "execution_count": null,
   "metadata": {},
   "outputs": [],
   "source": [
    "# Exercici 2"
   ]
  },
  {
   "cell_type": "code",
   "execution_count": 470,
   "metadata": {},
   "outputs": [],
   "source": [
    "x1(t)=exp(2*t)"
   ]
  },
  {
   "cell_type": "code",
   "execution_count": 471,
   "metadata": {},
   "outputs": [],
   "source": [
    "x2(t)=2*exp(3*t)"
   ]
  },
  {
   "cell_type": "code",
   "execution_count": 472,
   "metadata": {},
   "outputs": [],
   "source": [
    "x3(t)=3*exp(7*t)"
   ]
  },
  {
   "cell_type": "code",
   "execution_count": 473,
   "metadata": {},
   "outputs": [],
   "source": [
    "x4(t)=7*exp(4*t)*sin(2*t)"
   ]
  },
  {
   "cell_type": "code",
   "execution_count": 474,
   "metadata": {},
   "outputs": [],
   "source": [
    "x5(t)=-exp(-4*t)*cos(2*t)"
   ]
  },
  {
   "cell_type": "code",
   "execution_count": 475,
   "metadata": {},
   "outputs": [],
   "source": [
    "x6(t)=4*t^2*exp(3*t)*sin(4*t)"
   ]
  },
  {
   "cell_type": "code",
   "execution_count": 476,
   "metadata": {},
   "outputs": [],
   "source": [
    "x7(t)=5*t^4*exp(3*t)*sin(4*t)"
   ]
  },
  {
   "cell_type": "code",
   "execution_count": null,
   "metadata": {},
   "outputs": [],
   "source": [
    "# Apartat a\n",
    "\n",
    "# Preparem un sistema lineal on una matriu amb valors propis (2,3,7) més un canvi de base generi una matriu de tipus\n",
    "#(0,a,0) \n",
    "#(0,0,b)\n",
    "#(c,d,e)"
   ]
  },
  {
   "cell_type": "code",
   "execution_count": 547,
   "metadata": {},
   "outputs": [
    {
     "data": {
      "text/plain": [
       "[2 0 0]\n",
       "[0 3 0]\n",
       "[0 0 7]"
      ]
     },
     "execution_count": 547,
     "metadata": {},
     "output_type": "execute_result"
    }
   ],
   "source": [
    "D=matrix(QQ,[[2,0,0],[0,3,0],[0,0,7]]);D"
   ]
  },
  {
   "cell_type": "code",
   "execution_count": 548,
   "metadata": {},
   "outputs": [
    {
     "data": {
      "text/plain": [
       "[0 1 0]\n",
       "[0 0 1]\n",
       "[c d e]"
      ]
     },
     "execution_count": 548,
     "metadata": {},
     "output_type": "execute_result"
    }
   ],
   "source": [
    "var(\"c d e\");S=matrix([[0,1,0],[0,0,1],[c,d,e]]);S"
   ]
  },
  {
   "cell_type": "code",
   "execution_count": 549,
   "metadata": {},
   "outputs": [
    {
     "data": {
      "text/plain": [
       "x^3 - e*x^2 - d*x - c"
      ]
     },
     "execution_count": 549,
     "metadata": {},
     "output_type": "execute_result"
    }
   ],
   "source": [
    "S.charpoly()"
   ]
  },
  {
   "cell_type": "code",
   "execution_count": 550,
   "metadata": {},
   "outputs": [],
   "source": [
    "S1=S.subs(e==12,d==-41,c==42)"
   ]
  },
  {
   "cell_type": "code",
   "execution_count": 551,
   "metadata": {},
   "outputs": [
    {
     "data": {
      "text/plain": [
       "[7, 2, 3]"
      ]
     },
     "execution_count": 551,
     "metadata": {},
     "output_type": "execute_result"
    }
   ],
   "source": [
    "S1.eigenvalues()"
   ]
  },
  {
   "cell_type": "code",
   "execution_count": 552,
   "metadata": {},
   "outputs": [
    {
     "data": {
      "text/plain": [
       "[(7, [(1, 7, 49)], 1), (2, [(1, 2, 4)], 1), (3, [(1, 3, 9)], 1)]"
      ]
     },
     "execution_count": 552,
     "metadata": {},
     "output_type": "execute_result"
    }
   ],
   "source": [
    "S1.eigenvectors_right()"
   ]
  },
  {
   "cell_type": "code",
   "execution_count": 553,
   "metadata": {},
   "outputs": [],
   "source": [
    "B=matrix([[1, 7, 49], [1, 2, 4], [1, 3, 9]]).transpose()"
   ]
  },
  {
   "cell_type": "code",
   "execution_count": 554,
   "metadata": {},
   "outputs": [
    {
     "data": {
      "text/plain": [
       "[7 0 0]\n",
       "[0 2 0]\n",
       "[0 0 3]"
      ]
     },
     "execution_count": 554,
     "metadata": {},
     "output_type": "execute_result"
    }
   ],
   "source": [
    "1/B*S1*B"
   ]
  },
  {
   "cell_type": "code",
   "execution_count": null,
   "metadata": {},
   "outputs": [],
   "source": [
    "# L'equació diferencial és \n",
    "#\n",
    "# diff(x,t,3)==42*x-41*diff(x,t)+12*diff(x,t,2)"
   ]
  },
  {
   "cell_type": "code",
   "execution_count": 579,
   "metadata": {},
   "outputs": [
    {
     "data": {
      "text/plain": [
       "t |--> 8*e^(2*t) == 8*e^(2*t)"
      ]
     },
     "execution_count": 579,
     "metadata": {},
     "output_type": "execute_result"
    }
   ],
   "source": [
    "diff(x1,t,3)==42*x1-41*diff(x1,t)+12*diff(x1,t,2)"
   ]
  },
  {
   "cell_type": "code",
   "execution_count": 580,
   "metadata": {},
   "outputs": [
    {
     "data": {
      "text/plain": [
       "t |--> 54*e^(3*t) == 54*e^(3*t)"
      ]
     },
     "execution_count": 580,
     "metadata": {},
     "output_type": "execute_result"
    }
   ],
   "source": [
    "diff(x2,t,3)==42*x2-41*diff(x2,t)+12*diff(x2,t,2)"
   ]
  },
  {
   "cell_type": "code",
   "execution_count": 581,
   "metadata": {},
   "outputs": [
    {
     "data": {
      "text/plain": [
       "t |--> 1029*e^(7*t) == 1029*e^(7*t)"
      ]
     },
     "execution_count": 581,
     "metadata": {},
     "output_type": "execute_result"
    }
   ],
   "source": [
    "diff(x3,t,3)==42*x3-41*diff(x3,t)+12*diff(x3,t,2)"
   ]
  },
  {
   "cell_type": "code",
   "execution_count": null,
   "metadata": {},
   "outputs": [],
   "source": [
    "# apartat b\n",
    "#\n",
    "# Tenim una combinació de exponecials d'exponent oposat  i una parella sin-cos que implica una parella complexe\n",
    "# \n",
    "# Els valors propis son 4+2I, 4-2I, -4+2I, -4-2I, ordre 4\n",
    "\n"
   ]
  },
  {
   "cell_type": "code",
   "execution_count": 544,
   "metadata": {},
   "outputs": [
    {
     "data": {
      "text/plain": [
       "cos(2*t)*e^(4*t)"
      ]
     },
     "execution_count": 544,
     "metadata": {},
     "output_type": "execute_result"
    }
   ],
   "source": [
    "assume(t,\"real\");exp((4+2*I)*t).real()"
   ]
  },
  {
   "cell_type": "code",
   "execution_count": 545,
   "metadata": {},
   "outputs": [
    {
     "data": {
      "text/plain": [
       "e^(4*t)*sin(2*t)"
      ]
     },
     "execution_count": 545,
     "metadata": {},
     "output_type": "execute_result"
    }
   ],
   "source": [
    "exp((4+2*I)*t).imag()"
   ]
  },
  {
   "cell_type": "code",
   "execution_count": 555,
   "metadata": {},
   "outputs": [
    {
     "data": {
      "text/plain": [
       "[0 1 0 0]\n",
       "[0 0 1 0]\n",
       "[0 0 0 1]\n",
       "[b c d e]"
      ]
     },
     "execution_count": 555,
     "metadata": {},
     "output_type": "execute_result"
    }
   ],
   "source": [
    "var(\"b c d e\");S=matrix([[0,1,0,0],[0,0,1,0],[0,0,0,1],[b,c,d,e]]);S"
   ]
  },
  {
   "cell_type": "code",
   "execution_count": 556,
   "metadata": {},
   "outputs": [
    {
     "data": {
      "text/plain": [
       "x^4 - e*x^3 - d*x^2 - c*x - b"
      ]
     },
     "execution_count": 556,
     "metadata": {},
     "output_type": "execute_result"
    }
   ],
   "source": [
    "S.charpoly()"
   ]
  },
  {
   "cell_type": "code",
   "execution_count": null,
   "metadata": {},
   "outputs": [],
   "source": [
    "# No és casualitat aquesta relació entre els coeficients de la matriu i els del polinomi caracteristic.\n",
    "# Es pot demostrar que tota matriu plena de zeros, amb 1's a la superdiagonal i coeficients a la darrera fila\n",
    "# té com a polinomi característic els coeficients de la darrera fila canviats de signe i en ordre opossat."
   ]
  },
  {
   "cell_type": "code",
   "execution_count": 558,
   "metadata": {},
   "outputs": [],
   "source": [
    "v1=4+2*I; v2=4-2*I;v3= -4+2*I;v4= -4-2*I"
   ]
  },
  {
   "cell_type": "code",
   "execution_count": 564,
   "metadata": {},
   "outputs": [],
   "source": [
    "S1=S.subs(e==(v1+v2+v3+v4),d==-(v1*v2+v1*v3+v1*v4+v2*v3+v2*v4+v3*v4),c==(v1*v2*v3+v1*v2*v4+v1*v3*v4+v2*v3*v4),b==-v1*v2*v3*v4)"
   ]
  },
  {
   "cell_type": "code",
   "execution_count": 565,
   "metadata": {},
   "outputs": [
    {
     "data": {
      "text/plain": [
       "[-2*sqrt(4*I + 3), 2*sqrt(4*I + 3), -2*sqrt(-4*I + 3), 2*sqrt(-4*I + 3)]"
      ]
     },
     "execution_count": 565,
     "metadata": {},
     "output_type": "execute_result"
    }
   ],
   "source": [
    "S1.eigenvalues()"
   ]
  },
  {
   "cell_type": "code",
   "execution_count": 566,
   "metadata": {},
   "outputs": [
    {
     "data": {
      "text/plain": [
       "x^4 - 24*x^2 + 400"
      ]
     },
     "execution_count": 566,
     "metadata": {},
     "output_type": "execute_result"
    }
   ],
   "source": [
    "S1.charpoly()"
   ]
  },
  {
   "cell_type": "code",
   "execution_count": 568,
   "metadata": {},
   "outputs": [
    {
     "data": {
      "text/plain": [
       "0"
      ]
     },
     "execution_count": 568,
     "metadata": {},
     "output_type": "execute_result"
    }
   ],
   "source": [
    "(2*sqrt(4*I + 3)-(4+2*I)).simplify_full()"
   ]
  },
  {
   "cell_type": "code",
   "execution_count": null,
   "metadata": {},
   "outputs": [],
   "source": [
    "# Apartat C\n",
    "#\n",
    "# La part homogenea ha de ser la mateixa del apartat a).\n",
    "# Per tant només cal substituir la solució que volem per determinar el terme no homogeni\n"
   ]
  },
  {
   "cell_type": "code",
   "execution_count": 583,
   "metadata": {},
   "outputs": [
    {
     "data": {
      "text/plain": [
       "t |--> -154*cos(2*t)*e^(4*t) - 42*e^(4*t)*sin(2*t)"
      ]
     },
     "execution_count": 583,
     "metadata": {},
     "output_type": "execute_result"
    }
   ],
   "source": [
    "diff(x4,t,3)-(42*x4-41*diff(x4,1)+12*diff(x4,t,2))"
   ]
  },
  {
   "cell_type": "code",
   "execution_count": null,
   "metadata": {},
   "outputs": [],
   "source": []
  },
  {
   "cell_type": "code",
   "execution_count": null,
   "metadata": {},
   "outputs": [],
   "source": [
    "# Apartat d\n",
    "# \n",
    "# Als quatre valors propis que venen de x4 i x5 tenim que afegir els que venen de x6 i x7. Aqui només cal una\n",
    "# parella de imaginaris conjugats (3+4*I) però aquests valors propis hauran de tenir fins a multiplicitat 5\n",
    "# per poder generar el terme t^4 "
   ]
  },
  {
   "cell_type": "code",
   "execution_count": 584,
   "metadata": {},
   "outputs": [],
   "source": [
    "v5=(3+4*I);v6=3-4*I"
   ]
  },
  {
   "cell_type": "code",
   "execution_count": 585,
   "metadata": {},
   "outputs": [],
   "source": [
    "pol=(x-v1)*(x-v2)*(x-v3)*(x-v4)*(x-v5)^5*(x-v6)^5"
   ]
  },
  {
   "cell_type": "code",
   "execution_count": 586,
   "metadata": {},
   "outputs": [
    {
     "data": {
      "text/plain": [
       "x(t)^14 - 30*x(t)^13 + 461*x(t)^12 - 4440*x(t)^11 + 28490*x(t)^10 - 116436*x(t)^9 + 233730*x(t)^8 + 189624*x(t)^7 - 367875*x(t)^6 - 25629150*x(t)^5 + 225190625*x(t)^4 - 1008750000*x(t)^3 + 2796875000*x(t)^2 - 4687500000*x(t) + 3906250000"
      ]
     },
     "execution_count": 586,
     "metadata": {},
     "output_type": "execute_result"
    }
   ],
   "source": [
    "expand(pol)"
   ]
  },
  {
   "cell_type": "code",
   "execution_count": null,
   "metadata": {},
   "outputs": [],
   "source": [
    "# Per tant, amb la propietat mencionada adalt sobre matrius i polinomis característics, això ja hem\n",
    "# dona una equació diferencial homogénea d'ordre 14.\n"
   ]
  },
  {
   "cell_type": "code",
   "execution_count": 588,
   "metadata": {},
   "outputs": [
    {
     "data": {
      "text/plain": [
       "3906250000*x(t) - 4687500000*diff(x(t), t) + 2796875000*diff(x(t), t, t) - 1008750000*diff(x(t), t, t, t) + 225190625*diff(x(t), t, t, t, t) - 25629150*diff(x(t), t, t, t, t, t) - 367875*diff(x(t), t, t, t, t, t, t) + 189624*diff(x(t), t, t, t, t, t, t, t) + 233730*diff(x(t), t, t, t, t, t, t, t, t) - 116436*diff(x(t), t, t, t, t, t, t, t, t, t) + 28490*diff(x(t), t, t, t, t, t, t, t, t, t, t) - 4440*diff(x(t), t, t, t, t, t, t, t, t, t, t, t) + 461*diff(x(t), t, t, t, t, t, t, t, t, t, t, t, t) - 30*diff(x(t), t, t, t, t, t, t, t, t, t, t, t, t, t) + diff(x(t), t, t, t, t, t, t, t, t, t, t, t, t, t, t)"
      ]
     },
     "execution_count": 588,
     "metadata": {},
     "output_type": "execute_result"
    }
   ],
   "source": [
    "diff(x,t,14) - 30*diff(x,t,13) + 461*diff(x,t,12) - 4440*diff(x,t,11) + 28490*diff(x,t,10) - 116436*diff(x,t,9)+ 233730*diff(x,t,8) + 189624*diff(x,t,7) - 367875*diff(x,t,6) - 25629150*diff(x,t,5) + 225190625*diff(x,t,4)- 1008750000*diff(x,t,3) + 2796875000*diff(x,t,2) - 4687500000*diff(x,t) + 3906250000*x"
   ]
  },
  {
   "cell_type": "code",
   "execution_count": 590,
   "metadata": {},
   "outputs": [
    {
     "data": {
      "text/plain": [
       "t |--> 454354240*e^(2*t)"
      ]
     },
     "execution_count": 590,
     "metadata": {},
     "output_type": "execute_result"
    }
   ],
   "source": [
    "diff(x1,t,14) - 30*diff(x1,t,13) + 461*diff(x1,t,12) - 4440*diff(x1,t,11) + 28490*diff(x1,t,10) - 116436*diff(x1,t,9)+ 233730*diff(x1,t,8) + 189624*diff(x1,t,7) - 367875*diff(x1,t,6) - 25629150*diff(x1,t,5) + 225190625*diff(x1,t,4)-1008750000*diff(x1,t,3) + 2796875000*diff(x1,t,2) - 4687500000*diff(x1,t) + 3906250000*x1"
   ]
  },
  {
   "cell_type": "code",
   "execution_count": null,
   "metadata": {},
   "outputs": [],
   "source": []
  },
  {
   "cell_type": "code",
   "execution_count": null,
   "metadata": {},
   "outputs": [],
   "source": [
    "# Exercici 3\n"
   ]
  },
  {
   "cell_type": "code",
   "execution_count": 593,
   "metadata": {},
   "outputs": [
    {
     "data": {
      "text/plain": [
       "-2*(2*t^2 + 2*t - 1)*x(t) + (2*t^2 - 3)*diff(x(t), t) + (t + 1)*diff(x(t), t, t)"
      ]
     },
     "execution_count": 593,
     "metadata": {},
     "output_type": "execute_result"
    }
   ],
   "source": [
    "eq=(1+t)*diff(x,t,t)+(2*t^2-3)*diff(x,t)+(2-4*t-4*t^2)*x;eq"
   ]
  },
  {
   "cell_type": "code",
   "execution_count": 614,
   "metadata": {},
   "outputs": [
    {
     "data": {
      "text/plain": [
       "a^2*(t + 1)*e^(a*t) + (2*t^2 - 3)*a*e^(a*t) - 2*(2*t^2 + 2*t - 1)*e^(a*t)"
      ]
     },
     "execution_count": 614,
     "metadata": {},
     "output_type": "execute_result"
    }
   ],
   "source": [
    "var(\"c2 c1 c0\");eq=(1+t)*diff(exp(a*t),t,t)+(2*t^2-3)*diff(exp(a*t),t)+(2-4*t-4*t^2)*exp(a*t);eq"
   ]
  },
  {
   "cell_type": "code",
   "execution_count": 615,
   "metadata": {},
   "outputs": [
    {
     "data": {
      "text/plain": [
       "a^2*(t + 1) + (2*t^2 - 3)*a - 4*t^2 - 4*t + 2"
      ]
     },
     "execution_count": 615,
     "metadata": {},
     "output_type": "execute_result"
    }
   ],
   "source": [
    "eq=eq.collect(exp(a*t))/exp(a*t);eq"
   ]
  },
  {
   "cell_type": "code",
   "execution_count": 616,
   "metadata": {},
   "outputs": [
    {
     "data": {
      "text/plain": [
       "2*(a - 2)*t^2 + a^2 + (a^2 - 4)*t - 3*a + 2"
      ]
     },
     "execution_count": 616,
     "metadata": {},
     "output_type": "execute_result"
    }
   ],
   "source": [
    "eq.collect(t)"
   ]
  },
  {
   "cell_type": "code",
   "execution_count": null,
   "metadata": {},
   "outputs": [],
   "source": [
    "# Cal que tot els coeficients de t siguin 0\n"
   ]
  },
  {
   "cell_type": "code",
   "execution_count": 618,
   "metadata": {},
   "outputs": [
    {
     "data": {
      "text/plain": [
       "0"
      ]
     },
     "execution_count": 618,
     "metadata": {},
     "output_type": "execute_result"
    }
   ],
   "source": [
    "eq.subs(a==2)"
   ]
  },
  {
   "cell_type": "code",
   "execution_count": null,
   "metadata": {},
   "outputs": [],
   "source": [
    "# Apartat b"
   ]
  },
  {
   "cell_type": "code",
   "execution_count": 619,
   "metadata": {},
   "outputs": [
    {
     "data": {
      "text/plain": [
       "-2*(2*t^2 + 2*t - 1)*c(t)*e^(a*t) + (a*c(t)*e^(a*t) + e^(a*t)*diff(c(t), t))*(2*t^2 - 3) + (a^2*c(t)*e^(a*t) + 2*a*e^(a*t)*diff(c(t), t) + e^(a*t)*diff(c(t), t, t))*(t + 1)"
      ]
     },
     "execution_count": 619,
     "metadata": {},
     "output_type": "execute_result"
    }
   ],
   "source": [
    "c=function(\"c\")(t);eq=(1+t)*diff(c(t)*exp(a*t),t,t)+(2*t^2-3)*diff(c(t)*exp(a*t),t)+(2-4*t-4*t^2)*c(t)*exp(a*t);eq"
   ]
  },
  {
   "cell_type": "code",
   "execution_count": 620,
   "metadata": {},
   "outputs": [
    {
     "data": {
      "text/plain": [
       "a^2*t*c(t) + 2*a*t^2*c(t) + a^2*c(t) + 2*a*t*diff(c(t), t) + 2*t^2*diff(c(t), t) - 2*(2*t^2 + 2*t - 1)*c(t) - 3*a*c(t) + 2*a*diff(c(t), t) + t*diff(c(t), t, t) - 3*diff(c(t), t) + diff(c(t), t, t)"
      ]
     },
     "execution_count": 620,
     "metadata": {},
     "output_type": "execute_result"
    }
   ],
   "source": [
    "eq=eq.collect(exp(a*t))/exp(a*t);eq"
   ]
  },
  {
   "cell_type": "code",
   "execution_count": 621,
   "metadata": {},
   "outputs": [
    {
     "data": {
      "text/plain": [
       "(2*(a - 2)*t^2 + a^2 + (a^2 - 4)*t - 3*a + 2)*c(t) + (2*a*t + 2*t^2 + 2*a - 3)*diff(c(t), t) + (t + 1)*diff(c(t), t, t)"
      ]
     },
     "execution_count": 621,
     "metadata": {},
     "output_type": "execute_result"
    }
   ],
   "source": [
    "eq.simplify_full()"
   ]
  },
  {
   "cell_type": "code",
   "execution_count": 622,
   "metadata": {},
   "outputs": [
    {
     "data": {
      "text/plain": [
       "(2*t^2 + 4*t + 1)*diff(c(t), t) + (t + 1)*diff(c(t), t, t)"
      ]
     },
     "execution_count": 622,
     "metadata": {},
     "output_type": "execute_result"
    }
   ],
   "source": [
    "eq.simplify_full().subs(a==2)"
   ]
  },
  {
   "cell_type": "code",
   "execution_count": 625,
   "metadata": {},
   "outputs": [
    {
     "data": {
      "text/plain": [
       "-1/2*_K1*e^(-t^2 - 2*t) + _K2"
      ]
     },
     "execution_count": 625,
     "metadata": {},
     "output_type": "execute_result"
    }
   ],
   "source": [
    "sol_c=desolve((2*t^2 + 4*t + 1)*diff(c(t), t) + (t + 1)*diff(c(t), t, t)==0,[c,t]);sol_c"
   ]
  },
  {
   "cell_type": "code",
   "execution_count": 630,
   "metadata": {},
   "outputs": [
    {
     "data": {
      "text/plain": [
       "-1/2*_K1*e^(-t^2) + _K2*e^(2*t)"
      ]
     },
     "execution_count": 630,
     "metadata": {},
     "output_type": "execute_result"
    }
   ],
   "source": [
    "(sol_c*exp(2*t)).expand()"
   ]
  },
  {
   "cell_type": "code",
   "execution_count": 631,
   "metadata": {},
   "outputs": [],
   "source": [
    "sol1=exp(2*t)"
   ]
  },
  {
   "cell_type": "code",
   "execution_count": 633,
   "metadata": {},
   "outputs": [
    {
     "data": {
      "text/plain": [
       "-1/2*_K1*e^(-t^2) + _K2*e^(2*t)"
      ]
     },
     "execution_count": 633,
     "metadata": {},
     "output_type": "execute_result"
    }
   ],
   "source": [
    "sol2=(sol_c*exp(2*t)).expand();sol2"
   ]
  },
  {
   "cell_type": "code",
   "execution_count": null,
   "metadata": {},
   "outputs": [],
   "source": [
    "# Si K1=0 aleshores sol2és múltiple de sol1, però en cas contrari ja no tenen relació lineal\n",
    "# Prenem K2=0 i sol2= exp(-t^2).\n",
    "# Per tant tota expressió de la forma A*sol1+B*sol2 serà solució del problema\n"
   ]
  },
  {
   "cell_type": "code",
   "execution_count": 641,
   "metadata": {},
   "outputs": [],
   "source": [
    "sol2=exp(-t^2)"
   ]
  },
  {
   "cell_type": "code",
   "execution_count": 642,
   "metadata": {},
   "outputs": [],
   "source": [
    "var(\"A1 B1\");sol=A1*sol1+B1*sol2"
   ]
  },
  {
   "cell_type": "code",
   "execution_count": 643,
   "metadata": {},
   "outputs": [
    {
     "data": {
      "text/plain": [
       "-2*(B1*t*e^(-t^2) - A1*e^(2*t))*(2*t^2 - 3) - 2*(2*t^2 + 2*t - 1)*(B1*e^(-t^2) + A1*e^(2*t)) + 2*(2*B1*t^2*e^(-t^2) - B1*e^(-t^2) + 2*A1*e^(2*t))*(t + 1)"
      ]
     },
     "execution_count": 643,
     "metadata": {},
     "output_type": "execute_result"
    }
   ],
   "source": [
    "eq=(1+t)*diff(sol,t,t)+(2*t^2-3)*diff(sol,t)+(2-4*t-4*t^2)*sol;eq"
   ]
  },
  {
   "cell_type": "code",
   "execution_count": 644,
   "metadata": {},
   "outputs": [
    {
     "data": {
      "text/plain": [
       "0"
      ]
     },
     "execution_count": 644,
     "metadata": {},
     "output_type": "execute_result"
    }
   ],
   "source": [
    "eq.simplify_full()"
   ]
  },
  {
   "cell_type": "code",
   "execution_count": 645,
   "metadata": {},
   "outputs": [
    {
     "data": {
      "text/plain": [
       "[                    e^(2*t)                    e^(-t^2)                        x(t)]\n",
       "[                  2*e^(2*t)               -2*t*e^(-t^2)               diff(x(t), t)]\n",
       "[                  4*e^(2*t) 4*t^2*e^(-t^2) - 2*e^(-t^2)            diff(x(t), t, t)]"
      ]
     },
     "execution_count": 645,
     "metadata": {},
     "output_type": "execute_result"
    }
   ],
   "source": [
    "S=matrix([[sol1,sol2,x],[diff(sol1,t),diff(sol2,t),diff(x,t)],[diff(sol1,t,2),diff(sol2,t,2),diff(x,t,2)]]);S"
   ]
  },
  {
   "cell_type": "code",
   "execution_count": 647,
   "metadata": {},
   "outputs": [
    {
     "data": {
      "text/plain": [
       "2*(4*t^2*x(t) - 2*t^2*diff(x(t), t) + 4*t*x(t) - t*diff(x(t), t, t) - 2*x(t) + 3*diff(x(t), t) - diff(x(t), t, t))*e^(-t^2 + 2*t)"
      ]
     },
     "execution_count": 647,
     "metadata": {},
     "output_type": "execute_result"
    }
   ],
   "source": [
    "S.determinant().factor()"
   ]
  },
  {
   "cell_type": "code",
   "execution_count": 649,
   "metadata": {},
   "outputs": [
    {
     "data": {
      "text/plain": [
       "4*t^2*x(t) - 2*t^2*diff(x(t), t) + 4*t*x(t) - t*diff(x(t), t, t) - 2*x(t) + 3*diff(x(t), t) - diff(x(t), t, t)"
      ]
     },
     "execution_count": 649,
     "metadata": {},
     "output_type": "execute_result"
    }
   ],
   "source": [
    "S.determinant().factor()/(2*exp(-t^2+2*t))"
   ]
  },
  {
   "cell_type": "code",
   "execution_count": 650,
   "metadata": {},
   "outputs": [],
   "source": [
    "sol3=log(t)"
   ]
  },
  {
   "cell_type": "code",
   "execution_count": 657,
   "metadata": {},
   "outputs": [
    {
     "data": {
      "text/plain": [
       "[                        e^(2*t)                        e^(-t^2)                          log(t)                            x(t)]\n",
       "[                      2*e^(2*t)                   -2*t*e^(-t^2)                             1/t                   diff(x(t), t)]\n",
       "[                      4*e^(2*t)     4*t^2*e^(-t^2) - 2*e^(-t^2)                          -1/t^2                diff(x(t), t, t)]\n",
       "[                      8*e^(2*t) -8*t^3*e^(-t^2) + 12*t*e^(-t^2)                           2/t^3             diff(x(t), t, t, t)]"
      ]
     },
     "execution_count": 657,
     "metadata": {},
     "output_type": "execute_result"
    }
   ],
   "source": [
    "S=matrix([[sol1,sol2,sol3,x],[diff(sol1,t),diff(sol2,t),diff(sol3,t),diff(x,t)],[diff(sol1,t,2),diff(sol2,t,2),diff(sol3,t,2),diff(x,t,2)], [diff(sol1,t,3),diff(sol2,t,3),diff(sol3,t,3),diff(x,t,3)]]);S"
   ]
  },
  {
   "cell_type": "code",
   "execution_count": 659,
   "metadata": {},
   "outputs": [
    {
     "data": {
      "text/plain": [
       "2*(4*(4*t^5 + 6*t^4 - 6*t^3 - 9*t^2 - 2*t + 1)*e^(2*t)*x(t) - 2*(4*(2*t^6 + 2*t^5 - 3*t^4 - t^3)*e^(2*t)*log(t) + (2*t^4 - 5*t^2 + 2*t + 3)*e^(2*t))*diff(x(t), t) + 2*(2*(2*t^6 - 5*t^4)*e^(2*t)*log(t) - (2*t^5 - 3*t^3 + 2*t^2 - t - 1)*e^(2*t))*diff(x(t), t, t) + (2*(2*t^5 + 2*t^4 - t^3)*e^(2*t)*log(t) - (2*t^4 - 4*t^2 - t)*e^(2*t))*diff(x(t), t, t, t))*e^(-t^2)/t^3"
      ]
     },
     "execution_count": 659,
     "metadata": {},
     "output_type": "execute_result"
    }
   ],
   "source": [
    "S.determinant().simplify_full()"
   ]
  },
  {
   "cell_type": "code",
   "execution_count": 663,
   "metadata": {},
   "outputs": [
    {
     "data": {
      "text/plain": [
       "4*(4*t^5 + 6*t^4 - 6*t^3 - 9*t^2 - 2*t + 1)*e^(2*t)*x(t) - 2*(4*(2*t^6 + 2*t^5 - 3*t^4 - t^3)*e^(2*t)*log(t) + (2*t^4 - 5*t^2 + 2*t + 3)*e^(2*t))*diff(x(t), t) + 2*(2*(2*t^6 - 5*t^4)*e^(2*t)*log(t) - (2*t^5 - 3*t^3 + 2*t^2 - t - 1)*e^(2*t))*diff(x(t), t, t) + (2*(2*t^5 + 2*t^4 - t^3)*e^(2*t)*log(t) - (2*t^4 - 4*t^2 - t)*e^(2*t))*diff(x(t), t, t, t)"
      ]
     },
     "execution_count": 663,
     "metadata": {},
     "output_type": "execute_result"
    }
   ],
   "source": [
    "eq=S.determinant().simplify_full()*t^3/(2*exp(-t^2));eq"
   ]
  },
  {
   "cell_type": "code",
   "execution_count": null,
   "metadata": {},
   "outputs": [],
   "source": []
  }
 ],
 "metadata": {
  "kernelspec": {
   "display_name": "SageMath 9.1",
   "language": "sage",
   "name": "sagemath"
  },
  "language_info": {
   "codemirror_mode": {
    "name": "ipython",
    "version": 3
   },
   "file_extension": ".py",
   "mimetype": "text/x-python",
   "name": "python",
   "nbconvert_exporter": "python",
   "pygments_lexer": "ipython3",
   "version": "3.7.3"
  }
 },
 "nbformat": 4,
 "nbformat_minor": 2
}
