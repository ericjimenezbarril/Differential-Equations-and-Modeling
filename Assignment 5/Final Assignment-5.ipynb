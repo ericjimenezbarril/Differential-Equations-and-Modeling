{
 "cells": [
  {
   "cell_type": "markdown",
   "metadata": {},
   "source": [
    "# ENTREGA PRÀCTICA 5 EQUACIONS LINEALS D'ORDRE N"
   ]
  },
  {
   "cell_type": "markdown",
   "metadata": {},
   "source": [
    "## 1599092-ERIC JIMÉNEZ BARRIL\n",
    "## 1603567-ARNAU PERICH IGLESIAS\n",
    "## 1605183 -ALEIX SANCHO JIMÉNEZ"
   ]
  },
  {
   "cell_type": "code",
   "execution_count": 62,
   "metadata": {},
   "outputs": [],
   "source": [
    "reset()"
   ]
  },
  {
   "cell_type": "markdown",
   "metadata": {},
   "source": [
    "Definim les funcions donades"
   ]
  },
  {
   "cell_type": "code",
   "execution_count": 63,
   "metadata": {},
   "outputs": [
    {
     "data": {
      "text/plain": [
       "t"
      ]
     },
     "execution_count": 63,
     "metadata": {},
     "output_type": "execute_result"
    }
   ],
   "source": [
    "var(\"t\")"
   ]
  },
  {
   "cell_type": "code",
   "execution_count": 64,
   "metadata": {},
   "outputs": [],
   "source": [
    "x1= function(\"x1\")(t); x1=e^(2*t)\n",
    "x2= function(\"x2\")(t); x2=2*e^(3*t)\n",
    "x3= function(\"x3\")(t); x3=3*e^(7*t)\n",
    "x4= function(\"x4\")(t); x4=7*e^(4*t)*sin(2*t)\n",
    "x5= function(\"x5\")(t); x5=-e^(-4*t)*cos(2*t)\n",
    "x6= function(\"x6\")(t); x6=4*t^2 *e^(3*t)*sin(4*t)\n",
    "x7= function(\"x7\")(t); x7= 5*t^4 * e^(3*t)*sin(4*t)"
   ]
  },
  {
   "cell_type": "code",
   "execution_count": 65,
   "metadata": {},
   "outputs": [
    {
     "data": {
      "text/html": [
       "<html><script type=\"math/tex; mode=display\">\\newcommand{\\Bold}[1]{\\mathbf{#1}}\\left[e^{\\left(2 \\, t\\right)}, 2 \\, e^{\\left(3 \\, t\\right)}, 3 \\, e^{\\left(7 \\, t\\right)}, 7 \\, e^{\\left(4 \\, t\\right)} \\sin\\left(2 \\, t\\right), -\\cos\\left(2 \\, t\\right) e^{\\left(-4 \\, t\\right)}, 4 \\, t^{2} e^{\\left(3 \\, t\\right)} \\sin\\left(4 \\, t\\right), 5 \\, t^{4} e^{\\left(3 \\, t\\right)} \\sin\\left(4 \\, t\\right)\\right]</script></html>"
      ],
      "text/plain": [
       "[e^(2*t),\n",
       " 2*e^(3*t),\n",
       " 3*e^(7*t),\n",
       " 7*e^(4*t)*sin(2*t),\n",
       " -cos(2*t)*e^(-4*t),\n",
       " 4*t^2*e^(3*t)*sin(4*t),\n",
       " 5*t^4*e^(3*t)*sin(4*t)]"
      ]
     },
     "metadata": {},
     "output_type": "display_data"
    }
   ],
   "source": [
    "EQ=[x1, x2, x3, x4, x5, x6, x7]\n",
    "show(EQ)"
   ]
  },
  {
   "cell_type": "code",
   "execution_count": 66,
   "metadata": {
    "scrolled": true
   },
   "outputs": [
    {
     "data": {
      "text/plain": [
       "5*t^4*e^(3*t)*sin(4*t)"
      ]
     },
     "execution_count": 66,
     "metadata": {},
     "output_type": "execute_result"
    }
   ],
   "source": [
    "EQ[6]"
   ]
  },
  {
   "cell_type": "markdown",
   "metadata": {},
   "source": [
    "## Apartat (a)"
   ]
  },
  {
   "cell_type": "markdown",
   "metadata": {},
   "source": [
    "Trobem una equació  diferencial lineal de coeficients constants homogènia que tingui x1, x2, x3 com a solució"
   ]
  },
  {
   "cell_type": "code",
   "execution_count": 67,
   "metadata": {},
   "outputs": [
    {
     "data": {
      "text/plain": [
       "[e^(2*t), 2*e^(3*t), 3*e^(7*t)]"
      ]
     },
     "execution_count": 67,
     "metadata": {},
     "output_type": "execute_result"
    }
   ],
   "source": [
    "sol1= [x1, x2, x3]; sol1"
   ]
  },
  {
   "cell_type": "markdown",
   "metadata": {},
   "source": [
    "Notem que x1, x2, x3 són linealment independents doncs:"
   ]
  },
  {
   "cell_type": "code",
   "execution_count": 68,
   "metadata": {
    "scrolled": true
   },
   "outputs": [
    {
     "data": {
      "text/plain": [
       "[a + 2*b + 3*c == 0,\n",
       " 3*c*e^7 + 2*b*e^3 + a*e^2 == 0,\n",
       " 3*c*e^14 + 2*b*e^6 + a*e^4 == 0]"
      ]
     },
     "execution_count": 68,
     "metadata": {},
     "output_type": "execute_result"
    }
   ],
   "source": [
    "var(\"a, b, c\")\n",
    "f1= a*x1+b*x2+c*x3\n",
    "v1= f1(t=0)\n",
    "v2= f1(t=1)\n",
    "v3=f1(t=2)\n",
    "ST= [v1==0, v2==0, v3==0];\n",
    "ST"
   ]
  },
  {
   "cell_type": "code",
   "execution_count": 69,
   "metadata": {},
   "outputs": [
    {
     "data": {
      "text/plain": [
       "[[a == 0, b == 0, c == 0]]"
      ]
     },
     "execution_count": 69,
     "metadata": {},
     "output_type": "execute_result"
    }
   ],
   "source": [
    "VST=solve(ST, a, b, c); VST"
   ]
  },
  {
   "cell_type": "markdown",
   "metadata": {},
   "source": [
    "Això ens diu que la combinació trivial és solució i notem"
   ]
  },
  {
   "cell_type": "code",
   "execution_count": 70,
   "metadata": {},
   "outputs": [
    {
     "data": {
      "text/plain": [
       "False"
      ]
     },
     "execution_count": 70,
     "metadata": {},
     "output_type": "execute_result"
    }
   ],
   "source": [
    "MST= matrix([[1, 2, 3], [e^2, 2*e^3, 3*e^7], [e^4, 2*e^6, 3*e^14]])\n",
    "DST=MST.det()\n",
    "DST.n()==0"
   ]
  },
  {
   "cell_type": "markdown",
   "metadata": {},
   "source": [
    "Com que el determinant és no-nul, el sistema es compatible determitat i per tant la ÚNICA combinació lineal que ens dona zero és la trivial per tant x1, x2, x3 són linealment independents i per tant la Equació lineal mínim serà d'ordre 3"
   ]
  },
  {
   "cell_type": "code",
   "execution_count": 71,
   "metadata": {},
   "outputs": [
    {
     "data": {
      "text/plain": [
       "[2*e^(2*t), 6*e^(3*t), 21*e^(7*t)]"
      ]
     },
     "execution_count": 71,
     "metadata": {},
     "output_type": "execute_result"
    }
   ],
   "source": [
    "dsol1= [diff(x1,t), diff(x2, t), diff(x3,t)]; dsol1"
   ]
  },
  {
   "cell_type": "code",
   "execution_count": 72,
   "metadata": {},
   "outputs": [
    {
     "data": {
      "text/plain": [
       "[4*e^(2*t), 18*e^(3*t), 147*e^(7*t)]"
      ]
     },
     "execution_count": 72,
     "metadata": {},
     "output_type": "execute_result"
    }
   ],
   "source": [
    "d2sol1= [diff(dsol1[i], t) for i in [0..2]]; d2sol1"
   ]
  },
  {
   "cell_type": "code",
   "execution_count": 73,
   "metadata": {},
   "outputs": [
    {
     "data": {
      "text/plain": [
       "[8*e^(2*t), 54*e^(3*t), 1029*e^(7*t)]"
      ]
     },
     "execution_count": 73,
     "metadata": {},
     "output_type": "execute_result"
    }
   ],
   "source": [
    "d3sol1= [diff(d2sol1[i], t) for i in [0..2]]; d3sol1"
   ]
  },
  {
   "cell_type": "markdown",
   "metadata": {},
   "source": [
    "Suposem que té ordre 3 (pot ser en tingui ordre major).\n",
    "Si en tingués ordre 3, seria de la forma\n",
    "$x''' = Ax'' + Bx' + Cx$\n",
    "Veiem si aquest sistema té solució amb les 3 equacions que tenim"
   ]
  },
  {
   "cell_type": "code",
   "execution_count": 74,
   "metadata": {
    "scrolled": true
   },
   "outputs": [
    {
     "data": {
      "text/plain": [
       "(A, B, C)"
      ]
     },
     "execution_count": 74,
     "metadata": {},
     "output_type": "execute_result"
    }
   ],
   "source": [
    "var(\"A, B, C\")"
   ]
  },
  {
   "cell_type": "code",
   "execution_count": 75,
   "metadata": {},
   "outputs": [
    {
     "data": {
      "text/plain": [
       "[[A == 12, B == -41, C == 42]]"
      ]
     },
     "execution_count": 75,
     "metadata": {},
     "output_type": "execute_result"
    }
   ],
   "source": [
    "STT = [(d3sol1[i]==A*d2sol1[i]+B*dsol1[i]+C*sol1[i]) for i in [0..2]]\n",
    "solve(STT, A, B, C)"
   ]
  },
  {
   "cell_type": "markdown",
   "metadata": {},
   "source": [
    "Així, tenim que és una EDO d'ordre 3 lineal homogènia i té forma"
   ]
  },
  {
   "cell_type": "markdown",
   "metadata": {},
   "source": [
    "$x^{(3)} - 12x^{(2)} + 41 x^{(1)} - 42 x==0$                         "
   ]
  },
  {
   "cell_type": "markdown",
   "metadata": {},
   "source": [
    "Comprovem que les tres funcions (x1, x2, x3) són solucions"
   ]
  },
  {
   "cell_type": "code",
   "execution_count": 76,
   "metadata": {},
   "outputs": [
    {
     "data": {
      "text/plain": [
       "[0, 0, 0]"
      ]
     },
     "execution_count": 76,
     "metadata": {},
     "output_type": "execute_result"
    }
   ],
   "source": [
    "R= [(d3sol1[i]-12*d2sol1[i]+41*dsol1[i]-42*sol1[i]) for i in [0..2]]; R"
   ]
  },
  {
   "cell_type": "markdown",
   "metadata": {},
   "source": [
    "En efecte, les 3 funcions són solució de la equacio diferencial lineal de coeficients constants homogència.\n",
    "A més, aquesta és d'ordre mínim doncs fent el canvi de variable:\n",
    "$x^{(i)}=x_i$;\n",
    "obtindriem un sistema d'equacions homogeni que té com a conjunt de solucions $\\mathcal{A}$ amb estructura de espai vectoeial de dimensió l'ordre de la edo. \n",
    "Per tant, si x1, x2, x3 formen part de la base (doncs són L.I.), l'ordre de la EDO ha de ser mínim 3.\n",
    "Com que hem trobat una d'ordre 3 que té les 3 funcions com a solució, aquesta és la que té ordre mínim"
   ]
  },
  {
   "cell_type": "code",
   "execution_count": null,
   "metadata": {},
   "outputs": [],
   "source": []
  },
  {
   "cell_type": "code",
   "execution_count": null,
   "metadata": {},
   "outputs": [],
   "source": []
  },
  {
   "cell_type": "markdown",
   "metadata": {},
   "source": [
    "## Apartat (b)"
   ]
  },
  {
   "cell_type": "markdown",
   "metadata": {},
   "source": [
    "Trobem una equació lineal amb coeficients constants d'ordre mínim que té x4, x5 com a solucions (ho plantejem de mateixa manera)"
   ]
  },
  {
   "cell_type": "code",
   "execution_count": 77,
   "metadata": {},
   "outputs": [
    {
     "data": {
      "text/plain": [
       "[7*e^(4*t)*sin(2*t), -cos(2*t)*e^(-4*t)]"
      ]
     },
     "execution_count": 77,
     "metadata": {},
     "output_type": "execute_result"
    }
   ],
   "source": [
    "sol2= [x4, x5]; sol2\n"
   ]
  },
  {
   "cell_type": "markdown",
   "metadata": {},
   "source": [
    "Veiem que són funcions linealment independents"
   ]
  },
  {
   "cell_type": "markdown",
   "metadata": {},
   "source": [
    "Veiem que són funcions linealment independents"
   ]
  },
  {
   "cell_type": "code",
   "execution_count": 78,
   "metadata": {},
   "outputs": [
    {
     "data": {
      "text/plain": [
       "[-b2 == 0, -b2*cos(2)*e^(-4) + 7*a2*e^4*sin(2) == 0]"
      ]
     },
     "execution_count": 78,
     "metadata": {},
     "output_type": "execute_result"
    }
   ],
   "source": [
    "var(\"a2, b2\")\n",
    "f2= a2*x4+b2*x5\n",
    "v4= f2(t=0)\n",
    "v5= f2(t=1)\n",
    "ST2= [v4==0, v5==0];\n",
    "ST2"
   ]
  },
  {
   "cell_type": "code",
   "execution_count": 79,
   "metadata": {},
   "outputs": [
    {
     "data": {
      "text/plain": [
       "[[a2 == 0, b2 == 0]]"
      ]
     },
     "execution_count": 79,
     "metadata": {},
     "output_type": "execute_result"
    }
   ],
   "source": [
    "solve(ST2, a2,b2)"
   ]
  },
  {
   "cell_type": "code",
   "execution_count": 80,
   "metadata": {},
   "outputs": [
    {
     "data": {
      "text/plain": [
       "False"
      ]
     },
     "execution_count": 80,
     "metadata": {},
     "output_type": "execute_result"
    }
   ],
   "source": [
    "MST2= matrix([[0, -1], [7*e^4*sin(2), -e^(-4)*cos(2)]])\n",
    "DST2=det(MST2)\n",
    "DST2.n()==0"
   ]
  },
  {
   "cell_type": "markdown",
   "metadata": {},
   "source": [
    "Per tant, el sistema té una solució ÚNICA doncs té determinat no nul i és la trivial, el que vol dir que les solucions són L.I. Per tant, l'equació tindrà com a mínim ordre 2"
   ]
  },
  {
   "cell_type": "code",
   "execution_count": 81,
   "metadata": {},
   "outputs": [
    {
     "data": {
      "text/plain": [
       "[7*e^(4*t)*sin(2*t), -cos(2*t)*e^(-4*t)]"
      ]
     },
     "execution_count": 81,
     "metadata": {},
     "output_type": "execute_result"
    }
   ],
   "source": [
    "sol2"
   ]
  },
  {
   "cell_type": "code",
   "execution_count": 82,
   "metadata": {},
   "outputs": [
    {
     "data": {
      "text/plain": [
       "[14*cos(2*t)*e^(4*t) + 28*e^(4*t)*sin(2*t),\n",
       " 4*cos(2*t)*e^(-4*t) + 2*e^(-4*t)*sin(2*t)]"
      ]
     },
     "execution_count": 82,
     "metadata": {},
     "output_type": "execute_result"
    }
   ],
   "source": [
    "dsol2= [diff(sol2[i]) for i in [0..1]]; dsol2"
   ]
  },
  {
   "cell_type": "code",
   "execution_count": 83,
   "metadata": {},
   "outputs": [
    {
     "data": {
      "text/plain": [
       "[112*cos(2*t)*e^(4*t) + 84*e^(4*t)*sin(2*t),\n",
       " -12*cos(2*t)*e^(-4*t) - 16*e^(-4*t)*sin(2*t)]"
      ]
     },
     "execution_count": 83,
     "metadata": {},
     "output_type": "execute_result"
    }
   ],
   "source": [
    "d2sol2=  [diff(dsol2[i], t) for i in [0..1]]; d2sol2"
   ]
  },
  {
   "cell_type": "markdown",
   "metadata": {},
   "source": [
    "Suposem que té ordre 2 (pot ser en tingui ordre major).\n",
    "Si en tingués ordre 2, seria de la forma\n",
    "x'' = Ax' + Bx =0\n",
    "Veiem si aquest sistema té solució amb les 3 equacions que tenim"
   ]
  },
  {
   "cell_type": "code",
   "execution_count": 84,
   "metadata": {},
   "outputs": [
    {
     "data": {
      "text/plain": [
       "[[A2 == 8*(cos(2*t)^2 - sin(2*t)^2)/(cos(2*t)^2 + 4*cos(2*t)*sin(2*t) + sin(2*t)^2), B2 == 4*(11*cos(2*t)^2 + 20*cos(2*t)*sin(2*t) + 11*sin(2*t)^2)/(cos(2*t)^2 + 4*cos(2*t)*sin(2*t) + sin(2*t)^2)]]"
      ]
     },
     "execution_count": 84,
     "metadata": {},
     "output_type": "execute_result"
    }
   ],
   "source": [
    "var(\"A2, B2\")\n",
    "STT2=[(d2sol2[i]==A2*dsol2[i]+B2*sol2[i]) for i in [0..1]]\n",
    "solve(STT2, A2, B2)"
   ]
  },
  {
   "cell_type": "markdown",
   "metadata": {},
   "source": [
    "No ens troba una expresió amb coeficients constants, per tant no pot tenir ordre 2 -si volem coeficients constants). Això ho podiem saber observant les derivades doncs hi ha termes que no podem cancel·lar-se linealment. Veiem que no es pot, en cas de poder-se:\n"
   ]
  },
  {
   "cell_type": "code",
   "execution_count": 85,
   "metadata": {
    "scrolled": true
   },
   "outputs": [
    {
     "data": {
      "text/plain": [
       "112*cos(2*t)*e^(4*t) + 84*e^(4*t)*sin(2*t) == 7*B*e^(4*t)*sin(2*t) + 14*(cos(2*t)*e^(4*t) + 2*e^(4*t)*sin(2*t))*A"
      ]
     },
     "execution_count": 85,
     "metadata": {},
     "output_type": "execute_result"
    }
   ],
   "source": [
    "var(\"A, B\")\n",
    "112*cos(2*t)*e^(4*t) + 84*e^(4*t)*sin(2*t) == A*(14*cos(2*t)*e^(4*t) + 28*e^(4*t)*sin(2*t)) + B*(7*e^(4*t)*sin(2*t)) "
   ]
  },
  {
   "cell_type": "markdown",
   "metadata": {},
   "source": [
    "D'on deduim que necessàriament: (si volem coeficiens constants i sabent que cos(2t) i sin(2t) són L.I\n",
    "Si fossin solució x4 i x5, en el següent sistema hauriem d'obtenir les mateixens solucions "
   ]
  },
  {
   "cell_type": "markdown",
   "metadata": {},
   "source": [
    "Probem un altre mètode, com que tenim 2 equacions, posem matrius 2x2\n",
    "De forma que X(t):=(x4, x5)\n",
    "i volem trobar una EDO de la forma"
   ]
  },
  {
   "cell_type": "markdown",
   "metadata": {},
   "source": [
    "$X''=AX'+BX$"
   ]
  },
  {
   "cell_type": "markdown",
   "metadata": {},
   "source": [
    "Amb $A, B \\in M_2(\\mathbb{R})$"
   ]
  },
  {
   "cell_type": "code",
   "execution_count": 86,
   "metadata": {},
   "outputs": [],
   "source": [
    "var(\"a11, a12,a21,a22, b11,b12,b21,b22\")\n",
    "A= matrix([[a11, a12], [a21, a22]])\n",
    "B=matrix([[b11, b12], [b21, b22]])\n",
    "sol3=vector([x4, x5]);\n",
    "dsol3=diff(sol3, t)\n",
    "d2sol3= diff(dsol3, t)\n",
    "ST3= [d2sol3[0]==(A*dsol3)[0]+(B*sol3)[0], d2sol3[1]==(A*dsol3)[1]+(B*sol3)[1]]"
   ]
  },
  {
   "cell_type": "code",
   "execution_count": 87,
   "metadata": {
    "scrolled": true
   },
   "outputs": [
    {
     "data": {
      "text/plain": [
       "[[a11 == r10, a12 == r12, a21 == r15, a22 == r14, b11 == r13, b12 == (2*(7*(r10 - 8)*e^(8*t) + 2*r12)*cos(2*t) + (7*(4*r10 + r13 - 12)*e^(8*t) + 2*r12)*sin(2*t))/cos(2*t), b21 == r11, b22 == (2*(7*r15*e^(8*t) + 2*r14 + 6)*cos(2*t) + (7*(r11 + 4*r15)*e^(8*t) + 2*r14 + 16)*sin(2*t))/cos(2*t)]]"
      ]
     },
     "execution_count": 87,
     "metadata": {},
     "output_type": "execute_result"
    }
   ],
   "source": [
    "ST3sols= solve([d2sol3[0]==(A*dsol3)[0]+(B*sol3)[0], d2sol3[1]==(A*dsol3)[1]+(B*sol3)[1]], a11, a12,a21,a22,b11,b12,b21,b22)\n",
    "ST3sols"
   ]
  },
  {
   "cell_type": "markdown",
   "metadata": {},
   "source": [
    "Volem que NO depengui del temps, per tant podem fixar les variables lliures r4, r5, r6, r7,r8,r9 per que b12 i b22 no depenguin de t"
   ]
  },
  {
   "cell_type": "code",
   "execution_count": 88,
   "metadata": {},
   "outputs": [
    {
     "data": {
      "text/html": [
       "<html><script type=\"math/tex; mode=display\">\\newcommand{\\Bold}[1]{\\mathbf{#1}}b_{12} = \\frac{2 \\, {\\left(7 \\, {\\left(a_{11} - 8\\right)} e^{\\left(8 \\, t\\right)} + 2 \\, a_{12}\\right)} \\cos\\left(2 \\, t\\right) + {\\left(7 \\, {\\left(4 \\, a_{11} + b_{11} - 12\\right)} e^{\\left(8 \\, t\\right)} + 2 \\, a_{12}\\right)} \\sin\\left(2 \\, t\\right)}{\\cos\\left(2 \\, t\\right)}</script></html>"
      ],
      "text/plain": [
       "b12 == (2*(7*(a11 - 8)*e^(8*t) + 2*a12)*cos(2*t) + (7*(4*a11 + b11 - 12)*e^(8*t) + 2*a12)*sin(2*t))/cos(2*t)"
      ]
     },
     "metadata": {},
     "output_type": "display_data"
    }
   ],
   "source": [
    "(b12 == (2*(7*(a11 - 8)*e^(8*t) + 2*a12)*cos(2*t) + (7*(4*a11 + b11 - 12)*e^(8*t) + 2*a12)*sin(2*t))/cos(2*t)).show()"
   ]
  },
  {
   "cell_type": "markdown",
   "metadata": {},
   "source": [
    "Per tal que NO depengui del temps, cal fixar a11=8, a12=0, b11= 12-4a11=-20"
   ]
  },
  {
   "cell_type": "code",
   "execution_count": 89,
   "metadata": {},
   "outputs": [],
   "source": [
    "a11=8\n",
    "a12=0\n",
    "b11=-20"
   ]
  },
  {
   "cell_type": "code",
   "execution_count": 90,
   "metadata": {},
   "outputs": [
    {
     "data": {
      "text/plain": [
       "b12 == 0"
      ]
     },
     "execution_count": 90,
     "metadata": {},
     "output_type": "execute_result"
    }
   ],
   "source": [
    "(b12 == (2*(7*(a11 - 8)*e^(8*t) + 2*a12)*cos(2*t) + (7*(4*a11 + b11 - 12)*e^(8*t) + 2*a12)*sin(2*t))/cos(2*t))"
   ]
  },
  {
   "cell_type": "code",
   "execution_count": 91,
   "metadata": {},
   "outputs": [],
   "source": [
    "b12=0"
   ]
  },
  {
   "cell_type": "markdown",
   "metadata": {},
   "source": [
    "Fem el mateix amb l'altre terme que depèn de t"
   ]
  },
  {
   "cell_type": "code",
   "execution_count": 92,
   "metadata": {},
   "outputs": [
    {
     "data": {
      "text/html": [
       "<html><script type=\"math/tex; mode=display\">\\newcommand{\\Bold}[1]{\\mathbf{#1}}b_{22} = \\frac{2 \\, {\\left(7 \\, a_{21} e^{\\left(8 \\, t\\right)} + 2 \\, a_{22} + 6\\right)} \\cos\\left(2 \\, t\\right) + {\\left(7 \\, {\\left(4 \\, a_{21} + b_{21}\\right)} e^{\\left(8 \\, t\\right)} + 2 \\, a_{22} + 16\\right)} \\sin\\left(2 \\, t\\right)}{\\cos\\left(2 \\, t\\right)}</script></html>"
      ],
      "text/plain": [
       "b22 == (2*(7*a21*e^(8*t) + 2*a22 + 6)*cos(2*t) + (7*(4*a21 + b21)*e^(8*t) + 2*a22 + 16)*sin(2*t))/cos(2*t)"
      ]
     },
     "metadata": {},
     "output_type": "display_data"
    }
   ],
   "source": [
    "(b22 == (2*(7*a21*e^(8*t) + 2*a22 + 6)*cos(2*t) + (7*(b21 + 4*a21)*e^(8*t) + 2*a22 + 16)*sin(2*t))/cos(2*t)).show()"
   ]
  },
  {
   "cell_type": "markdown",
   "metadata": {},
   "source": [
    " Necesitem que $7a21e^{8t} + 2a22 + 6 =0$ i $7(a21+b21)e^{8t}+2a22+16=0$, per tant"
   ]
  },
  {
   "cell_type": "markdown",
   "metadata": {},
   "source": [
    "Pel primer sumand:"
   ]
  },
  {
   "cell_type": "code",
   "execution_count": 93,
   "metadata": {},
   "outputs": [],
   "source": [
    "a21=0                  # Cal anular el e^(8t)\n",
    "b21=0                  # DOncs 4a21+B21=0 "
   ]
  },
  {
   "cell_type": "markdown",
   "metadata": {},
   "source": [
    "Ara notem que el cos(2t) del primer sumand s'anula amb el denominador però no ho fa el seno de la dreta, per tal cal trobar a22 per tal d'anular aquest. Això serà:"
   ]
  },
  {
   "cell_type": "code",
   "execution_count": 94,
   "metadata": {},
   "outputs": [
    {
     "data": {
      "text/plain": [
       "-20"
      ]
     },
     "execution_count": 94,
     "metadata": {},
     "output_type": "execute_result"
    }
   ],
   "source": [
    "a22=-8\n",
    "b22= (2*(7*a21*e^(8*t) + 2*a22 + 6)*cos(2*t) + (7*(b21 + 4*a21)*e^(8*t) + 2*a22 + 16)*sin(2*t))/cos(2*t)\n",
    "b22"
   ]
  },
  {
   "cell_type": "code",
   "execution_count": 95,
   "metadata": {},
   "outputs": [],
   "source": [
    "A= matrix([[a11, a12], [a21, a22]])\n",
    "B=matrix([[b11, b12], [b21, b22]])"
   ]
  },
  {
   "cell_type": "code",
   "execution_count": 96,
   "metadata": {},
   "outputs": [
    {
     "data": {
      "text/plain": [
       "[ 8  0]\n",
       "[ 0 -8]"
      ]
     },
     "execution_count": 96,
     "metadata": {},
     "output_type": "execute_result"
    }
   ],
   "source": [
    "A"
   ]
  },
  {
   "cell_type": "code",
   "execution_count": 97,
   "metadata": {},
   "outputs": [
    {
     "data": {
      "text/plain": [
       "[-20   0]\n",
       "[  0 -20]"
      ]
     },
     "execution_count": 97,
     "metadata": {},
     "output_type": "execute_result"
    }
   ],
   "source": [
    "B"
   ]
  },
  {
   "cell_type": "markdown",
   "metadata": {},
   "source": [
    "Tenim que el sistema d'equacions diferencials que té (x,y)=(x4, x5) per solucions és\n",
    "\n"
   ]
  },
  {
   "cell_type": "markdown",
   "metadata": {},
   "source": [
    "$x''=8x'-20x$"
   ]
  },
  {
   "cell_type": "markdown",
   "metadata": {},
   "source": [
    "$y''=-8y'-20y$"
   ]
  },
  {
   "cell_type": "markdown",
   "metadata": {},
   "source": [
    "Observem però que x4 és solució del primer i x5 del segon per construcció, però x4 no és solució del segon i x5 no ho és del primer, veiem-ho"
   ]
  },
  {
   "cell_type": "code",
   "execution_count": 98,
   "metadata": {
    "scrolled": true
   },
   "outputs": [
    {
     "data": {
      "text/plain": [
       "(52*cos(2*t)*e^(-4*t) + 16*e^(-4*t)*sin(2*t), -112*cos(2*t)*e^(4*t) - 364*e^(4*t)*sin(2*t))"
      ]
     },
     "execution_count": 98,
     "metadata": {},
     "output_type": "execute_result"
    }
   ],
   "source": [
    "sol4=vector ([x5, x4])\n",
    "dsol4=diff(sol4, t)\n",
    "d2sol4= diff(dsol4, t)\n",
    "\n",
    "(A*dsol4)+(B*sol4) "
   ]
  },
  {
   "cell_type": "code",
   "execution_count": 99,
   "metadata": {},
   "outputs": [
    {
     "data": {
      "text/plain": [
       "(-12*cos(2*t)*e^(-4*t) - 16*e^(-4*t)*sin(2*t), 112*cos(2*t)*e^(4*t) + 84*e^(4*t)*sin(2*t))"
      ]
     },
     "execution_count": 99,
     "metadata": {},
     "output_type": "execute_result"
    }
   ],
   "source": [
    "d2sol4"
   ]
  },
  {
   "cell_type": "markdown",
   "metadata": {},
   "source": [
    "En efecte NO coincideixen per tant no podem tenir una solució d'ordre 2"
   ]
  },
  {
   "cell_type": "markdown",
   "metadata": {},
   "source": [
    "#### Veiem si funciona amb una d'ordre superior"
   ]
  },
  {
   "cell_type": "markdown",
   "metadata": {},
   "source": [
    "Probem amb ordre 3, serà de la forma  $x''' = Ax'' + Bx' + Cx$"
   ]
  },
  {
   "cell_type": "code",
   "execution_count": 100,
   "metadata": {},
   "outputs": [],
   "source": [
    "d3sol2=  [diff(d2sol2[i], t) for i in [0..1]]; d3sol2\n",
    "var(\"A21, B21, C21\")\n",
    "STT21=[(d3sol2[i]==A21*d2sol2[i]+B21*dsol2[i]+C21*sol2[i]) for i in [0..1]]\n",
    "solSTT21=solve(STT21, A21, B21, C21)"
   ]
  },
  {
   "cell_type": "code",
   "execution_count": 101,
   "metadata": {
    "scrolled": true
   },
   "outputs": [
    {
     "data": {
      "text/plain": [
       "A21 == -1/8*((r16 - 44)*cos(2*t)^2 + 4*(r16 - 4)*cos(2*t)*sin(2*t) + (r16 - 44)*sin(2*t)^2)/(cos(2*t)^2 - sin(2*t)^2)"
      ]
     },
     "execution_count": 101,
     "metadata": {},
     "output_type": "execute_result"
    }
   ],
   "source": [
    "solSTT21[0][0]"
   ]
  },
  {
   "cell_type": "code",
   "execution_count": 102,
   "metadata": {},
   "outputs": [
    {
     "data": {
      "text/plain": [
       "B21 == r16"
      ]
     },
     "execution_count": 102,
     "metadata": {},
     "output_type": "execute_result"
    }
   ],
   "source": [
    "solSTT21[0][1]"
   ]
  },
  {
   "cell_type": "code",
   "execution_count": 103,
   "metadata": {},
   "outputs": [
    {
     "data": {
      "text/html": [
       "<html><script type=\"math/tex; mode=display\">\\newcommand{\\Bold}[1]{\\mathbf{#1}}A_{21} = -\\frac{{\\left(r_{16} - 44\\right)} \\cos\\left(2 \\, t\\right)^{2} + 4 \\, {\\left(r_{16} - 4\\right)} \\cos\\left(2 \\, t\\right) \\sin\\left(2 \\, t\\right) + {\\left(r_{16} - 44\\right)} \\sin\\left(2 \\, t\\right)^{2}}{8 \\, {\\left(\\cos\\left(2 \\, t\\right)^{2} - \\sin\\left(2 \\, t\\right)^{2}\\right)}}</script></html>"
      ],
      "text/plain": [
       "A21 == -1/8*((r16 - 44)*cos(2*t)^2 + 4*(r16 - 4)*cos(2*t)*sin(2*t) + (r16 - 44)*sin(2*t)^2)/(cos(2*t)^2 - sin(2*t)^2)"
      ]
     },
     "metadata": {},
     "output_type": "display_data"
    }
   ],
   "source": [
    "solSTT21[0][0].show()"
   ]
  },
  {
   "cell_type": "markdown",
   "metadata": {},
   "source": [
    "Podem simplificar-la"
   ]
  },
  {
   "cell_type": "code",
   "execution_count": 104,
   "metadata": {},
   "outputs": [],
   "source": [
    "A21= -1/8*((B21 - 44) + 2*(B21 - 4)*sin(4*t))/(cos(4*t))"
   ]
  },
  {
   "cell_type": "code",
   "execution_count": 105,
   "metadata": {
    "scrolled": true
   },
   "outputs": [
    {
     "data": {
      "text/html": [
       "<html><script type=\"math/tex; mode=display\">\\newcommand{\\Bold}[1]{\\mathbf{#1}}-\\frac{2 \\, {\\left(B_{21} - 4\\right)} \\sin\\left(4 \\, t\\right) + B_{21} - 44}{8 \\, \\cos\\left(4 \\, t\\right)}</script></html>"
      ],
      "text/plain": [
       "-1/8*(2*(B21 - 4)*sin(4*t) + B21 - 44)/cos(4*t)"
      ]
     },
     "metadata": {},
     "output_type": "display_data"
    }
   ],
   "source": [
    "A21.show()"
   ]
  },
  {
   "cell_type": "markdown",
   "metadata": {},
   "source": [
    "Aquesta solució SEMPRE dependrà del temps doncs si B21= 4, ens queda depenent al denominador i si B21=44, ens queda $-\\frac{1}{4}\\tan(4t)$, Per tant sempre depèn del temps"
   ]
  },
  {
   "cell_type": "markdown",
   "metadata": {},
   "source": [
    "Ens continua depenent del temps, per tant NO podem tenir cap solució d'ordre  3"
   ]
  },
  {
   "cell_type": "markdown",
   "metadata": {},
   "source": [
    "### Provem amb ordre 4"
   ]
  },
  {
   "cell_type": "code",
   "execution_count": 106,
   "metadata": {},
   "outputs": [
    {
     "data": {
      "text/plain": [
       "[[a == r17, b == -1/8*((44*r17 + r18 - 192)*cos(2*t)^2 + 4*(4*r17 + r18)*cos(2*t)*sin(2*t) + (44*r17 + r18 + 192)*sin(2*t)^2)/(cos(2*t)^2 - sin(2*t)^2), c == r18, d == 1/2*((164*r17 + 11*r18 - 800)*cos(2*t)^2 + 20*(20*r17 + r18)*cos(2*t)*sin(2*t) + (164*r17 + 11*r18 + 800)*sin(2*t)^2)/(cos(2*t)^2 - sin(2*t)^2)]]"
      ]
     },
     "execution_count": 106,
     "metadata": {},
     "output_type": "execute_result"
    }
   ],
   "source": [
    "sol6=[x4, x5]\n",
    "dsol6= [diff(sol6[i], t) for i in [0..1]]\n",
    "d2sol6= [diff(dsol6[i], t) for i in [0..1]]\n",
    "d3sol6= [diff(d2sol6[i], t) for i in [0..1]]\n",
    "d4sol6= [diff(d3sol6[i], t) for i in [0..1]]\n",
    "var(\"a,b,c,d\")\n",
    "ST= [(d4sol6[i]==a*d3sol6[i]+b*d2sol6[i]+c*dsol6[i]+d*sol6[i]) for i in [0..1]]\n",
    "solST=solve(ST, a, b, c, d); solST"
   ]
  },
  {
   "cell_type": "markdown",
   "metadata": {},
   "source": [
    "Trobem les constants per tal que NO depengui del temps"
   ]
  },
  {
   "cell_type": "code",
   "execution_count": 107,
   "metadata": {},
   "outputs": [
    {
     "data": {
      "text/plain": [
       "24"
      ]
     },
     "execution_count": 107,
     "metadata": {},
     "output_type": "execute_result"
    }
   ],
   "source": [
    "r75=0\n",
    "r76=0\n",
    "b = -1/8*((44*r75 + r76 - 192)*cos(2*t)^2 + 4*(4*r75 + r76)*cos(2*t)*sin(2*t) + (44*r75 + r76 + 192)*sin(2*t)^2)/(cos(2*t)^2 - sin(2*t)^2)\n",
    "b"
   ]
  },
  {
   "cell_type": "code",
   "execution_count": 108,
   "metadata": {},
   "outputs": [
    {
     "data": {
      "text/plain": [
       "-400"
      ]
     },
     "execution_count": 108,
     "metadata": {},
     "output_type": "execute_result"
    }
   ],
   "source": [
    "d=  1/2*((164*r75 + 11*r76 - 800)*cos(2*t)^2 + 20*(20*r75 + r76)*cos(2*t)*sin(2*t) + (164*r75 + 11*r76 + 800)*sin(2*t)^2)/(cos(2*t)^2 - sin(2*t)^2)\n",
    "d"
   ]
  },
  {
   "cell_type": "markdown",
   "metadata": {},
   "source": [
    "Comprovem que aquesta és solució"
   ]
  },
  {
   "cell_type": "code",
   "execution_count": 109,
   "metadata": {},
   "outputs": [
    {
     "data": {
      "text/plain": [
       "0"
      ]
     },
     "execution_count": 109,
     "metadata": {},
     "output_type": "execute_result"
    }
   ],
   "source": [
    "diff(x4, t, 4)-24*diff(x4, t, 2)+400*x4"
   ]
  },
  {
   "cell_type": "code",
   "execution_count": 110,
   "metadata": {},
   "outputs": [
    {
     "data": {
      "text/plain": [
       "0"
      ]
     },
     "execution_count": 110,
     "metadata": {},
     "output_type": "execute_result"
    }
   ],
   "source": [
    "diff(x5, t, 4)-24*diff(x5, t, 2)+400*x5"
   ]
  },
  {
   "cell_type": "markdown",
   "metadata": {},
   "source": [
    "Per tant màxim té ordre 4 i em vist que té mínim 4 per tant la de ordre mínim serà d'ordre 4, aquesta serà: "
   ]
  },
  {
   "cell_type": "markdown",
   "metadata": {},
   "source": [
    "$x^{(4)}=24x^{(2)}-400x$"
   ]
  },
  {
   "cell_type": "code",
   "execution_count": null,
   "metadata": {},
   "outputs": [],
   "source": []
  },
  {
   "cell_type": "code",
   "execution_count": null,
   "metadata": {},
   "outputs": [],
   "source": []
  },
  {
   "cell_type": "markdown",
   "metadata": {},
   "source": [
    "## Apartat (c)"
   ]
  },
  {
   "cell_type": "markdown",
   "metadata": {},
   "source": [
    "Ara volem que x4 sigui solució de la equació NO homogènia que té com a solució de la homogenia $x_1$, $x_2$, $x_3$, i.e, per l'apartat (a), serà de la forma de la forma:"
   ]
  },
  {
   "cell_type": "markdown",
   "metadata": {},
   "source": [
    "\n",
    "$x^{(3)} - 12x^{(2)} + 41 x^{(1)} - 42 x==f(t)$         (1)"
   ]
  },
  {
   "cell_type": "markdown",
   "metadata": {},
   "source": [
    "Trobem f(t)"
   ]
  },
  {
   "cell_type": "markdown",
   "metadata": {},
   "source": [
    "Sabem que x4 és solució de la equació (1), per tant"
   ]
  },
  {
   "cell_type": "code",
   "execution_count": 160,
   "metadata": {},
   "outputs": [
    {
     "data": {
      "text/plain": [
       "-154*cos(2*t)*e^(4*t) - 42*e^(4*t)*sin(2*t)"
      ]
     },
     "execution_count": 160,
     "metadata": {},
     "output_type": "execute_result"
    }
   ],
   "source": [
    "f=function(\"f\")(t)\n",
    "f=diff(x4, t, 3)-12*diff(x4, t, 2)+41*diff(x4, t, 1)-42*x4\n",
    "f"
   ]
  },
  {
   "cell_type": "markdown",
   "metadata": {},
   "source": [
    "Podem simplificar la expressió"
   ]
  },
  {
   "cell_type": "code",
   "execution_count": 161,
   "metadata": {
    "scrolled": true
   },
   "outputs": [],
   "source": [
    "f= -7*e^(4*t)*(22*cos(2*t)+6*sin(2*t))"
   ]
  },
  {
   "cell_type": "markdown",
   "metadata": {},
   "source": [
    "Així, definim la equació diferencial no homogènia d'ordre mínim (3, pel mateix argument que abans) com:"
   ]
  },
  {
   "cell_type": "markdown",
   "metadata": {},
   "source": [
    "$f(t)= -7e^{4t}(22cos(2t)+6sin(2t))$"
   ]
  },
  {
   "cell_type": "markdown",
   "metadata": {},
   "source": [
    "$x^{(3)} - 12x^{(2)} + 41 x^{(1)} - 42 x -f(t)$ ==0"
   ]
  },
  {
   "cell_type": "markdown",
   "metadata": {},
   "source": [
    "es a dir:"
   ]
  },
  {
   "cell_type": "markdown",
   "metadata": {},
   "source": [
    "$x^{(3)} - 12x^{(2)} + 41 x^{(1)} - 42 x + 7e^{4t}(22cos(2t)+5sin(2t))$ ==0"
   ]
  },
  {
   "cell_type": "markdown",
   "metadata": {},
   "source": [
    "Comprovem que $x_1$, $x_2$, $x_3$ són solucions de la homogènia i $x_4$ de la no homogènia"
   ]
  },
  {
   "cell_type": "code",
   "execution_count": 162,
   "metadata": {},
   "outputs": [],
   "source": [
    "R2= [(d3sol1[i]-12*d2sol1[i]+41*dsol1[i]-42*sol1[i]) for i in [0..2]]\n",
    "R2.append(diff(x4, t, 3)-12*diff(x4, t, 2)+41*diff(x4, t, 1)-42*x4-f)"
   ]
  },
  {
   "cell_type": "code",
   "execution_count": 163,
   "metadata": {},
   "outputs": [
    {
     "data": {
      "text/plain": [
       "[0,\n",
       " 0,\n",
       " 0,\n",
       " 14*(11*cos(2*t) + 3*sin(2*t))*e^(4*t) - 154*cos(2*t)*e^(4*t) - 42*e^(4*t)*sin(2*t)]"
      ]
     },
     "execution_count": 163,
     "metadata": {},
     "output_type": "execute_result"
    }
   ],
   "source": [
    "R2"
   ]
  },
  {
   "cell_type": "markdown",
   "metadata": {},
   "source": [
    "Cal veure que la última expressió és també zero pero el sage no ho simplifica, però podem verificar que són igual"
   ]
  },
  {
   "cell_type": "code",
   "execution_count": 166,
   "metadata": {},
   "outputs": [
    {
     "data": {
      "text/plain": [
       "0"
      ]
     },
     "execution_count": 166,
     "metadata": {},
     "output_type": "execute_result"
    }
   ],
   "source": [
    "(14*(11*cos(2*t) + 3*sin(2*t))*e^(4*t) - 154*cos(2*t)*e^(4*t) - 42*e^(4*t)*sin(2*t)).expand().canonicalize_radical().full_simplify()"
   ]
  },
  {
   "cell_type": "markdown",
   "metadata": {},
   "source": [
    "En efecte, ambdues funcions són igual i per tant la equació diferencial lineal no homogènia"
   ]
  },
  {
   "cell_type": "markdown",
   "metadata": {},
   "source": [
    " $x^{(3)} - 12x^{(2)} + 41 x^{(1)} - 42 x + 7e^{4t}(22\\cos(2t) + 6\\sin(2t))$ ==0 "
   ]
  },
  {
   "cell_type": "markdown",
   "metadata": {},
   "source": [
    "té $x_1$, $x_2$, $x_3$ són solucions de la homogènia i $x_4$ de la no homogènia"
   ]
  },
  {
   "cell_type": "code",
   "execution_count": null,
   "metadata": {},
   "outputs": [],
   "source": []
  },
  {
   "cell_type": "code",
   "execution_count": null,
   "metadata": {},
   "outputs": [],
   "source": []
  },
  {
   "cell_type": "code",
   "execution_count": null,
   "metadata": {},
   "outputs": [],
   "source": []
  },
  {
   "cell_type": "code",
   "execution_count": null,
   "metadata": {},
   "outputs": [],
   "source": []
  },
  {
   "cell_type": "code",
   "execution_count": null,
   "metadata": {},
   "outputs": [],
   "source": []
  },
  {
   "cell_type": "code",
   "execution_count": null,
   "metadata": {},
   "outputs": [],
   "source": []
  },
  {
   "cell_type": "code",
   "execution_count": null,
   "metadata": {},
   "outputs": [],
   "source": []
  },
  {
   "cell_type": "code",
   "execution_count": null,
   "metadata": {},
   "outputs": [],
   "source": []
  },
  {
   "cell_type": "code",
   "execution_count": null,
   "metadata": {},
   "outputs": [],
   "source": []
  },
  {
   "cell_type": "markdown",
   "metadata": {},
   "source": [
    "### Apartat (D)"
   ]
  },
  {
   "cell_type": "markdown",
   "metadata": {},
   "source": [
    "Com per l'apartat (b) coneixem les condicions que s'ha de cumplir per trobar la edo d'odre mínim (d'ordre 4), trobem les condicions per trobar l'ordre de la edo homogènia que tingui per solució x6, x7"
   ]
  },
  {
   "cell_type": "markdown",
   "metadata": {},
   "source": [
    "Veiem quantes derivades necessitem per poder fer una combinació lineal que anul·li els termes"
   ]
  },
  {
   "cell_type": "markdown",
   "metadata": {},
   "source": [
    "Estudiem primer x6"
   ]
  },
  {
   "cell_type": "code",
   "execution_count": 152,
   "metadata": {},
   "outputs": [
    {
     "data": {
      "text/plain": [
       "4*t^2*e^(3*t)*sin(4*t)"
      ]
     },
     "execution_count": 152,
     "metadata": {},
     "output_type": "execute_result"
    }
   ],
   "source": [
    "x6"
   ]
  },
  {
   "cell_type": "markdown",
   "metadata": {},
   "source": [
    "Com que té el polinomi $t^2$ -necessitem 2 derivades  per anular el polinomi i la tercera per tenir el sinus (no calen més per què $e^{3t}$, $\\sin(4t)$, $\\cos(4t)$ tenen derivades cícliques)"
   ]
  },
  {
   "cell_type": "code",
   "execution_count": 155,
   "metadata": {},
   "outputs": [
    {
     "data": {
      "text/plain": [
       "5*t^4*e^(3*t)*sin(4*t)"
      ]
     },
     "execution_count": 155,
     "metadata": {},
     "output_type": "execute_result"
    }
   ],
   "source": [
    "x7"
   ]
  },
  {
   "cell_type": "markdown",
   "metadata": {},
   "source": [
    "Pel mateix argument que x6, necessitem mínim 5 derivades per tenir tots els termes que apareixen a la regla de la cadena"
   ]
  },
  {
   "cell_type": "markdown",
   "metadata": {},
   "source": [
    "Per tant la equació diferencial d'ordre mínim en coeficients constants que té per solució de la homogènia x6, x7 té mínim ordre 10 (doncs necesitem treballar amb 8 derivades)"
   ]
  },
  {
   "cell_type": "markdown",
   "metadata": {},
   "source": [
    "Veiem si hi ha alguna EDO d'ordre 10 que tingui com a solució"
   ]
  },
  {
   "cell_type": "code",
   "execution_count": 156,
   "metadata": {},
   "outputs": [
    {
     "data": {
      "text/plain": [
       "[[a0 == -9765625, a1 == 11718750, a2 == -7578125, a3 == 3225000, a4 == -993250, a5 == 228276, a6 == -39730, a7 == 5160, a8 == -485, a9 == 30]]"
      ]
     },
     "execution_count": 156,
     "metadata": {},
     "output_type": "execute_result"
    }
   ],
   "source": [
    "sol5=[x6,diff(x6, t), diff(x6, t,2),diff(x6, t,3) ,x7, diff(x7, t), diff(x7, t,2),diff(x7, t,3), diff(x7, t,4),diff(x7, t,5)]; \n",
    "n=9\n",
    "dsol5=[diff(sol5[i], t) for i in [0..n]]\n",
    "d2sol5=[diff(dsol5[i], t) for i in [0..n]]\n",
    "d3sol5=[diff(d2sol5[i], t) for i in [0..n]]\n",
    "d4sol5=[diff(d3sol5[i], t) for i in [0..n]]\n",
    "d5sol5=[diff(d4sol5[i], t) for i in [0..n]]\n",
    "d6sol5=[diff(d5sol5[i], t) for i in [0..n]]\n",
    "\n",
    "d7sol5=[diff(d6sol5[i], t) for i in [0..n]]\n",
    "d8sol5=[diff(d7sol5[i], t) for i in [0..n]]\n",
    "d9sol5=[diff(d8sol5[i], t) for i in [0..n]]\n",
    "d10sol5=[diff(d9sol5[i], t) for i in [0..n]]\n",
    "\n",
    "\n",
    "var(\"a0, a1, a2,a3, a4, a5, a6, a7, a8, a9\")\n",
    "\n",
    "ST= [(d10sol5[i]==a9*d9sol5[i]+a8*d8sol5[i]+a7*d7sol5[i]+a6*d6sol5[i]+a5*d5sol5[i]+a4*d4sol5[i]+a3*d3sol5[i]+a2*d2sol5[i]+a1*dsol5[i]+a0*sol5[i]) for i in [0..n]]\n",
    "solST=solve(ST,a0, a1,a2,a3, a4,a5, a6, a7, a8, a9); solST"
   ]
  },
  {
   "cell_type": "code",
   "execution_count": 157,
   "metadata": {},
   "outputs": [
    {
     "data": {
      "text/plain": [
       "[[a0 == (16*(2*(398412*r27 + 16124*r28 - 9009*r29 - 2337*r30 - 210*r31 + 22*r32 + 9*r33 + r34 - 2152205)*t^4 + 5*(145116*r27 - 72072*r28 - 16359*r29 - 1260*r30 + 110*r31 + 36*r32 + 3*r33 - 3984120)*t^3 - 48*(54054*r27 + 10906*r28 + 735*r29 - 55*r30 - 15*r31 - r32 + 120930)*t^2 - 12*(98154*r27 + 5880*r28 - 385*r29 - 90*r30 - 5*r31 - 540540)*t)*cos(4*t)^2 + 4*(2*(1721764*r27 + 309876*r28 + 12093*r29 - 6435*r30 - 1558*r31 - 126*r32 + 11*r33 + 3*r34 - 1661607)*t^4 + 5*(3187296*r27 + 112868*r28 - 54054*r29 - 11685*r30 - 840*r31 + 66*r32 + 18*r33 + r34 - 19369845)*t^3 + 4*(1306044*r27 - 576576*r28 - 114513*r29 - 7560*r30 + 550*r31 + 144*r32 + 9*r33 - 39841200)*t^2 - 12*(756756*r27 + 141778*r28 + 8820*r29 - 605*r30 - 150*r31 - 9*r32 + 1813950)*t - 2355696*r27 - 141120*r28 + 9240*r29 + 2160*r30 + 120*r31 + 12972960)*cos(4*t)*sin(4*t) + ((5372568*r27 + 1669799*r28 + 170370*r29 - 16019*r30 - 7668*r31 - 877*r32 + 54*r33 + 25*r34 + 18009023)*t^4 + 15*(2751948*r27 + 329084*r28 - 4977*r29 - 7905*r30 - 1170*r31 - 42*r32 + 9*r33 + r34 - 7417485)*t^3 + 4*(14389164*r27 + 538720*r28 - 175959*r29 - 36870*r30 - 2970*r31 + 24*r32 + 27*r33 + 2*r34 - 97393410)*t^2 + 12*(1884918*r27 - 137214*r28 - 49175*r29 - 4995*r30 - 95*r31 + 27*r32 + 2*r33 - 25750710)*t - 716688*r27 - 885360*r28 - 98280*r29 - 2520*r30 + 360*r31 + 24*r32 - 59235120)*sin(4*t)^2)/(t^4*sin(4*t)^2), a1 == -(4*(2*(398412*r27 + 16124*r28 - 9009*r29 - 2337*r30 - 210*r31 + 22*r32 + 9*r33 + r34 - 2152205)*t^3 + 5*(145116*r27 - 72072*r28 - 16359*r29 - 1260*r30 + 110*r31 + 36*r32 + 3*r33 - 3984120)*t^2 - 48*(54054*r27 + 10906*r28 + 735*r29 - 55*r30 - 15*r31 - r32 + 120930)*t - 1177848*r27 - 70560*r28 + 4620*r29 + 1080*r30 + 60*r31 + 6486480)*cos(4*t) + ((1483497*r27 + 611544*r28 + 82271*r29 - 1422*r30 - 2635*r31 - 468*r32 - 21*r33 + 6*r34 + 9220770)*t^3 + 5*(2751948*r27 + 329084*r28 - 4977*r29 - 7905*r30 - 1170*r31 - 42*r32 + 9*r33 + r34 - 7417485)*t^2 + 12*(987252*r27 - 13272*r28 - 18445*r29 - 2340*r30 - 70*r31 + 12*r32 + r33 - 9173160)*t - 358344*r27 - 442680*r28 - 49140*r29 - 1260*r30 + 180*r31 + 12*r32 - 29617560)*sin(4*t))/(t^3*sin(4*t)), a2 == r34, a3 == r33, a4 == r32, a5 == r31, a6 == r30, a7 == r29, a8 == r28, a9 == r27]]"
      ]
     },
     "execution_count": 157,
     "metadata": {},
     "output_type": "execute_result"
    }
   ],
   "source": [
    "sol5=[x6,x7]; \n",
    "n=1\n",
    "dsol5=[diff(sol5[i], t) for i in [0..n]]\n",
    "d2sol5=[diff(dsol5[i], t) for i in [0..n]]\n",
    "d3sol5=[diff(d2sol5[i], t) for i in [0..n]]\n",
    "d4sol5=[diff(d3sol5[i], t) for i in [0..n]]\n",
    "d5sol5=[diff(d4sol5[i], t) for i in [0..n]]\n",
    "d6sol5=[diff(d5sol5[i], t) for i in [0..n]]\n",
    "\n",
    "d7sol5=[diff(d6sol5[i], t) for i in [0..n]]\n",
    "d8sol5=[diff(d7sol5[i], t) for i in [0..n]]\n",
    "d9sol5=[diff(d8sol5[i], t) for i in [0..n]]\n",
    "d10sol5=[diff(d9sol5[i], t) for i in [0..n]]\n",
    "\n",
    "\n",
    "var(\"a0, a1, a2,a3, a4, a5, a6, a7, a8, a9\")\n",
    "\n",
    "ST= [(d10sol5[i]==a9*d9sol5[i]+a8*d8sol5[i]+a7*d7sol5[i]+a6*d6sol5[i]+a5*d5sol5[i]+a4*d4sol5[i]+a3*d3sol5[i]+a2*d2sol5[i]+a1*dsol5[i]+a0*sol5[i]) for i in [0..n]]\n",
    "solST=solve(ST,a0, a1,a2,a3, a4,a5, a6, a7, a8, a9); solST"
   ]
  },
  {
   "cell_type": "code",
   "execution_count": 124,
   "metadata": {},
   "outputs": [],
   "source": [
    "r92 = -7578125\n",
    "r91 = 3225000\n",
    "r90= -993250\n",
    "r89= 228276\n",
    "r88 = -39730\n",
    "r87= 5160\n",
    "r86 = -485\n",
    "r85= 30"
   ]
  },
  {
   "cell_type": "code",
   "execution_count": 125,
   "metadata": {},
   "outputs": [
    {
     "data": {
      "text/plain": [
       "-9765625"
      ]
     },
     "execution_count": 125,
     "metadata": {},
     "output_type": "execute_result"
    }
   ],
   "source": [
    "a0=(16*(2*(398412*r85 + 16124*r86 - 9009*r87 - 2337*r88 - 210*r89 + 22*r90 + 9*r91 + r92 - 2152205)*t^4 + 5*(145116*r85 - 72072*r86 - 16359*r87 - 1260*r88 + 110*r89 + 36*r90 + 3*r91 - 3984120)*t^3 - 48*(54054*r85 + 10906*r86 + 735*r87 - 55*r88 - 15*r89 - r90 + 120930)*t^2 - 12*(98154*r85 + 5880*r86 - 385*r87 - 90*r88 - 5*r89 - 540540)*t)*cos(4*t)^2 + 4*(2*(1721764*r85 + 309876*r86 + 12093*r87 - 6435*r88 - 1558*r89 - 126*r90 + 11*r91 + 3*r92 - 1661607)*t^4 + 5*(3187296*r85 + 112868*r86 - 54054*r87 - 11685*r88 - 840*r89 + 66*r90 + 18*r91 + r92 - 19369845)*t^3 + 4*(1306044*r85 - 576576*r86 - 114513*r87 - 7560*r88 + 550*r89 + 144*r90 + 9*r91 - 39841200)*t^2 - 12*(756756*r85 + 141778*r86 + 8820*r87 - 605*r88 - 150*r89 - 9*r90 + 1813950)*t - 2355696*r85 - 141120*r86 + 9240*r87 + 2160*r88 + 120*r89 + 12972960)*cos(4*t)*sin(4*t) + ((5372568*r85 + 1669799*r86 + 170370*r87 - 16019*r88 - 7668*r89 - 877*r90 + 54*r91 + 25*r92 + 18009023)*t^4 + 15*(2751948*r85 + 329084*r86 - 4977*r87 - 7905*r88 - 1170*r89 - 42*r90 + 9*r91 + r92 - 7417485)*t^3 + 4*(14389164*r85 + 538720*r86 - 175959*r87 - 36870*r88 - 2970*r89 + 24*r90 + 27*r91 + 2*r92 - 97393410)*t^2 + 12*(1884918*r85 - 137214*r86 - 49175*r87 - 4995*r88 - 95*r89 + 27*r90 + 2*r91 - 25750710)*t - 716688*r85 - 885360*r86 - 98280*r87 - 2520*r88 + 360*r89 + 24*r90 - 59235120)*sin(4*t)^2)/(t^4*sin(4*t)^2)\n",
    "a0"
   ]
  },
  {
   "cell_type": "code",
   "execution_count": 126,
   "metadata": {},
   "outputs": [
    {
     "data": {
      "text/plain": [
       "11718750"
      ]
     },
     "execution_count": 126,
     "metadata": {},
     "output_type": "execute_result"
    }
   ],
   "source": [
    "a1 = -(4*(2*(398412*r85 + 16124*r86 - 9009*r87 - 2337*r88 - 210*r89 + 22*r90 + 9*r91 + r92 - 2152205)*t^3 + 5*(145116*r85 - 72072*r86 - 16359*r87 - 1260*r88 + 110*r89 + 36*r90 + 3*r91 - 3984120)*t^2 - 48*(54054*r85 + 10906*r86 + 735*r87 - 55*r88 - 15*r89 - r90 + 120930)*t - 1177848*r85 - 70560*r86 + 4620*r87 + 1080*r88 + 60*r89 + 6486480)*cos(4*t) + ((1483497*r85 + 611544*r86 + 82271*r87 - 1422*r88 - 2635*r89 - 468*r90 - 21*r91 + 6*r92 + 9220770)*t^3 + 5*(2751948*r85 + 329084*r86 - 4977*r87 - 7905*r88 - 1170*r89 - 42*r90 + 9*r91 + r92 - 7417485)*t^2 + 12*(987252*r85 - 13272*r86 - 18445*r87 - 2340*r88 - 70*r89 + 12*r90 + r91 - 9173160)*t - 358344*r85 - 442680*r86 - 49140*r87 - 1260*r88 + 180*r89 + 12*r90 - 29617560)*sin(4*t))/(t^3*sin(4*t))\n",
    "a1"
   ]
  },
  {
   "cell_type": "markdown",
   "metadata": {},
   "source": [
    "Coincideix amb la primera"
   ]
  },
  {
   "cell_type": "markdown",
   "metadata": {},
   "source": [
    "Per tant té solució, per tant podem anar a trobar la que té x4, x5,x6, x7 com a solució"
   ]
  },
  {
   "cell_type": "markdown",
   "metadata": {},
   "source": [
    "Com que x4, x5, x6, x7 són L.I i les seves derivades (fins l'ordre que agafem) també, doncs contenen e^{4t}sin(2t) i e^{-4t}cos(3t), e^{3t}sin(4t) i  e^{3t}cos(4t) respectivament, que són L.I (les derivades contindran aquest termes cambiant sinus per cosinus). Per tant, cal imposar les 10 condicions (10 derivades) i la EDO tindrà mínim ordre 14"
   ]
  },
  {
   "cell_type": "markdown",
   "metadata": {},
   "source": [
    "Veiem si existeix alguna amb ordre 14 que tingui x4, x5,x6, x7 "
   ]
  },
  {
   "cell_type": "code",
   "execution_count": 128,
   "metadata": {},
   "outputs": [
    {
     "data": {
      "text/plain": [
       "[[a0 == -3906250000, a1 == 4687500000, a2 == -2796875000, a3 == 1008750000, a4 == -225190625, a5 == 25629150, a6 == 367875, a7 == -189624, a8 == -233730, a9 == 116436, a10 == -28490, a11 == 4440, a12 == -461, a13 == 30]]"
      ]
     },
     "execution_count": 128,
     "metadata": {},
     "output_type": "execute_result"
    }
   ],
   "source": [
    "sol5=[x4, x5, diff(x4, t), diff(x5, t), x6,diff(x6, t), diff(x6, t,2),diff(x6, t,3) ,x7, diff(x7, t), diff(x7, t,2),diff(x7, t,3), diff(x7, t,4),diff(x7, t,5)]; \n",
    "n=13\n",
    "dsol5=[diff(sol5[i], t) for i in [0..n]]\n",
    "d2sol5=[diff(dsol5[i], t) for i in [0..n]]\n",
    "d3sol5=[diff(d2sol5[i], t) for i in [0..n]]\n",
    "d4sol5=[diff(d3sol5[i], t) for i in [0..n]]\n",
    "d5sol5=[diff(d4sol5[i], t) for i in [0..n]]\n",
    "d6sol5=[diff(d5sol5[i], t) for i in [0..n]]\n",
    "\n",
    "d7sol5=[diff(d6sol5[i], t) for i in [0..n]]\n",
    "d8sol5=[diff(d7sol5[i], t) for i in [0..n]]\n",
    "d9sol5=[diff(d8sol5[i], t) for i in [0..n]]\n",
    "d10sol5=[diff(d9sol5[i], t) for i in [0..n]]\n",
    "d11sol5=[diff(d10sol5[i], t) for i in [0..n]]\n",
    "d12sol5=[diff(d11sol5[i], t) for i in [0..n]]\n",
    "d13sol5=[diff(d12sol5[i], t) for i in [0..n]]\n",
    "d14sol5=[diff(d13sol5[i], t) for i in [0..n]]\n",
    "\n",
    "\n",
    "var(\"a0, a1, a2,a3, a4, a5, a6, a7, a8, a9, a10, a11, a12, a13\")\n",
    "\n",
    "ST= [(d14sol5[i]==a13*d13sol5[i]+a12*d12sol5[i]+a11*d11sol5[i]+a10*d10sol5[i]+a9*d9sol5[i]+a8*d8sol5[i]+a7*d7sol5[i]+a6*d6sol5[i]+a5*d5sol5[i]+a4*d4sol5[i]+a3*d3sol5[i]+a2*d2sol5[i]+a1*dsol5[i]+a0*sol5[i]) for i in [0..n]]\n",
    "solST=solve(ST,a0, a1,a2,a3, a4,a5, a6, a7, a8, a9, a10, a11, a12, a13); solST"
   ]
  },
  {
   "cell_type": "code",
   "execution_count": 134,
   "metadata": {},
   "outputs": [],
   "source": [
    "a0 = -3906250000 \n",
    "a1 = 4687500000\n",
    "a2 = -2796875000 \n",
    "a3 = 1008750000 \n",
    "a4 = -225190625 \n",
    "a5 = 25629150\n",
    "a6 = 367875\n",
    "a7 = -189624 \n",
    "a8 = -233730\n",
    "a9 = 116436\n",
    "a10 = -28490\n",
    "a11 = 4440\n",
    "a12 = -461\n",
    "a13 = 30"
   ]
  },
  {
   "cell_type": "markdown",
   "metadata": {},
   "source": [
    "Veiem que la equació diferencial homogènia amb coeficients constants:\n",
    "$x^{(14)}= 30x^{(13)}-461x^{(12)}+4440x^{(11)}-28490x^{(10)}+116436x^{(9)}-233730x^{(8)}-189624x^{(7)}+367875x^{(6)}+25629150x^{(5)}-225190625x^{(4)}+1008750000x^{(3)}-2796875000x^{(2)}+4687500000x^{(1)}+-3906250000x$"
   ]
  },
  {
   "cell_type": "markdown",
   "metadata": {},
   "source": [
    "té x4, x5, x6, x7 com a solucions"
   ]
  },
  {
   "cell_type": "code",
   "execution_count": 141,
   "metadata": {},
   "outputs": [
    {
     "data": {
      "text/plain": [
       "[True, True, True, True]"
      ]
     },
     "execution_count": 141,
     "metadata": {},
     "output_type": "execute_result"
    }
   ],
   "source": [
    "sols7=[x4, x5, x6, x7]\n",
    "[((diff(sols7[i], t, 14)-(a13*diff(sols7[i], t, 13)+a12*diff(sols7[i], t, 12)+a11*diff(sols7[i], t, 11)+a10*diff(sols7[i], t, 10)+a9*diff(sols7[i], t, 9)+a8*diff(sols7[i], t, 8)+a7*diff(sols7[i], t, 7)+a6*diff(sols7[i], t, 6)+a5*diff(sols7[i], t, 5)+a4*diff(sols7[i], t, 4)+a3*diff(sols7[i], t, 3)+a2*diff(sols7[i], t, 2)+a1*diff(sols7[i], t)+a0*sols7[i])).n()==0) for i in [0..3]]"
   ]
  },
  {
   "cell_type": "markdown",
   "metadata": {},
   "source": [
    "Per tant, observem que les 4 són solució i com hem vist abans, és d'ordre mínim"
   ]
  },
  {
   "cell_type": "markdown",
   "metadata": {},
   "source": [
    "Ara, resolem la NO homogènia, que tingui x1 com a solució. Volem trobar $g(t)$ tal que:\n",
    "\n",
    "$x^{(14)}- 30x^{(13)}+461x^{(12)}-4440x^{(11)}+28490x^{(10)}-116436x^{(9)}+233730x^{(8)}+189624x^{(7)}-367875x^{(6)}-25629150x^{(5)}+225190625x^{(4)}-1008750000x^{(3)}+2796875000x^{(2)}-4687500000x^{(1)}+3906250000x = g(t)$\n",
    "\n",
    "tingui x1 com a solució"
   ]
  },
  {
   "cell_type": "code",
   "execution_count": 142,
   "metadata": {},
   "outputs": [
    {
     "data": {
      "text/plain": [
       "e^(2*t)"
      ]
     },
     "execution_count": 142,
     "metadata": {},
     "output_type": "execute_result"
    }
   ],
   "source": [
    "x1"
   ]
  },
  {
   "cell_type": "code",
   "execution_count": 143,
   "metadata": {},
   "outputs": [
    {
     "data": {
      "text/plain": [
       "454354240*e^(2*t)"
      ]
     },
     "execution_count": 143,
     "metadata": {},
     "output_type": "execute_result"
    }
   ],
   "source": [
    "(diff(x1, t, 14)-(a13*diff(x1, t, 13)+a12*diff(x1, t, 12)+a11*diff(x1, t, 11)+a10*diff(x1, t, 10)+a9*diff(x1, t, 9)+a8*diff(x1, t, 8)+a7*diff(x1, t, 7)+a6*diff(x1, t, 6)+a5*diff(x1, t, 5)+a4*diff(x1, t, 4)+a3*diff(x1, t, 3)+a2*diff(x1, t, 2)+a1*diff(x1, t)+a0*x1))"
   ]
  },
  {
   "cell_type": "markdown",
   "metadata": {},
   "source": [
    "Per tant, definim"
   ]
  },
  {
   "cell_type": "code",
   "execution_count": 144,
   "metadata": {},
   "outputs": [],
   "source": [
    "g=function(\"g\")(t)\n",
    "g=454354240*e^(2*t)"
   ]
  },
  {
   "cell_type": "markdown",
   "metadata": {},
   "source": [
    "Notem que en efecte és solució"
   ]
  },
  {
   "cell_type": "code",
   "execution_count": 146,
   "metadata": {},
   "outputs": [
    {
     "data": {
      "text/plain": [
       "True"
      ]
     },
     "execution_count": 146,
     "metadata": {},
     "output_type": "execute_result"
    }
   ],
   "source": [
    "(diff(x1, t, 14)-(a13*diff(x1, t, 13)+a12*diff(x1, t, 12)+a11*diff(x1, t, 11)+a10*diff(x1, t, 10)+a9*diff(x1, t, 9)+a8*diff(x1, t, 8)+a7*diff(x1, t, 7)+a6*diff(x1, t, 6)+a5*diff(x1, t, 5)+a4*diff(x1, t, 4)+a3*diff(x1, t, 3)+a2*diff(x1, t, 2)+a1*diff(x1, t)+a0*x1)-g(t)).n()==0"
   ]
  },
  {
   "cell_type": "markdown",
   "metadata": {},
   "source": [
    "Per tant\n",
    "\n",
    "$x^{(14)}- 30x^{(13)}+461x^{(12)}-4440x^{(11)}+28490x^{(10)}-116436x^{(9)}+233730x^{(8)}+189624x^{(7)}-367875x^{(6)}-25629150x^{(5)}+225190625x^{(4)}-1008750000x^{(3)}+2796875000x^{(2)}-4687500000x^{(1)}+3906250000x = 454354240e^{2t}$\n",
    "\n",
    "és la equació diferencial d'ordre mínim en coeficients constants que té per solució de la homogènia x4, x5, x6, x7 i x1 com a solució de la no homogènia"
   ]
  },
  {
   "cell_type": "markdown",
   "metadata": {},
   "source": [
    ":->"
   ]
  }
 ],
 "metadata": {
  "kernelspec": {
   "display_name": "SageMath 9.1",
   "language": "sage",
   "name": "sagemath"
  },
  "language_info": {
   "codemirror_mode": {
    "name": "ipython",
    "version": 3
   },
   "file_extension": ".py",
   "mimetype": "text/x-python",
   "name": "python",
   "nbconvert_exporter": "python",
   "pygments_lexer": "ipython3",
   "version": "3.7.3"
  }
 },
 "nbformat": 4,
 "nbformat_minor": 2
}
